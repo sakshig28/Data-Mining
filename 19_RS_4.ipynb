{
 "cells": [
  {
   "cell_type": "markdown",
   "id": "ed443b6d",
   "metadata": {},
   "source": [
    "# Recommender Systems 4 - Content-based Filtering"
   ]
  },
  {
   "cell_type": "markdown",
   "id": "ba1b07f9",
   "metadata": {},
   "source": [
    "### Import libraries"
   ]
  },
  {
   "cell_type": "code",
   "execution_count": 1,
   "id": "2ac5b562",
   "metadata": {},
   "outputs": [],
   "source": [
    "import pandas as pd\n",
    "import numpy as np\n",
    "import re\n",
    "import string\n",
    "import nltk\n",
    "from sklearn.feature_extraction.text import CountVectorizer\n",
    "from sklearn.feature_extraction.text import TfidfVectorizer\n",
    "from sklearn.metrics.pairwise import cosine_similarity"
   ]
  },
  {
   "cell_type": "markdown",
   "id": "3252fbd0",
   "metadata": {},
   "source": [
    "### Load data"
   ]
  },
  {
   "cell_type": "code",
   "execution_count": 2,
   "id": "dd4d3fc9",
   "metadata": {},
   "outputs": [
    {
     "data": {
      "text/plain": [
       "(152, 3)"
      ]
     },
     "execution_count": 2,
     "metadata": {},
     "output_type": "execute_result"
    }
   ],
   "source": [
    "df = pd.read_csv('data/Seattle_hotels.csv', encoding=\"latin-1\")\n",
    "df.shape"
   ]
  },
  {
   "cell_type": "markdown",
   "id": "3458cc61",
   "metadata": {},
   "source": [
    "### Examine data"
   ]
  },
  {
   "cell_type": "code",
   "execution_count": 3,
   "id": "964b2e00",
   "metadata": {},
   "outputs": [],
   "source": [
    "pd.set_option('max_colwidth', None)"
   ]
  },
  {
   "cell_type": "code",
   "execution_count": 4,
   "id": "ff76b5ab",
   "metadata": {
    "scrolled": true
   },
   "outputs": [
    {
     "data": {
      "text/html": [
       "<div>\n",
       "<style scoped>\n",
       "    .dataframe tbody tr th:only-of-type {\n",
       "        vertical-align: middle;\n",
       "    }\n",
       "\n",
       "    .dataframe tbody tr th {\n",
       "        vertical-align: top;\n",
       "    }\n",
       "\n",
       "    .dataframe thead th {\n",
       "        text-align: right;\n",
       "    }\n",
       "</style>\n",
       "<table border=\"1\" class=\"dataframe\">\n",
       "  <thead>\n",
       "    <tr style=\"text-align: right;\">\n",
       "      <th></th>\n",
       "      <th>name</th>\n",
       "      <th>address</th>\n",
       "      <th>desc</th>\n",
       "    </tr>\n",
       "  </thead>\n",
       "  <tbody>\n",
       "    <tr>\n",
       "      <th>0</th>\n",
       "      <td>Hilton Garden Seattle Downtown</td>\n",
       "      <td>1821 Boren Avenue, Seattle Washington 98101 USA</td>\n",
       "      <td>Located on the southern tip of Lake Union, the Hilton Garden Inn Seattle Downtown hotel is perfectly located for business and leisure. \\nThe neighborhood is home to numerous major international companies including Amazon, Google and the Bill &amp; Melinda Gates Foundation. A wealth of eclectic restaurants and bars make this area of Seattle one of the most sought out by locals and visitors. Our proximity to Lake Union allows visitors to take in some of the Pacific Northwest's majestic scenery and enjoy outdoor activities like kayaking and sailing. over 2,000 sq. ft. of versatile space and a complimentary business center. State-of-the-art A/V technology and our helpful staff will guarantee your conference, cocktail reception or wedding is a success. Refresh in the sparkling saltwater pool, or energize with the latest equipment in the 24-hour fitness center. Tastefully decorated and flooded with natural light, our guest rooms and suites offer everything you need to relax and stay productive. Unwind in the bar, and enjoy American cuisine for breakfast, lunch and dinner in our restaurant. The 24-hour Pavilion Pantry? stocks a variety of snacks, drinks and sundries.</td>\n",
       "    </tr>\n",
       "    <tr>\n",
       "      <th>1</th>\n",
       "      <td>Sheraton Grand Seattle</td>\n",
       "      <td>1400 6th Avenue, Seattle, Washington 98101 USA</td>\n",
       "      <td>Located in the city's vibrant core, the Sheraton Grand Seattle provides a gateway to the diverse sights and sounds of the Pacific Northwest. Step out of our front doors to find gourmet dining and bars, world-class shopping, exciting entertainment, and iconic local attractions including the Pike Place Market, Space Needle and Chihuly Garden &amp; Glass Museum. As one of only seven Sheraton hotels in North America to earn the esteemed Grand designation, guests can book confidently knowing they?re receiving the highest benchmark on product and service offerings available. Experience our recently completed multimillion-dollar transformation featuring all new guest rooms, an expanded Sheraton Club Lounge, and modern meeting &amp; event spaces. Gather in our stylish new lobby and enjoy our private art collection featuring local artists while enjoying your favorite beverage from Starbucks. The Sheraton Grand features several dining options including Loulay Kitchen &amp; Bar by James Beard award winning chef Thierry Rautureau.</td>\n",
       "    </tr>\n",
       "    <tr>\n",
       "      <th>2</th>\n",
       "      <td>Crowne Plaza Seattle Downtown</td>\n",
       "      <td>1113 6th Ave, Seattle, WA 98101</td>\n",
       "      <td>Located in the heart of downtown Seattle, the award-winning \\nCrowne Plaza Hotel Seattle ? Downtown offers an exceptional blend of service, style and comfort. You?ll notice Cool, Comfortable and Unconventional touches that set us apart as soon as you step inside. Marvel at stunning views of the city lights while relaxing in our new Sleep Advantage? Beds. Enjoy complimentary wireless Internet throughout the hotel and amenities to help you relax like our Temple Spa? Sleep Tight Amenity kits featuring lavender spray and lotions to help you rejuvenate and unwind. Enjoy an invigorating workout at our 24-hour fitness center, get dining suggestions from our expert concierge or savor sumptuous cuisine at our Regatta Bar &amp; Grille restaurant where you can enjoy Happy Hour in our lounge daily from 4pm - 7pm and monthly drink specials. Come and experience all that The Emerald City has to offer with us!</td>\n",
       "    </tr>\n",
       "    <tr>\n",
       "      <th>3</th>\n",
       "      <td>Kimpton Hotel Monaco Seattle</td>\n",
       "      <td>1101 4th Ave, Seattle, WA98101</td>\n",
       "      <td>What?s near our hotel downtown Seattle location? The better \\nquestion might be what?s not nearby. In addition to being one of the hotels near Pike Place Market, here?s just a small sampling of the rest. Columbia Center, whose Sky View Observatory on the 73rd floor is the tallest public viewing area west of the Mississippi Historic 5th Avenue Theatre, home to musical productions Seattle Central Library, an architectural marvel. Within half a mile: The must-see Pike Place Market, which houses the original Starbucks Pioneer Square, Seattle?s original downtown. Seattle Art Museum. Fantastic shopping, including the flagship Nordstrom, Nordstrom Rack, Macy?s, Columbia Sportswear, Louis Vuitton, Arcteryx, and oodles of independent boutiques. The Great Wheel. Washington State Convention Center. Within about a mile: The iconic Space Needle.  Bell Street Pier Cruise Terminal at Pier 66. Sports stadiums CenturyLink Field and Safeco Field, home to the Seattle Seahawks, Seattle Mariners, and Seattle Sounders.</td>\n",
       "    </tr>\n",
       "    <tr>\n",
       "      <th>4</th>\n",
       "      <td>The Westin Seattle</td>\n",
       "      <td>1900 5th Avenue,ï¿½Seattle,ï¿½Washingtonï¿½98101ï¿½USA</td>\n",
       "      <td>Situated amid incredible shopping and iconic attractions, The Westin Seattle is a contemporary haven in a prime location. Relax and recharge in stylish accommodations, modern comforts, signature Heavenlyï¿½ amenities and gorgeous views of the Seattle skyline, Puget Sound, Lake Union and Cascade mountain range. Experience our newly renovated lobby including 1900 FIFTH, our new lobby bar offering a carefully curated wine and crafted cocktail experience. Explore a spectacular collection of celebrated attractions, including the Space Needle, CenturyLink Field, The Washington State Convention Center, Pike Place Market and the Seattle Waterfront. Host unforgettable meetings and social engagements in more than 70,000 square feet of event space, enhanced by expert planning and custom catering. Refresh in our pool or energize your mind and body in our sleek WestinWORKOUTï¿½ Fitness Studio. Designed to reflect the style and substance of the Emerald City, our hotel is a welcoming haven near the best of downtown Seattle.</td>\n",
       "    </tr>\n",
       "  </tbody>\n",
       "</table>\n",
       "</div>"
      ],
      "text/plain": [
       "                             name  \\\n",
       "0  Hilton Garden Seattle Downtown   \n",
       "1          Sheraton Grand Seattle   \n",
       "2   Crowne Plaza Seattle Downtown   \n",
       "3   Kimpton Hotel Monaco Seattle    \n",
       "4              The Westin Seattle   \n",
       "\n",
       "                                                  address  \\\n",
       "0         1821 Boren Avenue, Seattle Washington 98101 USA   \n",
       "1          1400 6th Avenue, Seattle, Washington 98101 USA   \n",
       "2                         1113 6th Ave, Seattle, WA 98101   \n",
       "3                          1101 4th Ave, Seattle, WA98101   \n",
       "4  1900 5th Avenue,ï¿½Seattle,ï¿½Washingtonï¿½98101ï¿½USA   \n",
       "\n",
       "                                                                                                                                                                                                                                                                                                                                                                                                                                                                                                                                                                                                                                                                                                                                                                                                                                                                                                                                                                                                                                                                                                                                                                                                                     desc  \n",
       "0  Located on the southern tip of Lake Union, the Hilton Garden Inn Seattle Downtown hotel is perfectly located for business and leisure. \\nThe neighborhood is home to numerous major international companies including Amazon, Google and the Bill & Melinda Gates Foundation. A wealth of eclectic restaurants and bars make this area of Seattle one of the most sought out by locals and visitors. Our proximity to Lake Union allows visitors to take in some of the Pacific Northwest's majestic scenery and enjoy outdoor activities like kayaking and sailing. over 2,000 sq. ft. of versatile space and a complimentary business center. State-of-the-art A/V technology and our helpful staff will guarantee your conference, cocktail reception or wedding is a success. Refresh in the sparkling saltwater pool, or energize with the latest equipment in the 24-hour fitness center. Tastefully decorated and flooded with natural light, our guest rooms and suites offer everything you need to relax and stay productive. Unwind in the bar, and enjoy American cuisine for breakfast, lunch and dinner in our restaurant. The 24-hour Pavilion Pantry? stocks a variety of snacks, drinks and sundries.  \n",
       "1                                                                                                                                                          Located in the city's vibrant core, the Sheraton Grand Seattle provides a gateway to the diverse sights and sounds of the Pacific Northwest. Step out of our front doors to find gourmet dining and bars, world-class shopping, exciting entertainment, and iconic local attractions including the Pike Place Market, Space Needle and Chihuly Garden & Glass Museum. As one of only seven Sheraton hotels in North America to earn the esteemed Grand designation, guests can book confidently knowing they?re receiving the highest benchmark on product and service offerings available. Experience our recently completed multimillion-dollar transformation featuring all new guest rooms, an expanded Sheraton Club Lounge, and modern meeting & event spaces. Gather in our stylish new lobby and enjoy our private art collection featuring local artists while enjoying your favorite beverage from Starbucks. The Sheraton Grand features several dining options including Loulay Kitchen & Bar by James Beard award winning chef Thierry Rautureau.  \n",
       "2                                                                                                                                                                                                                                                                                 Located in the heart of downtown Seattle, the award-winning \\nCrowne Plaza Hotel Seattle ? Downtown offers an exceptional blend of service, style and comfort. You?ll notice Cool, Comfortable and Unconventional touches that set us apart as soon as you step inside. Marvel at stunning views of the city lights while relaxing in our new Sleep Advantage? Beds. Enjoy complimentary wireless Internet throughout the hotel and amenities to help you relax like our Temple Spa? Sleep Tight Amenity kits featuring lavender spray and lotions to help you rejuvenate and unwind. Enjoy an invigorating workout at our 24-hour fitness center, get dining suggestions from our expert concierge or savor sumptuous cuisine at our Regatta Bar & Grille restaurant where you can enjoy Happy Hour in our lounge daily from 4pm - 7pm and monthly drink specials. Come and experience all that The Emerald City has to offer with us!  \n",
       "3                                                                                                                                                                    What?s near our hotel downtown Seattle location? The better \\nquestion might be what?s not nearby. In addition to being one of the hotels near Pike Place Market, here?s just a small sampling of the rest. Columbia Center, whose Sky View Observatory on the 73rd floor is the tallest public viewing area west of the Mississippi Historic 5th Avenue Theatre, home to musical productions Seattle Central Library, an architectural marvel. Within half a mile: The must-see Pike Place Market, which houses the original Starbucks Pioneer Square, Seattle?s original downtown. Seattle Art Museum. Fantastic shopping, including the flagship Nordstrom, Nordstrom Rack, Macy?s, Columbia Sportswear, Louis Vuitton, Arcteryx, and oodles of independent boutiques. The Great Wheel. Washington State Convention Center. Within about a mile: The iconic Space Needle.  Bell Street Pier Cruise Terminal at Pier 66. Sports stadiums CenturyLink Field and Safeco Field, home to the Seattle Seahawks, Seattle Mariners, and Seattle Sounders.  \n",
       "4                                                                                                                                                        Situated amid incredible shopping and iconic attractions, The Westin Seattle is a contemporary haven in a prime location. Relax and recharge in stylish accommodations, modern comforts, signature Heavenlyï¿½ amenities and gorgeous views of the Seattle skyline, Puget Sound, Lake Union and Cascade mountain range. Experience our newly renovated lobby including 1900 FIFTH, our new lobby bar offering a carefully curated wine and crafted cocktail experience. Explore a spectacular collection of celebrated attractions, including the Space Needle, CenturyLink Field, The Washington State Convention Center, Pike Place Market and the Seattle Waterfront. Host unforgettable meetings and social engagements in more than 70,000 square feet of event space, enhanced by expert planning and custom catering. Refresh in our pool or energize your mind and body in our sleek WestinWORKOUTï¿½ Fitness Studio. Designed to reflect the style and substance of the Emerald City, our hotel is a welcoming haven near the best of downtown Seattle.  "
      ]
     },
     "execution_count": 4,
     "metadata": {},
     "output_type": "execute_result"
    }
   ],
   "source": [
    "df.head()"
   ]
  },
  {
   "cell_type": "markdown",
   "id": "302b9f2c",
   "metadata": {},
   "source": [
    "### Review token (vocabulary) frequency distribution before removing stop words"
   ]
  },
  {
   "cell_type": "code",
   "execution_count": 5,
   "id": "b7f8d318",
   "metadata": {
    "scrolled": true
   },
   "outputs": [
    {
     "name": "stdout",
     "output_type": "stream",
     "text": [
      "Top 20 words in hotel description before removing stop words\n"
     ]
    },
    {
     "data": {
      "text/plain": [
       "[('the', 1245),\n",
       " ('and', 1055),\n",
       " ('of', 531),\n",
       " ('seattle', 493),\n",
       " ('to', 471),\n",
       " ('in', 443),\n",
       " ('our', 355),\n",
       " ('hotel', 289),\n",
       " ('with', 279),\n",
       " ('is', 269),\n",
       " ('you', 253),\n",
       " ('at', 229),\n",
       " ('from', 222),\n",
       " ('for', 215),\n",
       " ('your', 186),\n",
       " ('or', 160),\n",
       " ('center', 150),\n",
       " ('are', 135),\n",
       " ('downtown', 132),\n",
       " ('on', 128)]"
      ]
     },
     "execution_count": 5,
     "metadata": {},
     "output_type": "execute_result"
    }
   ],
   "source": [
    "def get_top_n_words(corpus, n=None):\n",
    "    vec = CountVectorizer().fit(corpus)\n",
    "    bag_of_words = vec.transform(corpus)\n",
    "    sum_words = bag_of_words.sum(axis=0) \n",
    "    words_freq = [(word, sum_words[0, idx]) for word, idx in vec.vocabulary_.items()]\n",
    "    words_freq =sorted(words_freq, key = lambda x: x[1], reverse=True)\n",
    "    return words_freq[:n]\n",
    "common_words = get_top_n_words(df['desc'], 20)\n",
    "print('Top 20 words in hotel description before removing stop words')\n",
    "common_words"
   ]
  },
  {
   "cell_type": "markdown",
   "id": "a69a0060",
   "metadata": {},
   "source": [
    "### Review token (vocabulary) frequency distribution after removing stop words"
   ]
  },
  {
   "cell_type": "code",
   "execution_count": 6,
   "id": "ed320f32",
   "metadata": {},
   "outputs": [
    {
     "name": "stdout",
     "output_type": "stream",
     "text": [
      "Top 20 words in hotel description after removing stop words\n"
     ]
    },
    {
     "data": {
      "text/plain": [
       "[('seattle', 493),\n",
       " ('hotel', 289),\n",
       " ('center', 150),\n",
       " ('downtown', 132),\n",
       " ('½s', 123),\n",
       " ('free', 123),\n",
       " ('located', 107),\n",
       " ('rooms', 105),\n",
       " ('stay', 105),\n",
       " ('place', 102),\n",
       " ('airport', 99),\n",
       " ('market', 97),\n",
       " ('space', 94),\n",
       " ('enjoy', 93),\n",
       " ('pike', 88),\n",
       " ('business', 87),\n",
       " ('inn', 85),\n",
       " ('just', 80),\n",
       " ('room', 75),\n",
       " ('breakfast', 67)]"
      ]
     },
     "execution_count": 6,
     "metadata": {},
     "output_type": "execute_result"
    }
   ],
   "source": [
    "def get_top_n_words(corpus, n=None):\n",
    "    vec = CountVectorizer(stop_words='english').fit(corpus)\n",
    "    bag_of_words = vec.transform(corpus)\n",
    "    sum_words = bag_of_words.sum(axis=0) \n",
    "    words_freq = [(word, sum_words[0, idx]) for word, idx in vec.vocabulary_.items()]\n",
    "    words_freq =sorted(words_freq, key = lambda x: x[1], reverse=True)\n",
    "    return words_freq[:n]\n",
    "common_words = get_top_n_words(df['desc'], 20)\n",
    "print('Top 20 words in hotel description after removing stop words')\n",
    "common_words"
   ]
  },
  {
   "cell_type": "markdown",
   "id": "7954462d",
   "metadata": {},
   "source": [
    "### Bigrams frequency distribution before removing stop words"
   ]
  },
  {
   "cell_type": "code",
   "execution_count": 7,
   "id": "1a63073b",
   "metadata": {},
   "outputs": [
    {
     "name": "stdout",
     "output_type": "stream",
     "text": [
      "Top 20 bigrams in hotel description before removing stop words\n"
     ]
    },
    {
     "data": {
      "text/plain": [
       "[('in the', 145),\n",
       " ('of the', 131),\n",
       " ('place market', 85),\n",
       " ('pike place', 84),\n",
       " ('to the', 80),\n",
       " ('from the', 79),\n",
       " ('and the', 71),\n",
       " ('downtown seattle', 71),\n",
       " ('space needle', 65),\n",
       " ('at the', 65),\n",
       " ('in seattle', 58),\n",
       " ('the seattle', 57),\n",
       " ('our hotel', 54),\n",
       " ('hotel is', 48),\n",
       " ('of our', 43),\n",
       " ('one of', 41),\n",
       " ('the space', 40),\n",
       " ('of seattle', 37),\n",
       " ('center and', 37),\n",
       " ('wi fi', 37)]"
      ]
     },
     "execution_count": 7,
     "metadata": {},
     "output_type": "execute_result"
    }
   ],
   "source": [
    "def get_top_n_bigram(corpus, n=None):\n",
    "    vec = CountVectorizer(ngram_range=(2, 2)).fit(corpus)\n",
    "    bag_of_words = vec.transform(corpus)\n",
    "    sum_words = bag_of_words.sum(axis=0) \n",
    "    words_freq = [(word, sum_words[0, idx]) for word, idx in vec.vocabulary_.items()]\n",
    "    words_freq =sorted(words_freq, key = lambda x: x[1], reverse=True)\n",
    "    return words_freq[:n]\n",
    "common_words = get_top_n_bigram(df['desc'], 20)\n",
    "print('Top 20 bigrams in hotel description before removing stop words')\n",
    "common_words"
   ]
  },
  {
   "cell_type": "markdown",
   "id": "0f11f2d7",
   "metadata": {},
   "source": [
    "### Bigrams frequency distribution after removing stop words"
   ]
  },
  {
   "cell_type": "code",
   "execution_count": 8,
   "id": "47851ba7",
   "metadata": {},
   "outputs": [
    {
     "name": "stdout",
     "output_type": "stream",
     "text": [
      "Top 20 bigrams in hotel description after removing stop words\n"
     ]
    },
    {
     "data": {
      "text/plain": [
       "[('place market', 85),\n",
       " ('pike place', 84),\n",
       " ('downtown seattle', 72),\n",
       " ('space needle', 65),\n",
       " ('wi fi', 37),\n",
       " ('seattleï ½s', 35),\n",
       " ('guest rooms', 34),\n",
       " ('pacific northwest', 33),\n",
       " ('fitness center', 32),\n",
       " ('seattle hotel', 32),\n",
       " ('lake union', 29),\n",
       " ('24 hour', 28),\n",
       " ('hotel seattle', 28),\n",
       " ('business center', 27),\n",
       " ('international airport', 27),\n",
       " ('youï ½re', 26),\n",
       " ('seattle airport', 26),\n",
       " ('high speed', 25),\n",
       " ('seattle tacoma', 25),\n",
       " ('university washington', 24)]"
      ]
     },
     "execution_count": 8,
     "metadata": {},
     "output_type": "execute_result"
    }
   ],
   "source": [
    "def get_top_n_bigram(corpus, n=None):\n",
    "    vec = CountVectorizer(ngram_range=(2, 2), stop_words='english').fit(corpus)\n",
    "    bag_of_words = vec.transform(corpus)\n",
    "    sum_words = bag_of_words.sum(axis=0) \n",
    "    words_freq = [(word, sum_words[0, idx]) for word, idx in vec.vocabulary_.items()]\n",
    "    words_freq =sorted(words_freq, key = lambda x: x[1], reverse=True)\n",
    "    return words_freq[:n]\n",
    "common_words = get_top_n_bigram(df['desc'], 20)\n",
    "print('Top 20 bigrams in hotel description after removing stop words')\n",
    "common_words"
   ]
  },
  {
   "cell_type": "markdown",
   "id": "1a1e2855",
   "metadata": {},
   "source": [
    "### Trigrams frequency distribution before removing stop words"
   ]
  },
  {
   "cell_type": "code",
   "execution_count": 9,
   "id": "c53df64f",
   "metadata": {},
   "outputs": [
    {
     "name": "stdout",
     "output_type": "stream",
     "text": [
      "Top 20 trigrams in hotel description before removing stop words\n"
     ]
    },
    {
     "data": {
      "text/plain": [
       "[('pike place market', 83),\n",
       " ('the space needle', 38),\n",
       " ('the heart of', 33),\n",
       " ('in the heart', 28),\n",
       " ('located in the', 25),\n",
       " ('the pacific northwest', 23),\n",
       " ('place market and', 23),\n",
       " ('university of washington', 23),\n",
       " ('one of the', 22),\n",
       " ('seattle tacoma international', 21),\n",
       " ('tacoma international airport', 21),\n",
       " ('easy access to', 20),\n",
       " ('free wi fi', 19),\n",
       " ('washington state convention', 17),\n",
       " ('of downtown seattle', 16),\n",
       " ('seattle art museum', 16),\n",
       " ('our hotel is', 16),\n",
       " ('state convention center', 15),\n",
       " ('hotel in seattle', 15),\n",
       " ('bed and breakfast', 15)]"
      ]
     },
     "execution_count": 9,
     "metadata": {},
     "output_type": "execute_result"
    }
   ],
   "source": [
    "def get_top_n_trigram(corpus, n=None):\n",
    "    vec = CountVectorizer(ngram_range=(3, 3)).fit(corpus)\n",
    "    bag_of_words = vec.transform(corpus)\n",
    "    sum_words = bag_of_words.sum(axis=0) \n",
    "    words_freq = [(word, sum_words[0, idx]) for word, idx in vec.vocabulary_.items()]\n",
    "    words_freq =sorted(words_freq, key = lambda x: x[1], reverse=True)\n",
    "    return words_freq[:n]\n",
    "common_words = get_top_n_trigram(df['desc'], 20)\n",
    "print('Top 20 trigrams in hotel description before removing stop words')\n",
    "common_words"
   ]
  },
  {
   "cell_type": "markdown",
   "id": "32164729",
   "metadata": {},
   "source": [
    "### Trigrams frequency distribution after removing stop words"
   ]
  },
  {
   "cell_type": "code",
   "execution_count": 10,
   "id": "c348f567",
   "metadata": {},
   "outputs": [
    {
     "name": "stdout",
     "output_type": "stream",
     "text": [
      "Top 20 trigrams in hotel description after removing stop words\n"
     ]
    },
    {
     "data": {
      "text/plain": [
       "[('pike place market', 83),\n",
       " ('seattle tacoma international', 21),\n",
       " ('tacoma international airport', 21),\n",
       " ('free wi fi', 19),\n",
       " ('washington state convention', 17),\n",
       " ('seattle art museum', 16),\n",
       " ('place market seattle', 16),\n",
       " ('state convention center', 15),\n",
       " ('high speed internet', 14),\n",
       " ('space needle pike', 11),\n",
       " ('needle pike place', 11),\n",
       " ('south lake union', 11),\n",
       " ('downtown seattle hotel', 10),\n",
       " ('sea tac airport', 10),\n",
       " ('home away home', 9),\n",
       " ('heart downtown seattle', 8),\n",
       " ('link light rail', 8),\n",
       " ('free high speed', 8),\n",
       " ('24 hour fitness', 7),\n",
       " ('000 square feet', 7)]"
      ]
     },
     "execution_count": 10,
     "metadata": {},
     "output_type": "execute_result"
    }
   ],
   "source": [
    "def get_top_n_trigram(corpus, n=None):\n",
    "    vec = CountVectorizer(ngram_range=(3, 3), stop_words='english').fit(corpus)\n",
    "    bag_of_words = vec.transform(corpus)\n",
    "    sum_words = bag_of_words.sum(axis=0) \n",
    "    words_freq = [(word, sum_words[0, idx]) for word, idx in vec.vocabulary_.items()]\n",
    "    words_freq =sorted(words_freq, key = lambda x: x[1], reverse=True)\n",
    "    return words_freq[:n]\n",
    "common_words = get_top_n_trigram(df['desc'], 20)\n",
    "print('Top 20 trigrams in hotel description after removing stop words')\n",
    "common_words"
   ]
  },
  {
   "cell_type": "markdown",
   "id": "7afe5462",
   "metadata": {},
   "source": [
    "### Preprocess data"
   ]
  },
  {
   "cell_type": "code",
   "execution_count": 11,
   "id": "1271de13",
   "metadata": {},
   "outputs": [],
   "source": [
    "# Define stop words list\n",
    "stopwords = nltk.corpus.stopwords.words('english')     # All English Stopwords"
   ]
  },
  {
   "cell_type": "code",
   "execution_count": 12,
   "id": "fe93ef21",
   "metadata": {},
   "outputs": [],
   "source": [
    "# Instantiate Porter stemmer\n",
    "ps = nltk.PorterStemmer()"
   ]
  },
  {
   "cell_type": "code",
   "execution_count": 13,
   "id": "803babbc",
   "metadata": {},
   "outputs": [],
   "source": [
    "# Create function to clean_text\n",
    "def clean_text(text):\n",
    "    text = \"\".join([word.lower() for word in text if word not in string.punctuation])\n",
    "    tokens = re.split('\\W+', text)\n",
    "    text = [ps.stem(word) for word in tokens if word not in stopwords]\n",
    "    text_2 = ' '.join(word for word in text)\n",
    "    return text_2"
   ]
  },
  {
   "cell_type": "code",
   "execution_count": 14,
   "id": "218f1603",
   "metadata": {},
   "outputs": [
    {
     "data": {
      "text/html": [
       "<div>\n",
       "<style scoped>\n",
       "    .dataframe tbody tr th:only-of-type {\n",
       "        vertical-align: middle;\n",
       "    }\n",
       "\n",
       "    .dataframe tbody tr th {\n",
       "        vertical-align: top;\n",
       "    }\n",
       "\n",
       "    .dataframe thead th {\n",
       "        text-align: right;\n",
       "    }\n",
       "</style>\n",
       "<table border=\"1\" class=\"dataframe\">\n",
       "  <thead>\n",
       "    <tr style=\"text-align: right;\">\n",
       "      <th></th>\n",
       "      <th>name</th>\n",
       "      <th>address</th>\n",
       "      <th>desc</th>\n",
       "      <th>desc_clean</th>\n",
       "    </tr>\n",
       "  </thead>\n",
       "  <tbody>\n",
       "    <tr>\n",
       "      <th>0</th>\n",
       "      <td>Hilton Garden Seattle Downtown</td>\n",
       "      <td>1821 Boren Avenue, Seattle Washington 98101 USA</td>\n",
       "      <td>Located on the southern tip of Lake Union, the Hilton Garden Inn Seattle Downtown hotel is perfectly located for business and leisure. \\nThe neighborhood is home to numerous major international companies including Amazon, Google and the Bill &amp; Melinda Gates Foundation. A wealth of eclectic restaurants and bars make this area of Seattle one of the most sought out by locals and visitors. Our proximity to Lake Union allows visitors to take in some of the Pacific Northwest's majestic scenery and enjoy outdoor activities like kayaking and sailing. over 2,000 sq. ft. of versatile space and a complimentary business center. State-of-the-art A/V technology and our helpful staff will guarantee your conference, cocktail reception or wedding is a success. Refresh in the sparkling saltwater pool, or energize with the latest equipment in the 24-hour fitness center. Tastefully decorated and flooded with natural light, our guest rooms and suites offer everything you need to relax and stay productive. Unwind in the bar, and enjoy American cuisine for breakfast, lunch and dinner in our restaurant. The 24-hour Pavilion Pantry? stocks a variety of snacks, drinks and sundries.</td>\n",
       "      <td>locat southern tip lake union hilton garden inn seattl downtown hotel perfectli locat busi leisur neighborhood home numer major intern compani includ amazon googl bill melinda gate foundat wealth eclect restaur bar make area seattl one sought local visitor proxim lake union allow visitor take pacif northwest majest sceneri enjoy outdoor activ like kayak sail 2000 sq ft versatil space complimentari busi center stateoftheart av technolog help staff guarante confer cocktail recept wed success refresh sparkl saltwat pool energ latest equip 24hour fit center tast decor flood natur light guest room suit offer everyth need relax stay product unwind bar enjoy american cuisin breakfast lunch dinner restaur 24hour pavilion pantri stock varieti snack drink sundri</td>\n",
       "    </tr>\n",
       "    <tr>\n",
       "      <th>1</th>\n",
       "      <td>Sheraton Grand Seattle</td>\n",
       "      <td>1400 6th Avenue, Seattle, Washington 98101 USA</td>\n",
       "      <td>Located in the city's vibrant core, the Sheraton Grand Seattle provides a gateway to the diverse sights and sounds of the Pacific Northwest. Step out of our front doors to find gourmet dining and bars, world-class shopping, exciting entertainment, and iconic local attractions including the Pike Place Market, Space Needle and Chihuly Garden &amp; Glass Museum. As one of only seven Sheraton hotels in North America to earn the esteemed Grand designation, guests can book confidently knowing they?re receiving the highest benchmark on product and service offerings available. Experience our recently completed multimillion-dollar transformation featuring all new guest rooms, an expanded Sheraton Club Lounge, and modern meeting &amp; event spaces. Gather in our stylish new lobby and enjoy our private art collection featuring local artists while enjoying your favorite beverage from Starbucks. The Sheraton Grand features several dining options including Loulay Kitchen &amp; Bar by James Beard award winning chef Thierry Rautureau.</td>\n",
       "      <td>locat citi vibrant core sheraton grand seattl provid gateway divers sight sound pacif northwest step front door find gourmet dine bar worldclass shop excit entertain icon local attract includ pike place market space needl chihuli garden glass museum one seven sheraton hotel north america earn esteem grand design guest book confid know theyr receiv highest benchmark product servic offer avail experi recent complet multimilliondollar transform featur new guest room expand sheraton club loung modern meet event space gather stylish new lobbi enjoy privat art collect featur local artist enjoy favorit beverag starbuck sheraton grand featur sever dine option includ loulay kitchen bar jame beard award win chef thierri rautureau</td>\n",
       "    </tr>\n",
       "    <tr>\n",
       "      <th>2</th>\n",
       "      <td>Crowne Plaza Seattle Downtown</td>\n",
       "      <td>1113 6th Ave, Seattle, WA 98101</td>\n",
       "      <td>Located in the heart of downtown Seattle, the award-winning \\nCrowne Plaza Hotel Seattle ? Downtown offers an exceptional blend of service, style and comfort. You?ll notice Cool, Comfortable and Unconventional touches that set us apart as soon as you step inside. Marvel at stunning views of the city lights while relaxing in our new Sleep Advantage? Beds. Enjoy complimentary wireless Internet throughout the hotel and amenities to help you relax like our Temple Spa? Sleep Tight Amenity kits featuring lavender spray and lotions to help you rejuvenate and unwind. Enjoy an invigorating workout at our 24-hour fitness center, get dining suggestions from our expert concierge or savor sumptuous cuisine at our Regatta Bar &amp; Grille restaurant where you can enjoy Happy Hour in our lounge daily from 4pm - 7pm and monthly drink specials. Come and experience all that The Emerald City has to offer with us!</td>\n",
       "      <td>locat heart downtown seattl awardwin crown plaza hotel seattl downtown offer except blend servic style comfort youll notic cool comfort unconvent touch set us apart soon step insid marvel stun view citi light relax new sleep advantag bed enjoy complimentari wireless internet throughout hotel amen help relax like templ spa sleep tight amen kit featur lavend spray lotion help rejuven unwind enjoy invigor workout 24hour fit center get dine suggest expert concierg savor sumptuou cuisin regatta bar grill restaur enjoy happi hour loung daili 4pm 7pm monthli drink special come experi emerald citi offer us</td>\n",
       "    </tr>\n",
       "    <tr>\n",
       "      <th>3</th>\n",
       "      <td>Kimpton Hotel Monaco Seattle</td>\n",
       "      <td>1101 4th Ave, Seattle, WA98101</td>\n",
       "      <td>What?s near our hotel downtown Seattle location? The better \\nquestion might be what?s not nearby. In addition to being one of the hotels near Pike Place Market, here?s just a small sampling of the rest. Columbia Center, whose Sky View Observatory on the 73rd floor is the tallest public viewing area west of the Mississippi Historic 5th Avenue Theatre, home to musical productions Seattle Central Library, an architectural marvel. Within half a mile: The must-see Pike Place Market, which houses the original Starbucks Pioneer Square, Seattle?s original downtown. Seattle Art Museum. Fantastic shopping, including the flagship Nordstrom, Nordstrom Rack, Macy?s, Columbia Sportswear, Louis Vuitton, Arcteryx, and oodles of independent boutiques. The Great Wheel. Washington State Convention Center. Within about a mile: The iconic Space Needle.  Bell Street Pier Cruise Terminal at Pier 66. Sports stadiums CenturyLink Field and Safeco Field, home to the Seattle Seahawks, Seattle Mariners, and Seattle Sounders.</td>\n",
       "      <td>what near hotel downtown seattl locat better question might what nearbi addit one hotel near pike place market here small sampl rest columbia center whose sky view observatori 73rd floor tallest public view area west mississippi histor 5th avenu theatr home music product seattl central librari architectur marvel within half mile mustse pike place market hous origin starbuck pioneer squar seattl origin downtown seattl art museum fantast shop includ flagship nordstrom nordstrom rack maci columbia sportswear loui vuitton arcteryx oodl independ boutiqu great wheel washington state convent center within mile icon space needl bell street pier cruis termin pier 66 sport stadium centurylink field safeco field home seattl seahawk seattl marin seattl sounder</td>\n",
       "    </tr>\n",
       "    <tr>\n",
       "      <th>4</th>\n",
       "      <td>The Westin Seattle</td>\n",
       "      <td>1900 5th Avenue,ï¿½Seattle,ï¿½Washingtonï¿½98101ï¿½USA</td>\n",
       "      <td>Situated amid incredible shopping and iconic attractions, The Westin Seattle is a contemporary haven in a prime location. Relax and recharge in stylish accommodations, modern comforts, signature Heavenlyï¿½ amenities and gorgeous views of the Seattle skyline, Puget Sound, Lake Union and Cascade mountain range. Experience our newly renovated lobby including 1900 FIFTH, our new lobby bar offering a carefully curated wine and crafted cocktail experience. Explore a spectacular collection of celebrated attractions, including the Space Needle, CenturyLink Field, The Washington State Convention Center, Pike Place Market and the Seattle Waterfront. Host unforgettable meetings and social engagements in more than 70,000 square feet of event space, enhanced by expert planning and custom catering. Refresh in our pool or energize your mind and body in our sleek WestinWORKOUTï¿½ Fitness Studio. Designed to reflect the style and substance of the Emerald City, our hotel is a welcoming haven near the best of downtown Seattle.</td>\n",
       "      <td>situat amid incred shop icon attract westin seattl contemporari prime locat relax recharg stylish accommod modern comfort signatur heavenlyï ½ amen gorgeou view seattl skylin puget sound lake union cascad mountain rang experi newli renov lobbi includ 1900 fifth new lobbi bar offer care curat wine craft cocktail experi explor spectacular collect celebr attract includ space needl centurylink field washington state convent center pike place market seattl waterfront host unforgett meet social engag 70000 squar feet event space enhanc expert plan custom cater refresh pool energ mind bodi sleek westinworkoutï ½ fit studio design reflect style substanc emerald citi hotel welcom near best downtown seattl</td>\n",
       "    </tr>\n",
       "  </tbody>\n",
       "</table>\n",
       "</div>"
      ],
      "text/plain": [
       "                             name  \\\n",
       "0  Hilton Garden Seattle Downtown   \n",
       "1          Sheraton Grand Seattle   \n",
       "2   Crowne Plaza Seattle Downtown   \n",
       "3   Kimpton Hotel Monaco Seattle    \n",
       "4              The Westin Seattle   \n",
       "\n",
       "                                                  address  \\\n",
       "0         1821 Boren Avenue, Seattle Washington 98101 USA   \n",
       "1          1400 6th Avenue, Seattle, Washington 98101 USA   \n",
       "2                         1113 6th Ave, Seattle, WA 98101   \n",
       "3                          1101 4th Ave, Seattle, WA98101   \n",
       "4  1900 5th Avenue,ï¿½Seattle,ï¿½Washingtonï¿½98101ï¿½USA   \n",
       "\n",
       "                                                                                                                                                                                                                                                                                                                                                                                                                                                                                                                                                                                                                                                                                                                                                                                                                                                                                                                                                                                                                                                                                                                                                                                                                     desc  \\\n",
       "0  Located on the southern tip of Lake Union, the Hilton Garden Inn Seattle Downtown hotel is perfectly located for business and leisure. \\nThe neighborhood is home to numerous major international companies including Amazon, Google and the Bill & Melinda Gates Foundation. A wealth of eclectic restaurants and bars make this area of Seattle one of the most sought out by locals and visitors. Our proximity to Lake Union allows visitors to take in some of the Pacific Northwest's majestic scenery and enjoy outdoor activities like kayaking and sailing. over 2,000 sq. ft. of versatile space and a complimentary business center. State-of-the-art A/V technology and our helpful staff will guarantee your conference, cocktail reception or wedding is a success. Refresh in the sparkling saltwater pool, or energize with the latest equipment in the 24-hour fitness center. Tastefully decorated and flooded with natural light, our guest rooms and suites offer everything you need to relax and stay productive. Unwind in the bar, and enjoy American cuisine for breakfast, lunch and dinner in our restaurant. The 24-hour Pavilion Pantry? stocks a variety of snacks, drinks and sundries.   \n",
       "1                                                                                                                                                          Located in the city's vibrant core, the Sheraton Grand Seattle provides a gateway to the diverse sights and sounds of the Pacific Northwest. Step out of our front doors to find gourmet dining and bars, world-class shopping, exciting entertainment, and iconic local attractions including the Pike Place Market, Space Needle and Chihuly Garden & Glass Museum. As one of only seven Sheraton hotels in North America to earn the esteemed Grand designation, guests can book confidently knowing they?re receiving the highest benchmark on product and service offerings available. Experience our recently completed multimillion-dollar transformation featuring all new guest rooms, an expanded Sheraton Club Lounge, and modern meeting & event spaces. Gather in our stylish new lobby and enjoy our private art collection featuring local artists while enjoying your favorite beverage from Starbucks. The Sheraton Grand features several dining options including Loulay Kitchen & Bar by James Beard award winning chef Thierry Rautureau.   \n",
       "2                                                                                                                                                                                                                                                                                 Located in the heart of downtown Seattle, the award-winning \\nCrowne Plaza Hotel Seattle ? Downtown offers an exceptional blend of service, style and comfort. You?ll notice Cool, Comfortable and Unconventional touches that set us apart as soon as you step inside. Marvel at stunning views of the city lights while relaxing in our new Sleep Advantage? Beds. Enjoy complimentary wireless Internet throughout the hotel and amenities to help you relax like our Temple Spa? Sleep Tight Amenity kits featuring lavender spray and lotions to help you rejuvenate and unwind. Enjoy an invigorating workout at our 24-hour fitness center, get dining suggestions from our expert concierge or savor sumptuous cuisine at our Regatta Bar & Grille restaurant where you can enjoy Happy Hour in our lounge daily from 4pm - 7pm and monthly drink specials. Come and experience all that The Emerald City has to offer with us!   \n",
       "3                                                                                                                                                                    What?s near our hotel downtown Seattle location? The better \\nquestion might be what?s not nearby. In addition to being one of the hotels near Pike Place Market, here?s just a small sampling of the rest. Columbia Center, whose Sky View Observatory on the 73rd floor is the tallest public viewing area west of the Mississippi Historic 5th Avenue Theatre, home to musical productions Seattle Central Library, an architectural marvel. Within half a mile: The must-see Pike Place Market, which houses the original Starbucks Pioneer Square, Seattle?s original downtown. Seattle Art Museum. Fantastic shopping, including the flagship Nordstrom, Nordstrom Rack, Macy?s, Columbia Sportswear, Louis Vuitton, Arcteryx, and oodles of independent boutiques. The Great Wheel. Washington State Convention Center. Within about a mile: The iconic Space Needle.  Bell Street Pier Cruise Terminal at Pier 66. Sports stadiums CenturyLink Field and Safeco Field, home to the Seattle Seahawks, Seattle Mariners, and Seattle Sounders.   \n",
       "4                                                                                                                                                        Situated amid incredible shopping and iconic attractions, The Westin Seattle is a contemporary haven in a prime location. Relax and recharge in stylish accommodations, modern comforts, signature Heavenlyï¿½ amenities and gorgeous views of the Seattle skyline, Puget Sound, Lake Union and Cascade mountain range. Experience our newly renovated lobby including 1900 FIFTH, our new lobby bar offering a carefully curated wine and crafted cocktail experience. Explore a spectacular collection of celebrated attractions, including the Space Needle, CenturyLink Field, The Washington State Convention Center, Pike Place Market and the Seattle Waterfront. Host unforgettable meetings and social engagements in more than 70,000 square feet of event space, enhanced by expert planning and custom catering. Refresh in our pool or energize your mind and body in our sleek WestinWORKOUTï¿½ Fitness Studio. Designed to reflect the style and substance of the Emerald City, our hotel is a welcoming haven near the best of downtown Seattle.   \n",
       "\n",
       "                                                                                                                                                                                                                                                                                                                                                                                                                                                                                                                                                                                                                                                                                                                                                                                   desc_clean  \n",
       "0  locat southern tip lake union hilton garden inn seattl downtown hotel perfectli locat busi leisur neighborhood home numer major intern compani includ amazon googl bill melinda gate foundat wealth eclect restaur bar make area seattl one sought local visitor proxim lake union allow visitor take pacif northwest majest sceneri enjoy outdoor activ like kayak sail 2000 sq ft versatil space complimentari busi center stateoftheart av technolog help staff guarante confer cocktail recept wed success refresh sparkl saltwat pool energ latest equip 24hour fit center tast decor flood natur light guest room suit offer everyth need relax stay product unwind bar enjoy american cuisin breakfast lunch dinner restaur 24hour pavilion pantri stock varieti snack drink sundri  \n",
       "1                                   locat citi vibrant core sheraton grand seattl provid gateway divers sight sound pacif northwest step front door find gourmet dine bar worldclass shop excit entertain icon local attract includ pike place market space needl chihuli garden glass museum one seven sheraton hotel north america earn esteem grand design guest book confid know theyr receiv highest benchmark product servic offer avail experi recent complet multimilliondollar transform featur new guest room expand sheraton club loung modern meet event space gather stylish new lobbi enjoy privat art collect featur local artist enjoy favorit beverag starbuck sheraton grand featur sever dine option includ loulay kitchen bar jame beard award win chef thierri rautureau  \n",
       "2                                                                                                                                                               locat heart downtown seattl awardwin crown plaza hotel seattl downtown offer except blend servic style comfort youll notic cool comfort unconvent touch set us apart soon step insid marvel stun view citi light relax new sleep advantag bed enjoy complimentari wireless internet throughout hotel amen help relax like templ spa sleep tight amen kit featur lavend spray lotion help rejuven unwind enjoy invigor workout 24hour fit center get dine suggest expert concierg savor sumptuou cuisin regatta bar grill restaur enjoy happi hour loung daili 4pm 7pm monthli drink special come experi emerald citi offer us  \n",
       "3      what near hotel downtown seattl locat better question might what nearbi addit one hotel near pike place market here small sampl rest columbia center whose sky view observatori 73rd floor tallest public view area west mississippi histor 5th avenu theatr home music product seattl central librari architectur marvel within half mile mustse pike place market hous origin starbuck pioneer squar seattl origin downtown seattl art museum fantast shop includ flagship nordstrom nordstrom rack maci columbia sportswear loui vuitton arcteryx oodl independ boutiqu great wheel washington state convent center within mile icon space needl bell street pier cruis termin pier 66 sport stadium centurylink field safeco field home seattl seahawk seattl marin seattl sounder  \n",
       "4                                                           situat amid incred shop icon attract westin seattl contemporari prime locat relax recharg stylish accommod modern comfort signatur heavenlyï ½ amen gorgeou view seattl skylin puget sound lake union cascad mountain rang experi newli renov lobbi includ 1900 fifth new lobbi bar offer care curat wine craft cocktail experi explor spectacular collect celebr attract includ space needl centurylink field washington state convent center pike place market seattl waterfront host unforgett meet social engag 70000 squar feet event space enhanc expert plan custom cater refresh pool energ mind bodi sleek westinworkoutï ½ fit studio design reflect style substanc emerald citi hotel welcom near best downtown seattl  "
      ]
     },
     "execution_count": 14,
     "metadata": {},
     "output_type": "execute_result"
    }
   ],
   "source": [
    "# Apply clean_text function to clean hotel description field\n",
    "df['desc_clean'] = df['desc'].apply(clean_text)\n",
    "df.head()"
   ]
  },
  {
   "cell_type": "code",
   "execution_count": 15,
   "id": "edb61b40",
   "metadata": {},
   "outputs": [],
   "source": [
    "# Create function to lookup and print hotel description by index\n",
    "def print_description(index):\n",
    "    example = df[df.index == index][['desc_clean', 'name']].values[0]\n",
    "    if len(example) > 0:\n",
    "        print('Name:', example[1])\n",
    "        print('Description:', example[0])"
   ]
  },
  {
   "cell_type": "code",
   "execution_count": 16,
   "id": "1f17623b",
   "metadata": {},
   "outputs": [
    {
     "name": "stdout",
     "output_type": "stream",
     "text": [
      "Name: W Seattle\n",
      "Description: soak vibrant scene live room bar get mix live music dj seri head memor dinner trace offer inspir season fare awardwin atmospher nottobemiss culinari experi downtown seattl work next morn fitï ½ stateoftheart fit center wander explor mani area nearbi attract includ pike place market pioneer squar seattl art museum alway weve got cover time w seattl signatur whateverwheneverï ½ servic wish truli command\n"
     ]
    }
   ],
   "source": [
    "print_description(10)"
   ]
  },
  {
   "cell_type": "code",
   "execution_count": 17,
   "id": "4655f3e5",
   "metadata": {},
   "outputs": [
    {
     "name": "stdout",
     "output_type": "stream",
     "text": [
      "Name: The Baroness Hotel\n",
      "Description: budget seattl look someth differ histor charm home away home atmospher baro sure make feel like one famili conveni locat first hill proud part virginia mason hospit campu minut harborview medic center swedish hospit baro hotel great option short long term medic patient famili stay whether visit area worldclass medic facil budget vacat goal ensur wonder stay guest amen complimentari internet access two twin one two queen studio mini fridg microwav two twin one queen suit full kitchen laundri facil avail flat screen cabl televis hbo complimentari local call ice vend machin locat lobbi coffe maker hairdryer guestroom room servic avail seven day week rhododendron cafe limit wheelchair access guest librari busi center print fax servic avail 100 nonsmok pet free room air condit fan avail selfpark avail virginia mason hospit fee\n"
     ]
    }
   ],
   "source": [
    "print_description(100)"
   ]
  },
  {
   "cell_type": "code",
   "execution_count": 18,
   "id": "bda92252",
   "metadata": {
    "scrolled": true
   },
   "outputs": [
    {
     "data": {
      "text/html": [
       "<div>\n",
       "<style scoped>\n",
       "    .dataframe tbody tr th:only-of-type {\n",
       "        vertical-align: middle;\n",
       "    }\n",
       "\n",
       "    .dataframe tbody tr th {\n",
       "        vertical-align: top;\n",
       "    }\n",
       "\n",
       "    .dataframe thead th {\n",
       "        text-align: right;\n",
       "    }\n",
       "</style>\n",
       "<table border=\"1\" class=\"dataframe\">\n",
       "  <thead>\n",
       "    <tr style=\"text-align: right;\">\n",
       "      <th></th>\n",
       "      <th>address</th>\n",
       "      <th>desc</th>\n",
       "      <th>desc_clean</th>\n",
       "    </tr>\n",
       "    <tr>\n",
       "      <th>name</th>\n",
       "      <th></th>\n",
       "      <th></th>\n",
       "      <th></th>\n",
       "    </tr>\n",
       "  </thead>\n",
       "  <tbody>\n",
       "    <tr>\n",
       "      <th>Hilton Garden Seattle Downtown</th>\n",
       "      <td>1821 Boren Avenue, Seattle Washington 98101 USA</td>\n",
       "      <td>Located on the southern tip of Lake Union, the Hilton Garden Inn Seattle Downtown hotel is perfectly located for business and leisure. \\nThe neighborhood is home to numerous major international companies including Amazon, Google and the Bill &amp; Melinda Gates Foundation. A wealth of eclectic restaurants and bars make this area of Seattle one of the most sought out by locals and visitors. Our proximity to Lake Union allows visitors to take in some of the Pacific Northwest's majestic scenery and enjoy outdoor activities like kayaking and sailing. over 2,000 sq. ft. of versatile space and a complimentary business center. State-of-the-art A/V technology and our helpful staff will guarantee your conference, cocktail reception or wedding is a success. Refresh in the sparkling saltwater pool, or energize with the latest equipment in the 24-hour fitness center. Tastefully decorated and flooded with natural light, our guest rooms and suites offer everything you need to relax and stay productive. Unwind in the bar, and enjoy American cuisine for breakfast, lunch and dinner in our restaurant. The 24-hour Pavilion Pantry? stocks a variety of snacks, drinks and sundries.</td>\n",
       "      <td>locat southern tip lake union hilton garden inn seattl downtown hotel perfectli locat busi leisur neighborhood home numer major intern compani includ amazon googl bill melinda gate foundat wealth eclect restaur bar make area seattl one sought local visitor proxim lake union allow visitor take pacif northwest majest sceneri enjoy outdoor activ like kayak sail 2000 sq ft versatil space complimentari busi center stateoftheart av technolog help staff guarante confer cocktail recept wed success refresh sparkl saltwat pool energ latest equip 24hour fit center tast decor flood natur light guest room suit offer everyth need relax stay product unwind bar enjoy american cuisin breakfast lunch dinner restaur 24hour pavilion pantri stock varieti snack drink sundri</td>\n",
       "    </tr>\n",
       "    <tr>\n",
       "      <th>Sheraton Grand Seattle</th>\n",
       "      <td>1400 6th Avenue, Seattle, Washington 98101 USA</td>\n",
       "      <td>Located in the city's vibrant core, the Sheraton Grand Seattle provides a gateway to the diverse sights and sounds of the Pacific Northwest. Step out of our front doors to find gourmet dining and bars, world-class shopping, exciting entertainment, and iconic local attractions including the Pike Place Market, Space Needle and Chihuly Garden &amp; Glass Museum. As one of only seven Sheraton hotels in North America to earn the esteemed Grand designation, guests can book confidently knowing they?re receiving the highest benchmark on product and service offerings available. Experience our recently completed multimillion-dollar transformation featuring all new guest rooms, an expanded Sheraton Club Lounge, and modern meeting &amp; event spaces. Gather in our stylish new lobby and enjoy our private art collection featuring local artists while enjoying your favorite beverage from Starbucks. The Sheraton Grand features several dining options including Loulay Kitchen &amp; Bar by James Beard award winning chef Thierry Rautureau.</td>\n",
       "      <td>locat citi vibrant core sheraton grand seattl provid gateway divers sight sound pacif northwest step front door find gourmet dine bar worldclass shop excit entertain icon local attract includ pike place market space needl chihuli garden glass museum one seven sheraton hotel north america earn esteem grand design guest book confid know theyr receiv highest benchmark product servic offer avail experi recent complet multimilliondollar transform featur new guest room expand sheraton club loung modern meet event space gather stylish new lobbi enjoy privat art collect featur local artist enjoy favorit beverag starbuck sheraton grand featur sever dine option includ loulay kitchen bar jame beard award win chef thierri rautureau</td>\n",
       "    </tr>\n",
       "    <tr>\n",
       "      <th>Crowne Plaza Seattle Downtown</th>\n",
       "      <td>1113 6th Ave, Seattle, WA 98101</td>\n",
       "      <td>Located in the heart of downtown Seattle, the award-winning \\nCrowne Plaza Hotel Seattle ? Downtown offers an exceptional blend of service, style and comfort. You?ll notice Cool, Comfortable and Unconventional touches that set us apart as soon as you step inside. Marvel at stunning views of the city lights while relaxing in our new Sleep Advantage? Beds. Enjoy complimentary wireless Internet throughout the hotel and amenities to help you relax like our Temple Spa? Sleep Tight Amenity kits featuring lavender spray and lotions to help you rejuvenate and unwind. Enjoy an invigorating workout at our 24-hour fitness center, get dining suggestions from our expert concierge or savor sumptuous cuisine at our Regatta Bar &amp; Grille restaurant where you can enjoy Happy Hour in our lounge daily from 4pm - 7pm and monthly drink specials. Come and experience all that The Emerald City has to offer with us!</td>\n",
       "      <td>locat heart downtown seattl awardwin crown plaza hotel seattl downtown offer except blend servic style comfort youll notic cool comfort unconvent touch set us apart soon step insid marvel stun view citi light relax new sleep advantag bed enjoy complimentari wireless internet throughout hotel amen help relax like templ spa sleep tight amen kit featur lavend spray lotion help rejuven unwind enjoy invigor workout 24hour fit center get dine suggest expert concierg savor sumptuou cuisin regatta bar grill restaur enjoy happi hour loung daili 4pm 7pm monthli drink special come experi emerald citi offer us</td>\n",
       "    </tr>\n",
       "    <tr>\n",
       "      <th>Kimpton Hotel Monaco Seattle</th>\n",
       "      <td>1101 4th Ave, Seattle, WA98101</td>\n",
       "      <td>What?s near our hotel downtown Seattle location? The better \\nquestion might be what?s not nearby. In addition to being one of the hotels near Pike Place Market, here?s just a small sampling of the rest. Columbia Center, whose Sky View Observatory on the 73rd floor is the tallest public viewing area west of the Mississippi Historic 5th Avenue Theatre, home to musical productions Seattle Central Library, an architectural marvel. Within half a mile: The must-see Pike Place Market, which houses the original Starbucks Pioneer Square, Seattle?s original downtown. Seattle Art Museum. Fantastic shopping, including the flagship Nordstrom, Nordstrom Rack, Macy?s, Columbia Sportswear, Louis Vuitton, Arcteryx, and oodles of independent boutiques. The Great Wheel. Washington State Convention Center. Within about a mile: The iconic Space Needle.  Bell Street Pier Cruise Terminal at Pier 66. Sports stadiums CenturyLink Field and Safeco Field, home to the Seattle Seahawks, Seattle Mariners, and Seattle Sounders.</td>\n",
       "      <td>what near hotel downtown seattl locat better question might what nearbi addit one hotel near pike place market here small sampl rest columbia center whose sky view observatori 73rd floor tallest public view area west mississippi histor 5th avenu theatr home music product seattl central librari architectur marvel within half mile mustse pike place market hous origin starbuck pioneer squar seattl origin downtown seattl art museum fantast shop includ flagship nordstrom nordstrom rack maci columbia sportswear loui vuitton arcteryx oodl independ boutiqu great wheel washington state convent center within mile icon space needl bell street pier cruis termin pier 66 sport stadium centurylink field safeco field home seattl seahawk seattl marin seattl sounder</td>\n",
       "    </tr>\n",
       "    <tr>\n",
       "      <th>The Westin Seattle</th>\n",
       "      <td>1900 5th Avenue,ï¿½Seattle,ï¿½Washingtonï¿½98101ï¿½USA</td>\n",
       "      <td>Situated amid incredible shopping and iconic attractions, The Westin Seattle is a contemporary haven in a prime location. Relax and recharge in stylish accommodations, modern comforts, signature Heavenlyï¿½ amenities and gorgeous views of the Seattle skyline, Puget Sound, Lake Union and Cascade mountain range. Experience our newly renovated lobby including 1900 FIFTH, our new lobby bar offering a carefully curated wine and crafted cocktail experience. Explore a spectacular collection of celebrated attractions, including the Space Needle, CenturyLink Field, The Washington State Convention Center, Pike Place Market and the Seattle Waterfront. Host unforgettable meetings and social engagements in more than 70,000 square feet of event space, enhanced by expert planning and custom catering. Refresh in our pool or energize your mind and body in our sleek WestinWORKOUTï¿½ Fitness Studio. Designed to reflect the style and substance of the Emerald City, our hotel is a welcoming haven near the best of downtown Seattle.</td>\n",
       "      <td>situat amid incred shop icon attract westin seattl contemporari prime locat relax recharg stylish accommod modern comfort signatur heavenlyï ½ amen gorgeou view seattl skylin puget sound lake union cascad mountain rang experi newli renov lobbi includ 1900 fifth new lobbi bar offer care curat wine craft cocktail experi explor spectacular collect celebr attract includ space needl centurylink field washington state convent center pike place market seattl waterfront host unforgett meet social engag 70000 squar feet event space enhanc expert plan custom cater refresh pool energ mind bodi sleek westinworkoutï ½ fit studio design reflect style substanc emerald citi hotel welcom near best downtown seattl</td>\n",
       "    </tr>\n",
       "  </tbody>\n",
       "</table>\n",
       "</div>"
      ],
      "text/plain": [
       "                                                                               address  \\\n",
       "name                                                                                     \n",
       "Hilton Garden Seattle Downtown         1821 Boren Avenue, Seattle Washington 98101 USA   \n",
       "Sheraton Grand Seattle                  1400 6th Avenue, Seattle, Washington 98101 USA   \n",
       "Crowne Plaza Seattle Downtown                          1113 6th Ave, Seattle, WA 98101   \n",
       "Kimpton Hotel Monaco Seattle                            1101 4th Ave, Seattle, WA98101   \n",
       "The Westin Seattle              1900 5th Avenue,ï¿½Seattle,ï¿½Washingtonï¿½98101ï¿½USA   \n",
       "\n",
       "                                                                                                                                                                                                                                                                                                                                                                                                                                                                                                                                                                                                                                                                                                                                                                                                                                                                                                                                                                                                                                                                                                                                                                                                                                                  desc  \\\n",
       "name                                                                                                                                                                                                                                                                                                                                                                                                                                                                                                                                                                                                                                                                                                                                                                                                                                                                                                                                                                                                                                                                                                                                                                                                                                                     \n",
       "Hilton Garden Seattle Downtown  Located on the southern tip of Lake Union, the Hilton Garden Inn Seattle Downtown hotel is perfectly located for business and leisure. \\nThe neighborhood is home to numerous major international companies including Amazon, Google and the Bill & Melinda Gates Foundation. A wealth of eclectic restaurants and bars make this area of Seattle one of the most sought out by locals and visitors. Our proximity to Lake Union allows visitors to take in some of the Pacific Northwest's majestic scenery and enjoy outdoor activities like kayaking and sailing. over 2,000 sq. ft. of versatile space and a complimentary business center. State-of-the-art A/V technology and our helpful staff will guarantee your conference, cocktail reception or wedding is a success. Refresh in the sparkling saltwater pool, or energize with the latest equipment in the 24-hour fitness center. Tastefully decorated and flooded with natural light, our guest rooms and suites offer everything you need to relax and stay productive. Unwind in the bar, and enjoy American cuisine for breakfast, lunch and dinner in our restaurant. The 24-hour Pavilion Pantry? stocks a variety of snacks, drinks and sundries.   \n",
       "Sheraton Grand Seattle                                                                                                                                                                  Located in the city's vibrant core, the Sheraton Grand Seattle provides a gateway to the diverse sights and sounds of the Pacific Northwest. Step out of our front doors to find gourmet dining and bars, world-class shopping, exciting entertainment, and iconic local attractions including the Pike Place Market, Space Needle and Chihuly Garden & Glass Museum. As one of only seven Sheraton hotels in North America to earn the esteemed Grand designation, guests can book confidently knowing they?re receiving the highest benchmark on product and service offerings available. Experience our recently completed multimillion-dollar transformation featuring all new guest rooms, an expanded Sheraton Club Lounge, and modern meeting & event spaces. Gather in our stylish new lobby and enjoy our private art collection featuring local artists while enjoying your favorite beverage from Starbucks. The Sheraton Grand features several dining options including Loulay Kitchen & Bar by James Beard award winning chef Thierry Rautureau.   \n",
       "Crowne Plaza Seattle Downtown                                                                                                                                                                                                                                                                                  Located in the heart of downtown Seattle, the award-winning \\nCrowne Plaza Hotel Seattle ? Downtown offers an exceptional blend of service, style and comfort. You?ll notice Cool, Comfortable and Unconventional touches that set us apart as soon as you step inside. Marvel at stunning views of the city lights while relaxing in our new Sleep Advantage? Beds. Enjoy complimentary wireless Internet throughout the hotel and amenities to help you relax like our Temple Spa? Sleep Tight Amenity kits featuring lavender spray and lotions to help you rejuvenate and unwind. Enjoy an invigorating workout at our 24-hour fitness center, get dining suggestions from our expert concierge or savor sumptuous cuisine at our Regatta Bar & Grille restaurant where you can enjoy Happy Hour in our lounge daily from 4pm - 7pm and monthly drink specials. Come and experience all that The Emerald City has to offer with us!   \n",
       "Kimpton Hotel Monaco Seattle                                                                                                                                                                      What?s near our hotel downtown Seattle location? The better \\nquestion might be what?s not nearby. In addition to being one of the hotels near Pike Place Market, here?s just a small sampling of the rest. Columbia Center, whose Sky View Observatory on the 73rd floor is the tallest public viewing area west of the Mississippi Historic 5th Avenue Theatre, home to musical productions Seattle Central Library, an architectural marvel. Within half a mile: The must-see Pike Place Market, which houses the original Starbucks Pioneer Square, Seattle?s original downtown. Seattle Art Museum. Fantastic shopping, including the flagship Nordstrom, Nordstrom Rack, Macy?s, Columbia Sportswear, Louis Vuitton, Arcteryx, and oodles of independent boutiques. The Great Wheel. Washington State Convention Center. Within about a mile: The iconic Space Needle.  Bell Street Pier Cruise Terminal at Pier 66. Sports stadiums CenturyLink Field and Safeco Field, home to the Seattle Seahawks, Seattle Mariners, and Seattle Sounders.   \n",
       "The Westin Seattle                                                                                                                                                                    Situated amid incredible shopping and iconic attractions, The Westin Seattle is a contemporary haven in a prime location. Relax and recharge in stylish accommodations, modern comforts, signature Heavenlyï¿½ amenities and gorgeous views of the Seattle skyline, Puget Sound, Lake Union and Cascade mountain range. Experience our newly renovated lobby including 1900 FIFTH, our new lobby bar offering a carefully curated wine and crafted cocktail experience. Explore a spectacular collection of celebrated attractions, including the Space Needle, CenturyLink Field, The Washington State Convention Center, Pike Place Market and the Seattle Waterfront. Host unforgettable meetings and social engagements in more than 70,000 square feet of event space, enhanced by expert planning and custom catering. Refresh in our pool or energize your mind and body in our sleek WestinWORKOUTï¿½ Fitness Studio. Designed to reflect the style and substance of the Emerald City, our hotel is a welcoming haven near the best of downtown Seattle.   \n",
       "\n",
       "                                                                                                                                                                                                                                                                                                                                                                                                                                                                                                                                                                                                                                                                                                                                                                                                                desc_clean  \n",
       "name                                                                                                                                                                                                                                                                                                                                                                                                                                                                                                                                                                                                                                                                                                                                                                                                                        \n",
       "Hilton Garden Seattle Downtown  locat southern tip lake union hilton garden inn seattl downtown hotel perfectli locat busi leisur neighborhood home numer major intern compani includ amazon googl bill melinda gate foundat wealth eclect restaur bar make area seattl one sought local visitor proxim lake union allow visitor take pacif northwest majest sceneri enjoy outdoor activ like kayak sail 2000 sq ft versatil space complimentari busi center stateoftheart av technolog help staff guarante confer cocktail recept wed success refresh sparkl saltwat pool energ latest equip 24hour fit center tast decor flood natur light guest room suit offer everyth need relax stay product unwind bar enjoy american cuisin breakfast lunch dinner restaur 24hour pavilion pantri stock varieti snack drink sundri  \n",
       "Sheraton Grand Seattle                                           locat citi vibrant core sheraton grand seattl provid gateway divers sight sound pacif northwest step front door find gourmet dine bar worldclass shop excit entertain icon local attract includ pike place market space needl chihuli garden glass museum one seven sheraton hotel north america earn esteem grand design guest book confid know theyr receiv highest benchmark product servic offer avail experi recent complet multimilliondollar transform featur new guest room expand sheraton club loung modern meet event space gather stylish new lobbi enjoy privat art collect featur local artist enjoy favorit beverag starbuck sheraton grand featur sever dine option includ loulay kitchen bar jame beard award win chef thierri rautureau  \n",
       "Crowne Plaza Seattle Downtown                                                                                                                                                                locat heart downtown seattl awardwin crown plaza hotel seattl downtown offer except blend servic style comfort youll notic cool comfort unconvent touch set us apart soon step insid marvel stun view citi light relax new sleep advantag bed enjoy complimentari wireless internet throughout hotel amen help relax like templ spa sleep tight amen kit featur lavend spray lotion help rejuven unwind enjoy invigor workout 24hour fit center get dine suggest expert concierg savor sumptuou cuisin regatta bar grill restaur enjoy happi hour loung daili 4pm 7pm monthli drink special come experi emerald citi offer us  \n",
       "Kimpton Hotel Monaco Seattle        what near hotel downtown seattl locat better question might what nearbi addit one hotel near pike place market here small sampl rest columbia center whose sky view observatori 73rd floor tallest public view area west mississippi histor 5th avenu theatr home music product seattl central librari architectur marvel within half mile mustse pike place market hous origin starbuck pioneer squar seattl origin downtown seattl art museum fantast shop includ flagship nordstrom nordstrom rack maci columbia sportswear loui vuitton arcteryx oodl independ boutiqu great wheel washington state convent center within mile icon space needl bell street pier cruis termin pier 66 sport stadium centurylink field safeco field home seattl seahawk seattl marin seattl sounder  \n",
       "The Westin Seattle                                                                       situat amid incred shop icon attract westin seattl contemporari prime locat relax recharg stylish accommod modern comfort signatur heavenlyï ½ amen gorgeou view seattl skylin puget sound lake union cascad mountain rang experi newli renov lobbi includ 1900 fifth new lobbi bar offer care curat wine craft cocktail experi explor spectacular collect celebr attract includ space needl centurylink field washington state convent center pike place market seattl waterfront host unforgett meet social engag 70000 squar feet event space enhanc expert plan custom cater refresh pool energ mind bodi sleek westinworkoutï ½ fit studio design reflect style substanc emerald citi hotel welcom near best downtown seattl  "
      ]
     },
     "execution_count": 18,
     "metadata": {},
     "output_type": "execute_result"
    }
   ],
   "source": [
    "df.set_index('name', inplace = True)\n",
    "df.head()"
   ]
  },
  {
   "cell_type": "markdown",
   "id": "6209df9d",
   "metadata": {},
   "source": [
    "### Run TF-IDF vectorizer"
   ]
  },
  {
   "cell_type": "code",
   "execution_count": 19,
   "id": "c5955795",
   "metadata": {},
   "outputs": [],
   "source": [
    "# Instantiate TF-IDF vectorizer\n",
    "#  Notice the ngram_range\n",
    "tf = TfidfVectorizer(analyzer='word', ngram_range=(1, 3), stop_words='english')"
   ]
  },
  {
   "cell_type": "code",
   "execution_count": 20,
   "id": "1530be6f",
   "metadata": {},
   "outputs": [
    {
     "data": {
      "text/plain": [
       "<152x26463 sparse matrix of type '<class 'numpy.float64'>'\n",
       "\twith 40087 stored elements in Compressed Sparse Row format>"
      ]
     },
     "execution_count": 20,
     "metadata": {},
     "output_type": "execute_result"
    }
   ],
   "source": [
    "# Create a hotel descriptions matrix for each ngram and its TF-IDF score with regard to each hotel description\n",
    "tfidf_matrix = tf.fit_transform(df['desc_clean'])\n",
    "tfidf_matrix"
   ]
  },
  {
   "cell_type": "markdown",
   "id": "8478bff0",
   "metadata": {},
   "source": [
    "### Generate similarities matrix (on hotel description)"
   ]
  },
  {
   "cell_type": "code",
   "execution_count": 21,
   "id": "1ac7a5e3",
   "metadata": {},
   "outputs": [
    {
     "data": {
      "text/plain": [
       "numpy.ndarray"
      ]
     },
     "execution_count": 21,
     "metadata": {},
     "output_type": "execute_result"
    }
   ],
   "source": [
    "# cosine_similarities = cosine_similarity(tfidf_matrix, tfidf_matrix)\n",
    "cosine_similarities = cosine_similarity(tfidf_matrix)\n",
    "type(cosine_similarities)"
   ]
  },
  {
   "cell_type": "code",
   "execution_count": 22,
   "id": "8e037262-143f-4c0f-93bd-8a6400efb821",
   "metadata": {},
   "outputs": [
    {
     "data": {
      "text/plain": [
       "(152, 152)"
      ]
     },
     "execution_count": 22,
     "metadata": {},
     "output_type": "execute_result"
    }
   ],
   "source": [
    "cosine_similarities.shape"
   ]
  },
  {
   "cell_type": "code",
   "execution_count": 23,
   "id": "4b01dea9",
   "metadata": {},
   "outputs": [],
   "source": [
    "hotel_indices = pd.Series(df.index)"
   ]
  },
  {
   "cell_type": "code",
   "execution_count": 24,
   "id": "7bd635e8",
   "metadata": {
    "scrolled": true
   },
   "outputs": [
    {
     "data": {
      "text/plain": [
       "0               Hilton Garden Seattle Downtown\n",
       "1                       Sheraton Grand Seattle\n",
       "2                Crowne Plaza Seattle Downtown\n",
       "3                Kimpton Hotel Monaco Seattle \n",
       "4                           The Westin Seattle\n",
       "                        ...                   \n",
       "147                  The Halcyon Suite Du Jour\n",
       "148                                Vermont Inn\n",
       "149                 Stay Alfred on Wall Street\n",
       "150         Pike's Place Lux Suites by Barsala\n",
       "151    citizenM Seattle South Lake Union hotel\n",
       "Name: name, Length: 152, dtype: object"
      ]
     },
     "execution_count": 24,
     "metadata": {},
     "output_type": "execute_result"
    }
   ],
   "source": [
    "hotel_indices"
   ]
  },
  {
   "cell_type": "markdown",
   "id": "181ed2b7",
   "metadata": {},
   "source": [
    "### Create hotel recommender"
   ]
  },
  {
   "cell_type": "code",
   "execution_count": 25,
   "id": "c8ef3665",
   "metadata": {},
   "outputs": [],
   "source": [
    "def recommendations(name, cosine_similarities=cosine_similarities):\n",
    "    \n",
    "    recommended_hotels = []\n",
    "    \n",
    "    # Get index of the hotel that matches the name\n",
    "    hotel_index = hotel_indices[hotel_indices == name].index[0]\n",
    "\n",
    "    # Create a Series with the similarity scores in descending order\n",
    "    score_series = pd.Series(cosine_similarities[hotel_index]).sort_values(ascending = False)\n",
    "\n",
    "    # Get the indexes of the 5 most similar hotels except itself\n",
    "    top_indexes = list(score_series.iloc[1:6].index)\n",
    "    \n",
    "    # Populate the list with the names of the top 5 matching hotels\n",
    "    for i in top_indexes:\n",
    "        recommended_hotels.append(list(df.index)[i])\n",
    "        \n",
    "    return recommended_hotels"
   ]
  },
  {
   "cell_type": "markdown",
   "id": "8a886324",
   "metadata": {},
   "source": [
    "### Make hotel recommendations"
   ]
  },
  {
   "cell_type": "code",
   "execution_count": 26,
   "id": "168830e3",
   "metadata": {},
   "outputs": [
    {
     "data": {
      "text/plain": [
       "['Emerald Motel',\n",
       " 'Ramada by Wyndham SeaTac Airport',\n",
       " 'DoubleTree by Hilton Hotel Seattle Airport',\n",
       " 'Red Roof Inn Seattle Airport - SEATAC',\n",
       " 'Country Inn & Suites by Radisson, Seattle-Tacoma International Airport']"
      ]
     },
     "execution_count": 26,
     "metadata": {},
     "output_type": "execute_result"
    }
   ],
   "source": [
    "recommendations('Motel 6 Seattle Sea-Tac Airport South')"
   ]
  },
  {
   "cell_type": "code",
   "execution_count": 27,
   "id": "2aa3cd8d",
   "metadata": {},
   "outputs": [
    {
     "data": {
      "text/plain": [
       "['11th Avenue Inn Bed and Breakfast',\n",
       " 'Shafer Baillie Mansion Bed & Breakfast',\n",
       " 'Gaslight Inn',\n",
       " 'Chittenden House Bed and Breakfast',\n",
       " 'Bed and Breakfast Inn Seattle']"
      ]
     },
     "execution_count": 27,
     "metadata": {},
     "output_type": "execute_result"
    }
   ],
   "source": [
    "recommendations(\"The Bacon Mansion Bed and Breakfast\")"
   ]
  },
  {
   "cell_type": "code",
   "execution_count": 28,
   "id": "8179a628",
   "metadata": {},
   "outputs": [
    {
     "data": {
      "text/plain": [
       "['Holiday Inn Express & Suites Seattle-City Center',\n",
       " 'Silver Cloud Hotel - Seattle Stadium',\n",
       " 'Inn at Queen Anne',\n",
       " 'Renaissance Seattle Hotel',\n",
       " 'Best Western Plus Pioneer Square Hotel Downtown']"
      ]
     },
     "execution_count": 28,
     "metadata": {},
     "output_type": "execute_result"
    }
   ],
   "source": [
    "recommendations(\"Holiday Inn Seattle Downtown\")"
   ]
  }
 ],
 "metadata": {
  "kernelspec": {
   "display_name": "Python 3 (ipykernel)",
   "language": "python",
   "name": "python3"
  },
  "language_info": {
   "codemirror_mode": {
    "name": "ipython",
    "version": 3
   },
   "file_extension": ".py",
   "mimetype": "text/x-python",
   "name": "python",
   "nbconvert_exporter": "python",
   "pygments_lexer": "ipython3",
   "version": "3.9.7"
  }
 },
 "nbformat": 4,
 "nbformat_minor": 5
}
