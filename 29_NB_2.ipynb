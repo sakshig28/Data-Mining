{
 "cells": [
  {
   "cell_type": "markdown",
   "id": "80561679",
   "metadata": {},
   "source": [
    "# Naive Bayes 2"
   ]
  },
  {
   "cell_type": "markdown",
   "id": "4ad0df2f",
   "metadata": {},
   "source": [
    "### Import libraries"
   ]
  },
  {
   "cell_type": "code",
   "execution_count": 1,
   "id": "d35f7e74",
   "metadata": {
    "scrolled": true
   },
   "outputs": [],
   "source": [
    "import pandas as pd\n",
    "import re\n",
    "import nltk\n",
    "import string\n",
    "from sklearn.model_selection import train_test_split\n",
    "from sklearn.feature_extraction.text import HashingVectorizer\n",
    "from sklearn.feature_extraction.text import CountVectorizer\n",
    "from sklearn.feature_extraction.text import TfidfVectorizer\n",
    "from sklearn.naive_bayes import BernoulliNB "
   ]
  },
  {
   "cell_type": "markdown",
   "id": "d60191f2",
   "metadata": {},
   "source": [
    "### Set global variables"
   ]
  },
  {
   "cell_type": "code",
   "execution_count": 2,
   "id": "02d1ece0",
   "metadata": {},
   "outputs": [],
   "source": [
    "global test_set_size, random_state\n",
    "test_set_size = .3\n",
    "random_state = 42"
   ]
  },
  {
   "cell_type": "markdown",
   "id": "4992bd9d",
   "metadata": {},
   "source": [
    "### Load data"
   ]
  },
  {
   "cell_type": "code",
   "execution_count": 3,
   "id": "46d1750e",
   "metadata": {
    "scrolled": true
   },
   "outputs": [
    {
     "data": {
      "text/plain": [
       "(5568, 2)"
      ]
     },
     "execution_count": 3,
     "metadata": {},
     "output_type": "execute_result"
    }
   ],
   "source": [
    "df = pd.read_csv('data/SMS_spam.tsv', sep='\\t', names=['label', 'body_text'], header=None)\n",
    "df.shape"
   ]
  },
  {
   "cell_type": "markdown",
   "id": "f0c25089",
   "metadata": {},
   "source": [
    "### Examine data"
   ]
  },
  {
   "cell_type": "code",
   "execution_count": 4,
   "id": "5f4605b9",
   "metadata": {},
   "outputs": [],
   "source": [
    "pd.set_option('max_colwidth',200)"
   ]
  },
  {
   "cell_type": "code",
   "execution_count": 5,
   "id": "2bcc5e83",
   "metadata": {
    "scrolled": true
   },
   "outputs": [
    {
     "data": {
      "text/html": [
       "<div>\n",
       "<style scoped>\n",
       "    .dataframe tbody tr th:only-of-type {\n",
       "        vertical-align: middle;\n",
       "    }\n",
       "\n",
       "    .dataframe tbody tr th {\n",
       "        vertical-align: top;\n",
       "    }\n",
       "\n",
       "    .dataframe thead th {\n",
       "        text-align: right;\n",
       "    }\n",
       "</style>\n",
       "<table border=\"1\" class=\"dataframe\">\n",
       "  <thead>\n",
       "    <tr style=\"text-align: right;\">\n",
       "      <th></th>\n",
       "      <th>label</th>\n",
       "      <th>body_text</th>\n",
       "    </tr>\n",
       "  </thead>\n",
       "  <tbody>\n",
       "    <tr>\n",
       "      <th>0</th>\n",
       "      <td>ham</td>\n",
       "      <td>I've been searching for the right words to thank you for this breather. I promise i wont take your help for granted and will fulfil my promise. You have been wonderful and a blessing at all times.</td>\n",
       "    </tr>\n",
       "    <tr>\n",
       "      <th>1</th>\n",
       "      <td>spam</td>\n",
       "      <td>Free entry in 2 a wkly comp to win FA Cup final tkts 21st May 2005. Text FA to 87121 to receive entry question(std txt rate)T&amp;C's apply 08452810075over18's</td>\n",
       "    </tr>\n",
       "    <tr>\n",
       "      <th>2</th>\n",
       "      <td>ham</td>\n",
       "      <td>Nah I don't think he goes to usf, he lives around here though</td>\n",
       "    </tr>\n",
       "    <tr>\n",
       "      <th>3</th>\n",
       "      <td>ham</td>\n",
       "      <td>Even my brother is not like to speak with me. They treat me like aids patent.</td>\n",
       "    </tr>\n",
       "    <tr>\n",
       "      <th>4</th>\n",
       "      <td>ham</td>\n",
       "      <td>I HAVE A DATE ON SUNDAY WITH WILL!!</td>\n",
       "    </tr>\n",
       "  </tbody>\n",
       "</table>\n",
       "</div>"
      ],
      "text/plain": [
       "  label  \\\n",
       "0   ham   \n",
       "1  spam   \n",
       "2   ham   \n",
       "3   ham   \n",
       "4   ham   \n",
       "\n",
       "                                                                                                                                                                                              body_text  \n",
       "0  I've been searching for the right words to thank you for this breather. I promise i wont take your help for granted and will fulfil my promise. You have been wonderful and a blessing at all times.  \n",
       "1                                           Free entry in 2 a wkly comp to win FA Cup final tkts 21st May 2005. Text FA to 87121 to receive entry question(std txt rate)T&C's apply 08452810075over18's  \n",
       "2                                                                                                                                         Nah I don't think he goes to usf, he lives around here though  \n",
       "3                                                                                                                         Even my brother is not like to speak with me. They treat me like aids patent.  \n",
       "4                                                                                                                                                                   I HAVE A DATE ON SUNDAY WITH WILL!!  "
      ]
     },
     "execution_count": 5,
     "metadata": {},
     "output_type": "execute_result"
    }
   ],
   "source": [
    "df.head()"
   ]
  },
  {
   "cell_type": "markdown",
   "id": "9699ac84",
   "metadata": {},
   "source": [
    "#### Bernoulli Naive Bayes classifier requires target variables to be binary"
   ]
  },
  {
   "cell_type": "code",
   "execution_count": 6,
   "id": "4978c4a4",
   "metadata": {},
   "outputs": [
    {
     "data": {
      "text/plain": [
       "ham     4822\n",
       "spam     746\n",
       "Name: label, dtype: int64"
      ]
     },
     "execution_count": 6,
     "metadata": {},
     "output_type": "execute_result"
    }
   ],
   "source": [
    "# Check if target variable is binary or not \n",
    "df.label.value_counts()"
   ]
  },
  {
   "cell_type": "markdown",
   "id": "4f41d517",
   "metadata": {},
   "source": [
    "#### Since there are only 2 unique target variable values, it is binary "
   ]
  },
  {
   "cell_type": "markdown",
   "id": "b4b78797",
   "metadata": {},
   "source": [
    "## Experiment #1:  Hashing vectorizer with body_text (unchanged)"
   ]
  },
  {
   "cell_type": "code",
   "execution_count": 7,
   "id": "0298990d",
   "metadata": {},
   "outputs": [],
   "source": [
    "# Separate dependent and independent variables\n",
    "X = df['body_text']\n",
    "y = df['label']"
   ]
  },
  {
   "cell_type": "code",
   "execution_count": 8,
   "id": "d1bdfb55",
   "metadata": {
    "scrolled": true
   },
   "outputs": [],
   "source": [
    "# Instantiate hashing vectorizer object \n",
    "hv = HashingVectorizer()"
   ]
  },
  {
   "cell_type": "code",
   "execution_count": 9,
   "id": "c944929b",
   "metadata": {},
   "outputs": [],
   "source": [
    "# Tranform body_text into numeric values \n",
    "X = hv.fit_transform(X)"
   ]
  },
  {
   "cell_type": "code",
   "execution_count": 10,
   "id": "7a791db0",
   "metadata": {
    "scrolled": true
   },
   "outputs": [],
   "source": [
    "# Split into training set and test set\n",
    "X_train, X_test, y_train, y_test = \\\n",
    "    train_test_split(X, y, test_size = test_set_size, random_state = random_state)"
   ]
  },
  {
   "cell_type": "markdown",
   "id": "0bfec5ce",
   "metadata": {},
   "source": [
    "### Train Bernoulli Naive Bayes classifier (with hashing vectorization)"
   ]
  },
  {
   "cell_type": "code",
   "execution_count": 11,
   "id": "4b73e573",
   "metadata": {},
   "outputs": [],
   "source": [
    "model = BernoulliNB()\n",
    "model.fit(X_train, y_train)\n",
    "predict = model.predict(X_test)"
   ]
  },
  {
   "cell_type": "markdown",
   "id": "0e57deb0",
   "metadata": {},
   "source": [
    "### Evaluate Bernoulli Naive Bayes model performance (with hashing vectorization)"
   ]
  },
  {
   "cell_type": "code",
   "execution_count": 12,
   "id": "20c6c84c",
   "metadata": {
    "scrolled": true
   },
   "outputs": [
    {
     "name": "stdout",
     "output_type": "stream",
     "text": [
      "Accuracy on training set: 0.8619\n",
      "Accuracy on test set: 0.8755\n"
     ]
    }
   ],
   "source": [
    "print('Accuracy on training set: {:.4f}'.format(model.score(X_train, y_train)))\n",
    "print('Accuracy on test set: {:.4f}'.format(model.score(X_test, y_test)))"
   ]
  },
  {
   "cell_type": "markdown",
   "id": "e329b41c",
   "metadata": {},
   "source": [
    "## Perform text mining preprocessing (lowercase, remove punctuation, tokenize, remove stopwords, and stem) on body_text"
   ]
  },
  {
   "cell_type": "code",
   "execution_count": 13,
   "id": "07a8aa8e",
   "metadata": {},
   "outputs": [],
   "source": [
    "# Define stop words list\n",
    "stopwords = nltk.corpus.stopwords.words('english')     # All English Stopwords"
   ]
  },
  {
   "cell_type": "code",
   "execution_count": 14,
   "id": "adfbd02b",
   "metadata": {},
   "outputs": [],
   "source": [
    "# Instantiate Porter stemmer\n",
    "ps = nltk.PorterStemmer()"
   ]
  },
  {
   "cell_type": "code",
   "execution_count": 15,
   "id": "580d610c",
   "metadata": {},
   "outputs": [],
   "source": [
    "# Function to clean_text\n",
    "def clean_text(text):\n",
    "    text = \"\".join([word.lower() for word in text if word not in string.punctuation])\n",
    "    tokens = re.split('\\W+', text)\n",
    "    text = [ps.stem(word) for word in tokens if word not in stopwords]\n",
    "    text_2 = ' '.join(word for word in text)\n",
    "    return text_2"
   ]
  },
  {
   "cell_type": "code",
   "execution_count": 16,
   "id": "050204e6",
   "metadata": {
    "scrolled": true
   },
   "outputs": [
    {
     "data": {
      "text/html": [
       "<div>\n",
       "<style scoped>\n",
       "    .dataframe tbody tr th:only-of-type {\n",
       "        vertical-align: middle;\n",
       "    }\n",
       "\n",
       "    .dataframe tbody tr th {\n",
       "        vertical-align: top;\n",
       "    }\n",
       "\n",
       "    .dataframe thead th {\n",
       "        text-align: right;\n",
       "    }\n",
       "</style>\n",
       "<table border=\"1\" class=\"dataframe\">\n",
       "  <thead>\n",
       "    <tr style=\"text-align: right;\">\n",
       "      <th></th>\n",
       "      <th>label</th>\n",
       "      <th>body_text</th>\n",
       "      <th>body_text_clean</th>\n",
       "    </tr>\n",
       "  </thead>\n",
       "  <tbody>\n",
       "    <tr>\n",
       "      <th>0</th>\n",
       "      <td>ham</td>\n",
       "      <td>I've been searching for the right words to thank you for this breather. I promise i wont take your help for granted and will fulfil my promise. You have been wonderful and a blessing at all times.</td>\n",
       "      <td>ive search right word thank breather promis wont take help grant fulfil promis wonder bless time</td>\n",
       "    </tr>\n",
       "    <tr>\n",
       "      <th>1</th>\n",
       "      <td>spam</td>\n",
       "      <td>Free entry in 2 a wkly comp to win FA Cup final tkts 21st May 2005. Text FA to 87121 to receive entry question(std txt rate)T&amp;C's apply 08452810075over18's</td>\n",
       "      <td>free entri 2 wkli comp win fa cup final tkt 21st may 2005 text fa 87121 receiv entri questionstd txt ratetc appli 08452810075over18</td>\n",
       "    </tr>\n",
       "    <tr>\n",
       "      <th>2</th>\n",
       "      <td>ham</td>\n",
       "      <td>Nah I don't think he goes to usf, he lives around here though</td>\n",
       "      <td>nah dont think goe usf live around though</td>\n",
       "    </tr>\n",
       "    <tr>\n",
       "      <th>3</th>\n",
       "      <td>ham</td>\n",
       "      <td>Even my brother is not like to speak with me. They treat me like aids patent.</td>\n",
       "      <td>even brother like speak treat like aid patent</td>\n",
       "    </tr>\n",
       "    <tr>\n",
       "      <th>4</th>\n",
       "      <td>ham</td>\n",
       "      <td>I HAVE A DATE ON SUNDAY WITH WILL!!</td>\n",
       "      <td>date sunday</td>\n",
       "    </tr>\n",
       "  </tbody>\n",
       "</table>\n",
       "</div>"
      ],
      "text/plain": [
       "  label  \\\n",
       "0   ham   \n",
       "1  spam   \n",
       "2   ham   \n",
       "3   ham   \n",
       "4   ham   \n",
       "\n",
       "                                                                                                                                                                                              body_text  \\\n",
       "0  I've been searching for the right words to thank you for this breather. I promise i wont take your help for granted and will fulfil my promise. You have been wonderful and a blessing at all times.   \n",
       "1                                           Free entry in 2 a wkly comp to win FA Cup final tkts 21st May 2005. Text FA to 87121 to receive entry question(std txt rate)T&C's apply 08452810075over18's   \n",
       "2                                                                                                                                         Nah I don't think he goes to usf, he lives around here though   \n",
       "3                                                                                                                         Even my brother is not like to speak with me. They treat me like aids patent.   \n",
       "4                                                                                                                                                                   I HAVE A DATE ON SUNDAY WITH WILL!!   \n",
       "\n",
       "                                                                                                                       body_text_clean  \n",
       "0                                     ive search right word thank breather promis wont take help grant fulfil promis wonder bless time  \n",
       "1  free entri 2 wkli comp win fa cup final tkt 21st may 2005 text fa 87121 receiv entri questionstd txt ratetc appli 08452810075over18  \n",
       "2                                                                                            nah dont think goe usf live around though  \n",
       "3                                                                                        even brother like speak treat like aid patent  \n",
       "4                                                                                                                          date sunday  "
      ]
     },
     "execution_count": 16,
     "metadata": {},
     "output_type": "execute_result"
    }
   ],
   "source": [
    "df['body_text_clean'] = df['body_text'].apply(lambda x: clean_text(x))\n",
    "df.head()"
   ]
  },
  {
   "cell_type": "markdown",
   "id": "66e9ed19",
   "metadata": {},
   "source": [
    "## Experiment #2:  Hashing vectorizer with body_text (cleaned)"
   ]
  },
  {
   "cell_type": "code",
   "execution_count": 17,
   "id": "f65f8674",
   "metadata": {},
   "outputs": [],
   "source": [
    "# Separate dependent and independent variables\n",
    "X = df['body_text_clean']\n",
    "y = df['label']"
   ]
  },
  {
   "cell_type": "code",
   "execution_count": 18,
   "id": "44fb09e3",
   "metadata": {
    "scrolled": true
   },
   "outputs": [],
   "source": [
    "# Instantiate hashing vectorizer object \n",
    "# hv = HashingVectorizer()     # No need to do this since we already instantiated it earlier"
   ]
  },
  {
   "cell_type": "code",
   "execution_count": 19,
   "id": "23557457",
   "metadata": {},
   "outputs": [],
   "source": [
    "# Tranform body_text into numeric values \n",
    "X = hv.fit_transform(X)"
   ]
  },
  {
   "cell_type": "code",
   "execution_count": 20,
   "id": "e9b8d2ac",
   "metadata": {
    "scrolled": true
   },
   "outputs": [],
   "source": [
    "# Split into training set and test set\n",
    "X_train, X_test, y_train, y_test = \\\n",
    "    train_test_split(X, y, test_size = test_set_size, random_state = random_state)"
   ]
  },
  {
   "cell_type": "markdown",
   "id": "51b94110",
   "metadata": {},
   "source": [
    "### Train Bernoulli Naive Bayes classifier (with hashing vectorization + clean data)"
   ]
  },
  {
   "cell_type": "code",
   "execution_count": 21,
   "id": "f9cc9199",
   "metadata": {},
   "outputs": [],
   "source": [
    "# model = BernoulliNB()     # No need to do this since we already instantiated it earlier\n",
    "model.fit(X_train, y_train)\n",
    "predict = model.predict(X_test)"
   ]
  },
  {
   "cell_type": "markdown",
   "id": "0349838c",
   "metadata": {},
   "source": [
    "### Evaluate Bernoulli Naive Bayes model performance (with hashing vectorization + clean data)"
   ]
  },
  {
   "cell_type": "code",
   "execution_count": 22,
   "id": "3f75a5b1",
   "metadata": {
    "scrolled": true
   },
   "outputs": [
    {
     "name": "stdout",
     "output_type": "stream",
     "text": [
      "Accuracy on training set: 0.8619\n",
      "Accuracy on test set: 0.8755\n"
     ]
    }
   ],
   "source": [
    "print('Accuracy on training set: {:.4f}'.format(model.score(X_train, y_train)))\n",
    "print('Accuracy on test set: {:.4f}'.format(model.score(X_test, y_test)))"
   ]
  },
  {
   "cell_type": "markdown",
   "id": "437fd65c",
   "metadata": {},
   "source": [
    "#### No difference in performance between experiments 1 & 2"
   ]
  },
  {
   "cell_type": "markdown",
   "id": "1faa878e",
   "metadata": {},
   "source": [
    "## Experiment #3:  Count vectorizer (Bag of Words) with body_text (cleaned)"
   ]
  },
  {
   "cell_type": "code",
   "execution_count": 23,
   "id": "7fe027c1",
   "metadata": {},
   "outputs": [],
   "source": [
    "# Separate dependent and independent variables\n",
    "X = df['body_text_clean']\n",
    "y = df['label']"
   ]
  },
  {
   "cell_type": "code",
   "execution_count": 24,
   "id": "3ecb6561",
   "metadata": {},
   "outputs": [],
   "source": [
    "# Instantiate count vectorizer (Bag of Words) object \n",
    "cv = CountVectorizer()"
   ]
  },
  {
   "cell_type": "code",
   "execution_count": 25,
   "id": "3c047bb5",
   "metadata": {},
   "outputs": [],
   "source": [
    "# Tranform body_text into numeric values \n",
    "X = cv.fit_transform(X)"
   ]
  },
  {
   "cell_type": "code",
   "execution_count": 26,
   "id": "3471236d",
   "metadata": {
    "scrolled": true
   },
   "outputs": [],
   "source": [
    "# Split into training set and test set\n",
    "X_train, X_test, y_train, y_test = \\\n",
    "    train_test_split(X, y, test_size = test_set_size, random_state = random_state)"
   ]
  },
  {
   "cell_type": "markdown",
   "id": "a9d4c735",
   "metadata": {},
   "source": [
    "### Train Bernoulli Naive Bayes classifier (with Bag of Words vectorization + clean data)"
   ]
  },
  {
   "cell_type": "code",
   "execution_count": 27,
   "id": "200c2e5c",
   "metadata": {},
   "outputs": [],
   "source": [
    "# model = BernoulliNB()     # No need to do this since we already instantiated it earlier\n",
    "model.fit(X_train, y_train)\n",
    "predict = model.predict(X_test)"
   ]
  },
  {
   "cell_type": "markdown",
   "id": "c2f0e95a",
   "metadata": {},
   "source": [
    "### Evaluate Bernoulli Naive Bayes model performance (with Bag of Words vectorization + clean data)"
   ]
  },
  {
   "cell_type": "code",
   "execution_count": 28,
   "id": "bef97bc0",
   "metadata": {},
   "outputs": [
    {
     "name": "stdout",
     "output_type": "stream",
     "text": [
      "Accuracy on training set: 0.9815\n",
      "Accuracy on test set: 0.9743\n"
     ]
    }
   ],
   "source": [
    "print('Accuracy on training set: {:.4f}'.format(model.score(X_train, y_train)))\n",
    "print('Accuracy on test set: {:.4f}'.format(model.score(X_test, y_test)))"
   ]
  },
  {
   "cell_type": "markdown",
   "id": "574eb06d",
   "metadata": {},
   "source": [
    "#### >10% improvement in performance in experiment 3 over experiments 1 & 2"
   ]
  },
  {
   "cell_type": "markdown",
   "id": "08d2810d",
   "metadata": {},
   "source": [
    "## Experiment #4:  TF-IDF vectorizer with body_text (cleaned)"
   ]
  },
  {
   "cell_type": "code",
   "execution_count": 29,
   "id": "4372538e",
   "metadata": {},
   "outputs": [],
   "source": [
    "# Separate dependent and independent variables\n",
    "X = df['body_text_clean']\n",
    "y = df['label']"
   ]
  },
  {
   "cell_type": "code",
   "execution_count": 30,
   "id": "dbfbab2a",
   "metadata": {
    "scrolled": true
   },
   "outputs": [],
   "source": [
    "# Instantiate TF-IDF vectorizer object \n",
    "tfidfv = TfidfVectorizer()"
   ]
  },
  {
   "cell_type": "code",
   "execution_count": 31,
   "id": "56a51edb",
   "metadata": {},
   "outputs": [],
   "source": [
    "# Tranform body_text into numeric values \n",
    "X = tfidfv.fit_transform(X)"
   ]
  },
  {
   "cell_type": "code",
   "execution_count": 32,
   "id": "a708cb54",
   "metadata": {
    "scrolled": true
   },
   "outputs": [],
   "source": [
    "# Split into training set and test set\n",
    "X_train, X_test, y_train, y_test = \\\n",
    "    train_test_split(X, y, test_size = test_set_size, random_state = random_state)"
   ]
  },
  {
   "cell_type": "markdown",
   "id": "b5415b48",
   "metadata": {},
   "source": [
    "### Train Bernoulli Naive Bayes classifier (with TF-IDF vectorization + clean data)"
   ]
  },
  {
   "cell_type": "code",
   "execution_count": 33,
   "id": "5d9060d3",
   "metadata": {},
   "outputs": [],
   "source": [
    "# model = BernoulliNB()     # No need to do this since we already instantiated it earlier\n",
    "model.fit(X_train, y_train)\n",
    "predict = model.predict(X_test)"
   ]
  },
  {
   "cell_type": "markdown",
   "id": "eb463a0c",
   "metadata": {},
   "source": [
    "### Evaluate Bernoulli Naive Bayes model performance (with TF-IDF vectorization + clean data)"
   ]
  },
  {
   "cell_type": "code",
   "execution_count": 34,
   "id": "ae9c2d08",
   "metadata": {
    "scrolled": true
   },
   "outputs": [
    {
     "name": "stdout",
     "output_type": "stream",
     "text": [
      "Accuracy on training set: 0.9815\n",
      "Accuracy on test set: 0.9743\n"
     ]
    }
   ],
   "source": [
    "print('Accuracy on training set: {:.4f}'.format(model.score(X_train, y_train)))\n",
    "print('Accuracy on test set: {:.4f}'.format(model.score(X_test, y_test)))"
   ]
  },
  {
   "cell_type": "markdown",
   "id": "6e5ddc2a",
   "metadata": {},
   "source": [
    "#### Same >10% improvement in performance in experiment 4 over experiments 1 & 2.  Equivalent performance in experiments 3 & 4 "
   ]
  }
 ],
 "metadata": {
  "kernelspec": {
   "display_name": "Python 3",
   "language": "python",
   "name": "python3"
  },
  "language_info": {
   "codemirror_mode": {
    "name": "ipython",
    "version": 3
   },
   "file_extension": ".py",
   "mimetype": "text/x-python",
   "name": "python",
   "nbconvert_exporter": "python",
   "pygments_lexer": "ipython3",
   "version": "3.10.3 (v3.10.3:a342a49189, Mar 16 2022, 09:34:18) [Clang 13.0.0 (clang-1300.0.29.30)]"
  },
  "vscode": {
   "interpreter": {
    "hash": "aee8b7b246df8f9039afb4144a1f6fd8d2ca17a180786b69acc140d282b71a49"
   }
  }
 },
 "nbformat": 4,
 "nbformat_minor": 5
}
