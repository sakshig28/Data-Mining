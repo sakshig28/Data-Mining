{
 "cells": [
  {
   "cell_type": "markdown",
   "metadata": {},
   "source": [
    "# Recommender Systems 2 - Collaborative Model-based Filtering"
   ]
  },
  {
   "cell_type": "markdown",
   "metadata": {},
   "source": [
    "### Import libraries"
   ]
  },
  {
   "cell_type": "code",
   "execution_count": 1,
   "metadata": {},
   "outputs": [],
   "source": [
    "import pandas as pd\n",
    "import numpy as np\n",
    "import warnings\n",
    "warnings.filterwarnings(\"ignore\", category=RuntimeWarning)\n",
    "from scipy.sparse import csr_matrix\n",
    "from sklearn.neighbors import NearestNeighbors\n",
    "from sklearn.decomposition import TruncatedSVD"
   ]
  },
  {
   "cell_type": "markdown",
   "metadata": {},
   "source": [
    "### Load (cleaned) data"
   ]
  },
  {
   "cell_type": "code",
   "execution_count": 2,
   "metadata": {},
   "outputs": [],
   "source": [
    "# Load books\n",
    "books = pd.read_csv('data/BX-Books_cleaned.csv', encoding=\"latin-1\", low_memory=False)\n",
    "\n",
    "# Load users\n",
    "users = pd.read_csv('data/BX-Users_cleaned.csv', encoding=\"latin-1\", low_memory=False)\n",
    "\n",
    "# Load ratings\n",
    "ratings = pd.read_csv('data/BX-Book-Ratings_cleaned.csv', encoding=\"latin-1\", low_memory=False)"
   ]
  },
  {
   "cell_type": "markdown",
   "metadata": {},
   "source": [
    "### Examine data"
   ]
  },
  {
   "cell_type": "code",
   "execution_count": 3,
   "metadata": {},
   "outputs": [],
   "source": [
    "pd.set_option('display.max_colwidth', 100)"
   ]
  },
  {
   "cell_type": "markdown",
   "metadata": {},
   "source": [
    "#### books (cleaned)"
   ]
  },
  {
   "cell_type": "code",
   "execution_count": 4,
   "metadata": {},
   "outputs": [
    {
     "data": {
      "text/html": [
       "<div>\n",
       "<style scoped>\n",
       "    .dataframe tbody tr th:only-of-type {\n",
       "        vertical-align: middle;\n",
       "    }\n",
       "\n",
       "    .dataframe tbody tr th {\n",
       "        vertical-align: top;\n",
       "    }\n",
       "\n",
       "    .dataframe thead th {\n",
       "        text-align: right;\n",
       "    }\n",
       "</style>\n",
       "<table border=\"1\" class=\"dataframe\">\n",
       "  <thead>\n",
       "    <tr style=\"text-align: right;\">\n",
       "      <th></th>\n",
       "      <th>ISBN</th>\n",
       "      <th>bookTitle</th>\n",
       "      <th>bookAuthor</th>\n",
       "      <th>yearOfPublication</th>\n",
       "      <th>publisher</th>\n",
       "    </tr>\n",
       "  </thead>\n",
       "  <tbody>\n",
       "    <tr>\n",
       "      <th>0</th>\n",
       "      <td>0195153448</td>\n",
       "      <td>Classical Mythology</td>\n",
       "      <td>Mark P. O. Morford</td>\n",
       "      <td>2002</td>\n",
       "      <td>Oxford University Press</td>\n",
       "    </tr>\n",
       "    <tr>\n",
       "      <th>1</th>\n",
       "      <td>0002005018</td>\n",
       "      <td>Clara Callan</td>\n",
       "      <td>Richard Bruce Wright</td>\n",
       "      <td>2001</td>\n",
       "      <td>HarperFlamingo Canada</td>\n",
       "    </tr>\n",
       "    <tr>\n",
       "      <th>2</th>\n",
       "      <td>0060973129</td>\n",
       "      <td>Decision in Normandy</td>\n",
       "      <td>Carlo D'Este</td>\n",
       "      <td>1991</td>\n",
       "      <td>HarperPerennial</td>\n",
       "    </tr>\n",
       "    <tr>\n",
       "      <th>3</th>\n",
       "      <td>0374157065</td>\n",
       "      <td>Flu: The Story of the Great Influenza Pandemic of 1918 and the Search for the Virus That Caused It</td>\n",
       "      <td>Gina Bari Kolata</td>\n",
       "      <td>1999</td>\n",
       "      <td>Farrar Straus Giroux</td>\n",
       "    </tr>\n",
       "    <tr>\n",
       "      <th>4</th>\n",
       "      <td>0393045218</td>\n",
       "      <td>The Mummies of Urumchi</td>\n",
       "      <td>E. J. W. Barber</td>\n",
       "      <td>1999</td>\n",
       "      <td>W. W. Norton &amp;amp; Company</td>\n",
       "    </tr>\n",
       "  </tbody>\n",
       "</table>\n",
       "</div>"
      ],
      "text/plain": [
       "         ISBN  \\\n",
       "0  0195153448   \n",
       "1  0002005018   \n",
       "2  0060973129   \n",
       "3  0374157065   \n",
       "4  0393045218   \n",
       "\n",
       "                                                                                            bookTitle  \\\n",
       "0                                                                                 Classical Mythology   \n",
       "1                                                                                        Clara Callan   \n",
       "2                                                                                Decision in Normandy   \n",
       "3  Flu: The Story of the Great Influenza Pandemic of 1918 and the Search for the Virus That Caused It   \n",
       "4                                                                              The Mummies of Urumchi   \n",
       "\n",
       "             bookAuthor  yearOfPublication                   publisher  \n",
       "0    Mark P. O. Morford               2002     Oxford University Press  \n",
       "1  Richard Bruce Wright               2001       HarperFlamingo Canada  \n",
       "2          Carlo D'Este               1991             HarperPerennial  \n",
       "3      Gina Bari Kolata               1999        Farrar Straus Giroux  \n",
       "4       E. J. W. Barber               1999  W. W. Norton &amp; Company  "
      ]
     },
     "execution_count": 4,
     "metadata": {},
     "output_type": "execute_result"
    }
   ],
   "source": [
    "books.head()"
   ]
  },
  {
   "cell_type": "markdown",
   "metadata": {},
   "source": [
    "#### users (cleaned)"
   ]
  },
  {
   "cell_type": "code",
   "execution_count": 5,
   "metadata": {},
   "outputs": [
    {
     "data": {
      "text/html": [
       "<div>\n",
       "<style scoped>\n",
       "    .dataframe tbody tr th:only-of-type {\n",
       "        vertical-align: middle;\n",
       "    }\n",
       "\n",
       "    .dataframe tbody tr th {\n",
       "        vertical-align: top;\n",
       "    }\n",
       "\n",
       "    .dataframe thead th {\n",
       "        text-align: right;\n",
       "    }\n",
       "</style>\n",
       "<table border=\"1\" class=\"dataframe\">\n",
       "  <thead>\n",
       "    <tr style=\"text-align: right;\">\n",
       "      <th></th>\n",
       "      <th>userID</th>\n",
       "      <th>Location</th>\n",
       "      <th>Age</th>\n",
       "      <th>country</th>\n",
       "    </tr>\n",
       "  </thead>\n",
       "  <tbody>\n",
       "    <tr>\n",
       "      <th>0</th>\n",
       "      <td>1</td>\n",
       "      <td>nyc, new york, usa</td>\n",
       "      <td>34</td>\n",
       "      <td>usa</td>\n",
       "    </tr>\n",
       "    <tr>\n",
       "      <th>1</th>\n",
       "      <td>2</td>\n",
       "      <td>stockton, california, usa</td>\n",
       "      <td>18</td>\n",
       "      <td>usa</td>\n",
       "    </tr>\n",
       "    <tr>\n",
       "      <th>2</th>\n",
       "      <td>4</td>\n",
       "      <td>porto, v.n.gaia, portugal</td>\n",
       "      <td>17</td>\n",
       "      <td>portugal</td>\n",
       "    </tr>\n",
       "    <tr>\n",
       "      <th>3</th>\n",
       "      <td>5</td>\n",
       "      <td>farnborough, hants, united kingdom</td>\n",
       "      <td>34</td>\n",
       "      <td>united kingdom</td>\n",
       "    </tr>\n",
       "    <tr>\n",
       "      <th>4</th>\n",
       "      <td>6</td>\n",
       "      <td>santa monica, california, usa</td>\n",
       "      <td>61</td>\n",
       "      <td>usa</td>\n",
       "    </tr>\n",
       "  </tbody>\n",
       "</table>\n",
       "</div>"
      ],
      "text/plain": [
       "   userID                            Location  Age         country\n",
       "0       1                  nyc, new york, usa   34             usa\n",
       "1       2           stockton, california, usa   18             usa\n",
       "2       4           porto, v.n.gaia, portugal   17        portugal\n",
       "3       5  farnborough, hants, united kingdom   34  united kingdom\n",
       "4       6       santa monica, california, usa   61             usa"
      ]
     },
     "execution_count": 5,
     "metadata": {},
     "output_type": "execute_result"
    }
   ],
   "source": [
    "users.head()"
   ]
  },
  {
   "cell_type": "markdown",
   "metadata": {},
   "source": [
    "#### ratings (cleaned)"
   ]
  },
  {
   "cell_type": "code",
   "execution_count": 6,
   "metadata": {
    "scrolled": true
   },
   "outputs": [
    {
     "data": {
      "text/html": [
       "<div>\n",
       "<style scoped>\n",
       "    .dataframe tbody tr th:only-of-type {\n",
       "        vertical-align: middle;\n",
       "    }\n",
       "\n",
       "    .dataframe tbody tr th {\n",
       "        vertical-align: top;\n",
       "    }\n",
       "\n",
       "    .dataframe thead th {\n",
       "        text-align: right;\n",
       "    }\n",
       "</style>\n",
       "<table border=\"1\" class=\"dataframe\">\n",
       "  <thead>\n",
       "    <tr style=\"text-align: right;\">\n",
       "      <th></th>\n",
       "      <th>userID</th>\n",
       "      <th>ISBN</th>\n",
       "      <th>bookRating</th>\n",
       "    </tr>\n",
       "  </thead>\n",
       "  <tbody>\n",
       "    <tr>\n",
       "      <th>0</th>\n",
       "      <td>276725</td>\n",
       "      <td>034545104X</td>\n",
       "      <td>0</td>\n",
       "    </tr>\n",
       "    <tr>\n",
       "      <th>1</th>\n",
       "      <td>276726</td>\n",
       "      <td>0155061224</td>\n",
       "      <td>5</td>\n",
       "    </tr>\n",
       "    <tr>\n",
       "      <th>2</th>\n",
       "      <td>276727</td>\n",
       "      <td>0446520802</td>\n",
       "      <td>0</td>\n",
       "    </tr>\n",
       "    <tr>\n",
       "      <th>3</th>\n",
       "      <td>276733</td>\n",
       "      <td>2080674722</td>\n",
       "      <td>0</td>\n",
       "    </tr>\n",
       "    <tr>\n",
       "      <th>4</th>\n",
       "      <td>276744</td>\n",
       "      <td>038550120X</td>\n",
       "      <td>7</td>\n",
       "    </tr>\n",
       "  </tbody>\n",
       "</table>\n",
       "</div>"
      ],
      "text/plain": [
       "   userID        ISBN  bookRating\n",
       "0  276725  034545104X           0\n",
       "1  276726  0155061224           5\n",
       "2  276727  0446520802           0\n",
       "3  276733  2080674722           0\n",
       "4  276744  038550120X           7"
      ]
     },
     "execution_count": 6,
     "metadata": {},
     "output_type": "execute_result"
    }
   ],
   "source": [
    "ratings.head()"
   ]
  },
  {
   "cell_type": "markdown",
   "metadata": {},
   "source": [
    "### Generate rating statistics"
   ]
  },
  {
   "cell_type": "code",
   "execution_count": 7,
   "metadata": {
    "scrolled": true
   },
   "outputs": [
    {
     "data": {
      "text/html": [
       "<div>\n",
       "<style scoped>\n",
       "    .dataframe tbody tr th:only-of-type {\n",
       "        vertical-align: middle;\n",
       "    }\n",
       "\n",
       "    .dataframe tbody tr th {\n",
       "        vertical-align: top;\n",
       "    }\n",
       "\n",
       "    .dataframe thead th {\n",
       "        text-align: right;\n",
       "    }\n",
       "</style>\n",
       "<table border=\"1\" class=\"dataframe\">\n",
       "  <thead>\n",
       "    <tr style=\"text-align: right;\">\n",
       "      <th></th>\n",
       "      <th>ISBN</th>\n",
       "      <th>avg_rating</th>\n",
       "      <th>num_ratings</th>\n",
       "    </tr>\n",
       "  </thead>\n",
       "  <tbody>\n",
       "    <tr>\n",
       "      <th>0</th>\n",
       "      <td>0000913154</td>\n",
       "      <td>8.0</td>\n",
       "      <td>1</td>\n",
       "    </tr>\n",
       "    <tr>\n",
       "      <th>1</th>\n",
       "      <td>0001010565</td>\n",
       "      <td>0.0</td>\n",
       "      <td>2</td>\n",
       "    </tr>\n",
       "    <tr>\n",
       "      <th>2</th>\n",
       "      <td>0001046438</td>\n",
       "      <td>9.0</td>\n",
       "      <td>1</td>\n",
       "    </tr>\n",
       "    <tr>\n",
       "      <th>3</th>\n",
       "      <td>0001046713</td>\n",
       "      <td>0.0</td>\n",
       "      <td>1</td>\n",
       "    </tr>\n",
       "    <tr>\n",
       "      <th>4</th>\n",
       "      <td>000104687X</td>\n",
       "      <td>6.0</td>\n",
       "      <td>1</td>\n",
       "    </tr>\n",
       "  </tbody>\n",
       "</table>\n",
       "</div>"
      ],
      "text/plain": [
       "         ISBN  avg_rating  num_ratings\n",
       "0  0000913154         8.0            1\n",
       "1  0001010565         0.0            2\n",
       "2  0001046438         9.0            1\n",
       "3  0001046713         0.0            1\n",
       "4  000104687X         6.0            1"
      ]
     },
     "execution_count": 7,
     "metadata": {},
     "output_type": "execute_result"
    }
   ],
   "source": [
    "# Calculate the average rating for each book\n",
    "ratings_stats = pd.DataFrame(ratings.groupby('ISBN')['bookRating'].mean())\n",
    "\n",
    "# Calculate the number of ratings (including bookRating=0) for each book\n",
    "ratings_stats['num_ratings'] = pd.DataFrame(ratings.groupby('ISBN')['bookRating'].count())\n",
    "\n",
    "# Rename column and reset index\n",
    "ratings_stats.rename(columns={\"bookRating\" : \"avg_rating\"}, inplace=True)\n",
    "ratings_stats.reset_index(inplace=True)\n",
    "\n",
    "ratings_stats.head()"
   ]
  },
  {
   "cell_type": "markdown",
   "metadata": {},
   "source": [
    "### Filter to include only the most popular books (by number of ratings)"
   ]
  },
  {
   "cell_type": "code",
   "execution_count": 8,
   "metadata": {},
   "outputs": [
    {
     "data": {
      "text/html": [
       "<div>\n",
       "<style scoped>\n",
       "    .dataframe tbody tr th:only-of-type {\n",
       "        vertical-align: middle;\n",
       "    }\n",
       "\n",
       "    .dataframe tbody tr th {\n",
       "        vertical-align: top;\n",
       "    }\n",
       "\n",
       "    .dataframe thead th {\n",
       "        text-align: right;\n",
       "    }\n",
       "</style>\n",
       "<table border=\"1\" class=\"dataframe\">\n",
       "  <thead>\n",
       "    <tr style=\"text-align: right;\">\n",
       "      <th></th>\n",
       "      <th>ISBN</th>\n",
       "      <th>avg_rating</th>\n",
       "      <th>num_ratings</th>\n",
       "      <th>bookTitle</th>\n",
       "    </tr>\n",
       "  </thead>\n",
       "  <tbody>\n",
       "    <tr>\n",
       "      <th>112832</th>\n",
       "      <td>0553141430</td>\n",
       "      <td>0.0</td>\n",
       "      <td>1</td>\n",
       "      <td>White Shaman</td>\n",
       "    </tr>\n",
       "    <tr>\n",
       "      <th>126042</th>\n",
       "      <td>0590921568</td>\n",
       "      <td>5.5</td>\n",
       "      <td>4</td>\n",
       "      <td>The Magic School Bus Out of This World: A Book About Space Rocks (Magic School Bus)</td>\n",
       "    </tr>\n",
       "    <tr>\n",
       "      <th>94555</th>\n",
       "      <td>0449210014</td>\n",
       "      <td>0.0</td>\n",
       "      <td>3</td>\n",
       "      <td>Monday the Rabbi Took Off (Rabbi Small Mysteries)</td>\n",
       "    </tr>\n",
       "    <tr>\n",
       "      <th>69457</th>\n",
       "      <td>0385500904</td>\n",
       "      <td>3.0</td>\n",
       "      <td>2</td>\n",
       "      <td>The Disastrous Mrs. Weldon: The Life, Loves, and Lawsuits of a Legendary Victorian</td>\n",
       "    </tr>\n",
       "    <tr>\n",
       "      <th>154095</th>\n",
       "      <td>0743202457</td>\n",
       "      <td>0.0</td>\n",
       "      <td>2</td>\n",
       "      <td>Bookends : Two Women, One Enduring Friendship</td>\n",
       "    </tr>\n",
       "  </tbody>\n",
       "</table>\n",
       "</div>"
      ],
      "text/plain": [
       "              ISBN  avg_rating  num_ratings  \\\n",
       "112832  0553141430         0.0            1   \n",
       "126042  0590921568         5.5            4   \n",
       "94555   0449210014         0.0            3   \n",
       "69457   0385500904         3.0            2   \n",
       "154095  0743202457         0.0            2   \n",
       "\n",
       "                                                                                  bookTitle  \n",
       "112832                                                                         White Shaman  \n",
       "126042  The Magic School Bus Out of This World: A Book About Space Rocks (Magic School Bus)  \n",
       "94555                                     Monday the Rabbi Took Off (Rabbi Small Mysteries)  \n",
       "69457    The Disastrous Mrs. Weldon: The Life, Loves, and Lawsuits of a Legendary Victorian  \n",
       "154095                                        Bookends : Two Women, One Enduring Friendship  "
      ]
     },
     "execution_count": 8,
     "metadata": {},
     "output_type": "execute_result"
    }
   ],
   "source": [
    "# Combine ratings_stats and books\n",
    "ratings_books_counts = pd.merge(ratings_stats, books, on='ISBN')\n",
    "\n",
    "# Drop unnecessary columns\n",
    "columns = ['yearOfPublication', 'publisher', 'bookAuthor']\n",
    "ratings_books_counts.drop(columns, axis=1, inplace=True)\n",
    "ratings_books_counts.sample(5)"
   ]
  },
  {
   "cell_type": "code",
   "execution_count": 9,
   "metadata": {},
   "outputs": [
    {
     "data": {
      "text/plain": [
       "count    264373.000000\n",
       "mean          3.694920\n",
       "std          13.200533\n",
       "min           1.000000\n",
       "25%           1.000000\n",
       "50%           1.000000\n",
       "75%           3.000000\n",
       "max        2322.000000\n",
       "Name: num_ratings, dtype: float64"
      ]
     },
     "execution_count": 9,
     "metadata": {},
     "output_type": "execute_result"
    }
   ],
   "source": [
    "ratings_books_counts['num_ratings'].describe()"
   ]
  },
  {
   "cell_type": "markdown",
   "metadata": {},
   "source": [
    "We have over 260,000 books, but the median (50th percentile) book has only 1 rating.  \n",
    "Let’s review the top 10% of the distribution."
   ]
  },
  {
   "cell_type": "code",
   "execution_count": 10,
   "metadata": {
    "scrolled": true
   },
   "outputs": [
    {
     "data": {
      "text/plain": [
       "0.90     6.0\n",
       "0.91     7.0\n",
       "0.92     8.0\n",
       "0.93     9.0\n",
       "0.94    10.0\n",
       "0.95    11.0\n",
       "0.96    14.0\n",
       "0.97    17.0\n",
       "0.98    24.0\n",
       "0.99    40.0\n",
       "Name: num_ratings, dtype: float64"
      ]
     },
     "execution_count": 10,
     "metadata": {},
     "output_type": "execute_result"
    }
   ],
   "source": [
    "ratings_books_counts['num_ratings'].quantile(np.arange(.9, 1, .01))"
   ]
  },
  {
   "cell_type": "markdown",
   "metadata": {},
   "source": [
    "Only 4% of books have 14 or more ratings.  \n",
    "Since we have so many books AND to speed up computation, let's limit our book recommendations to be based on the top 4% of books."
   ]
  },
  {
   "cell_type": "code",
   "execution_count": 11,
   "metadata": {},
   "outputs": [
    {
     "data": {
      "text/plain": [
       "(10629, 4)"
      ]
     },
     "execution_count": 11,
     "metadata": {},
     "output_type": "execute_result"
    }
   ],
   "source": [
    "popularity_threshold = 14     # Set number of ratings threshold\n",
    "most_popular_books = ratings_books_counts.query('num_ratings >= @popularity_threshold')\n",
    "most_popular_books.shape"
   ]
  },
  {
   "cell_type": "markdown",
   "metadata": {},
   "source": [
    "We still have over 10,000 different popular books"
   ]
  },
  {
   "cell_type": "code",
   "execution_count": 12,
   "metadata": {},
   "outputs": [
    {
     "data": {
      "text/html": [
       "<div>\n",
       "<style scoped>\n",
       "    .dataframe tbody tr th:only-of-type {\n",
       "        vertical-align: middle;\n",
       "    }\n",
       "\n",
       "    .dataframe tbody tr th {\n",
       "        vertical-align: top;\n",
       "    }\n",
       "\n",
       "    .dataframe thead th {\n",
       "        text-align: right;\n",
       "    }\n",
       "</style>\n",
       "<table border=\"1\" class=\"dataframe\">\n",
       "  <thead>\n",
       "    <tr style=\"text-align: right;\">\n",
       "      <th></th>\n",
       "      <th>ISBN</th>\n",
       "      <th>avg_rating</th>\n",
       "      <th>num_ratings</th>\n",
       "      <th>bookTitle</th>\n",
       "    </tr>\n",
       "  </thead>\n",
       "  <tbody>\n",
       "    <tr>\n",
       "      <th>121492</th>\n",
       "      <td>058351149X</td>\n",
       "      <td>1.318182</td>\n",
       "      <td>22</td>\n",
       "      <td>Worst Fears</td>\n",
       "    </tr>\n",
       "    <tr>\n",
       "      <th>1143</th>\n",
       "      <td>000716226X</td>\n",
       "      <td>2.937500</td>\n",
       "      <td>16</td>\n",
       "      <td>The Bride Stripped Bare : A Novel</td>\n",
       "    </tr>\n",
       "    <tr>\n",
       "      <th>165337</th>\n",
       "      <td>0786015233</td>\n",
       "      <td>0.812500</td>\n",
       "      <td>16</td>\n",
       "      <td>The Jasmine Trade</td>\n",
       "    </tr>\n",
       "    <tr>\n",
       "      <th>98999</th>\n",
       "      <td>0451206673</td>\n",
       "      <td>2.763636</td>\n",
       "      <td>55</td>\n",
       "      <td>Pen Pals</td>\n",
       "    </tr>\n",
       "    <tr>\n",
       "      <th>119322</th>\n",
       "      <td>0553574639</td>\n",
       "      <td>3.206349</td>\n",
       "      <td>63</td>\n",
       "      <td>The Main Corpse (Culinary Mysteries (Paperback))</td>\n",
       "    </tr>\n",
       "  </tbody>\n",
       "</table>\n",
       "</div>"
      ],
      "text/plain": [
       "              ISBN  avg_rating  num_ratings  \\\n",
       "121492  058351149X    1.318182           22   \n",
       "1143    000716226X    2.937500           16   \n",
       "165337  0786015233    0.812500           16   \n",
       "98999   0451206673    2.763636           55   \n",
       "119322  0553574639    3.206349           63   \n",
       "\n",
       "                                               bookTitle  \n",
       "121492                                       Worst Fears  \n",
       "1143                   The Bride Stripped Bare : A Novel  \n",
       "165337                                 The Jasmine Trade  \n",
       "98999                                           Pen Pals  \n",
       "119322  The Main Corpse (Culinary Mysteries (Paperback))  "
      ]
     },
     "execution_count": 12,
     "metadata": {},
     "output_type": "execute_result"
    }
   ],
   "source": [
    "most_popular_books.sample(5)"
   ]
  },
  {
   "cell_type": "code",
   "execution_count": 13,
   "metadata": {},
   "outputs": [
    {
     "data": {
      "text/plain": [
       "(418105, 6)"
      ]
     },
     "execution_count": 13,
     "metadata": {},
     "output_type": "execute_result"
    }
   ],
   "source": [
    "# Merge most popular books with the individual ratings for each of these books\n",
    "most_popular_books_ratings = most_popular_books.merge(ratings, \\\n",
    "                                                      left_on = 'ISBN', \\\n",
    "                                                      right_on = 'ISBN', \\\n",
    "                                                      how = 'left')\n",
    "\n",
    "most_popular_books_ratings.shape"
   ]
  },
  {
   "cell_type": "code",
   "execution_count": 14,
   "metadata": {
    "scrolled": true
   },
   "outputs": [
    {
     "data": {
      "text/html": [
       "<div>\n",
       "<style scoped>\n",
       "    .dataframe tbody tr th:only-of-type {\n",
       "        vertical-align: middle;\n",
       "    }\n",
       "\n",
       "    .dataframe tbody tr th {\n",
       "        vertical-align: top;\n",
       "    }\n",
       "\n",
       "    .dataframe thead th {\n",
       "        text-align: right;\n",
       "    }\n",
       "</style>\n",
       "<table border=\"1\" class=\"dataframe\">\n",
       "  <thead>\n",
       "    <tr style=\"text-align: right;\">\n",
       "      <th></th>\n",
       "      <th>ISBN</th>\n",
       "      <th>avg_rating</th>\n",
       "      <th>num_ratings</th>\n",
       "      <th>bookTitle</th>\n",
       "      <th>userID</th>\n",
       "      <th>bookRating</th>\n",
       "    </tr>\n",
       "  </thead>\n",
       "  <tbody>\n",
       "    <tr>\n",
       "      <th>0</th>\n",
       "      <td>0002558122</td>\n",
       "      <td>4.111111</td>\n",
       "      <td>18</td>\n",
       "      <td>Angelas Ashes</td>\n",
       "      <td>278474</td>\n",
       "      <td>0</td>\n",
       "    </tr>\n",
       "    <tr>\n",
       "      <th>1</th>\n",
       "      <td>0002558122</td>\n",
       "      <td>4.111111</td>\n",
       "      <td>18</td>\n",
       "      <td>Angelas Ashes</td>\n",
       "      <td>27782</td>\n",
       "      <td>0</td>\n",
       "    </tr>\n",
       "    <tr>\n",
       "      <th>2</th>\n",
       "      <td>0002558122</td>\n",
       "      <td>4.111111</td>\n",
       "      <td>18</td>\n",
       "      <td>Angelas Ashes</td>\n",
       "      <td>59616</td>\n",
       "      <td>0</td>\n",
       "    </tr>\n",
       "    <tr>\n",
       "      <th>3</th>\n",
       "      <td>0002558122</td>\n",
       "      <td>4.111111</td>\n",
       "      <td>18</td>\n",
       "      <td>Angelas Ashes</td>\n",
       "      <td>71837</td>\n",
       "      <td>10</td>\n",
       "    </tr>\n",
       "    <tr>\n",
       "      <th>4</th>\n",
       "      <td>0002558122</td>\n",
       "      <td>4.111111</td>\n",
       "      <td>18</td>\n",
       "      <td>Angelas Ashes</td>\n",
       "      <td>75187</td>\n",
       "      <td>0</td>\n",
       "    </tr>\n",
       "  </tbody>\n",
       "</table>\n",
       "</div>"
      ],
      "text/plain": [
       "         ISBN  avg_rating  num_ratings      bookTitle  userID  bookRating\n",
       "0  0002558122    4.111111           18  Angelas Ashes  278474           0\n",
       "1  0002558122    4.111111           18  Angelas Ashes   27782           0\n",
       "2  0002558122    4.111111           18  Angelas Ashes   59616           0\n",
       "3  0002558122    4.111111           18  Angelas Ashes   71837          10\n",
       "4  0002558122    4.111111           18  Angelas Ashes   75187           0"
      ]
     },
     "execution_count": 14,
     "metadata": {},
     "output_type": "execute_result"
    }
   ],
   "source": [
    "most_popular_books_ratings.head()"
   ]
  },
  {
   "cell_type": "code",
   "execution_count": 15,
   "metadata": {
    "scrolled": true
   },
   "outputs": [
    {
     "name": "stdout",
     "output_type": "stream",
     "text": [
      "Removed 1929 rows\n"
     ]
    }
   ],
   "source": [
    "# Remove duplicate ratings of userID and bookTitle\n",
    "initial_rows = most_popular_books_ratings.shape[0]\n",
    "most_popular_books_ratings = most_popular_books_ratings.drop_duplicates(['userID', 'bookTitle'])\n",
    "current_rows = most_popular_books_ratings.shape[0]\n",
    "print('Removed {0} rows'.format(initial_rows - current_rows))"
   ]
  },
  {
   "cell_type": "markdown",
   "metadata": {},
   "source": [
    "### Recommendations based on NearestNeighbors model\n",
    "#### Create user-item interactions matrix"
   ]
  },
  {
   "cell_type": "code",
   "execution_count": 16,
   "metadata": {},
   "outputs": [
    {
     "name": "stdout",
     "output_type": "stream",
     "text": [
      "CPU times: user 6.59 s, sys: 11.3 s, total: 17.9 s\n",
      "Wall time: 15.4 s\n"
     ]
    },
    {
     "data": {
      "text/plain": [
       "(9426, 56342)"
      ]
     },
     "execution_count": 16,
     "metadata": {},
     "output_type": "execute_result"
    }
   ],
   "source": [
    "%%time\n",
    "\n",
    "# For the most popular books, create a pivot table with bookTitle as the index\n",
    "most_popular_books_ratings_pivot = most_popular_books_ratings.pivot(index = 'bookTitle', \\\n",
    "                                                                    columns = 'userID', \\\n",
    "                                                                    values = 'bookRating').fillna(0)\n",
    "\n",
    "most_popular_books_ratings_pivot.shape"
   ]
  },
  {
   "cell_type": "code",
   "execution_count": 17,
   "metadata": {},
   "outputs": [
    {
     "data": {
      "text/html": [
       "<div>\n",
       "<style scoped>\n",
       "    .dataframe tbody tr th:only-of-type {\n",
       "        vertical-align: middle;\n",
       "    }\n",
       "\n",
       "    .dataframe tbody tr th {\n",
       "        vertical-align: top;\n",
       "    }\n",
       "\n",
       "    .dataframe thead th {\n",
       "        text-align: right;\n",
       "    }\n",
       "</style>\n",
       "<table border=\"1\" class=\"dataframe\">\n",
       "  <thead>\n",
       "    <tr style=\"text-align: right;\">\n",
       "      <th>userID</th>\n",
       "      <th>8</th>\n",
       "      <th>9</th>\n",
       "      <th>10</th>\n",
       "      <th>14</th>\n",
       "      <th>16</th>\n",
       "      <th>17</th>\n",
       "      <th>23</th>\n",
       "      <th>26</th>\n",
       "      <th>32</th>\n",
       "      <th>39</th>\n",
       "      <th>...</th>\n",
       "      <th>278831</th>\n",
       "      <th>278832</th>\n",
       "      <th>278836</th>\n",
       "      <th>278838</th>\n",
       "      <th>278843</th>\n",
       "      <th>278844</th>\n",
       "      <th>278846</th>\n",
       "      <th>278849</th>\n",
       "      <th>278851</th>\n",
       "      <th>278854</th>\n",
       "    </tr>\n",
       "    <tr>\n",
       "      <th>bookTitle</th>\n",
       "      <th></th>\n",
       "      <th></th>\n",
       "      <th></th>\n",
       "      <th></th>\n",
       "      <th></th>\n",
       "      <th></th>\n",
       "      <th></th>\n",
       "      <th></th>\n",
       "      <th></th>\n",
       "      <th></th>\n",
       "      <th></th>\n",
       "      <th></th>\n",
       "      <th></th>\n",
       "      <th></th>\n",
       "      <th></th>\n",
       "      <th></th>\n",
       "      <th></th>\n",
       "      <th></th>\n",
       "      <th></th>\n",
       "      <th></th>\n",
       "      <th></th>\n",
       "    </tr>\n",
       "  </thead>\n",
       "  <tbody>\n",
       "    <tr>\n",
       "      <th>Q-Space (Star Trek The Next Generation, Book 47)</th>\n",
       "      <td>0.0</td>\n",
       "      <td>0.0</td>\n",
       "      <td>0.0</td>\n",
       "      <td>0.0</td>\n",
       "      <td>0.0</td>\n",
       "      <td>0.0</td>\n",
       "      <td>0.0</td>\n",
       "      <td>0.0</td>\n",
       "      <td>0.0</td>\n",
       "      <td>0.0</td>\n",
       "      <td>...</td>\n",
       "      <td>0.0</td>\n",
       "      <td>0.0</td>\n",
       "      <td>0.0</td>\n",
       "      <td>0.0</td>\n",
       "      <td>0.0</td>\n",
       "      <td>0.0</td>\n",
       "      <td>0.0</td>\n",
       "      <td>0.0</td>\n",
       "      <td>0.0</td>\n",
       "      <td>0.0</td>\n",
       "    </tr>\n",
       "    <tr>\n",
       "      <th>'Salem's Lot</th>\n",
       "      <td>0.0</td>\n",
       "      <td>0.0</td>\n",
       "      <td>0.0</td>\n",
       "      <td>0.0</td>\n",
       "      <td>0.0</td>\n",
       "      <td>0.0</td>\n",
       "      <td>0.0</td>\n",
       "      <td>0.0</td>\n",
       "      <td>0.0</td>\n",
       "      <td>0.0</td>\n",
       "      <td>...</td>\n",
       "      <td>0.0</td>\n",
       "      <td>0.0</td>\n",
       "      <td>0.0</td>\n",
       "      <td>0.0</td>\n",
       "      <td>0.0</td>\n",
       "      <td>0.0</td>\n",
       "      <td>0.0</td>\n",
       "      <td>0.0</td>\n",
       "      <td>0.0</td>\n",
       "      <td>0.0</td>\n",
       "    </tr>\n",
       "    <tr>\n",
       "      <th>01-01-00: The Novel of the Millennium</th>\n",
       "      <td>0.0</td>\n",
       "      <td>0.0</td>\n",
       "      <td>0.0</td>\n",
       "      <td>0.0</td>\n",
       "      <td>0.0</td>\n",
       "      <td>0.0</td>\n",
       "      <td>0.0</td>\n",
       "      <td>0.0</td>\n",
       "      <td>0.0</td>\n",
       "      <td>0.0</td>\n",
       "      <td>...</td>\n",
       "      <td>0.0</td>\n",
       "      <td>0.0</td>\n",
       "      <td>0.0</td>\n",
       "      <td>0.0</td>\n",
       "      <td>0.0</td>\n",
       "      <td>0.0</td>\n",
       "      <td>0.0</td>\n",
       "      <td>0.0</td>\n",
       "      <td>0.0</td>\n",
       "      <td>0.0</td>\n",
       "    </tr>\n",
       "    <tr>\n",
       "      <th>1,000 Places to See Before You Die</th>\n",
       "      <td>0.0</td>\n",
       "      <td>0.0</td>\n",
       "      <td>0.0</td>\n",
       "      <td>0.0</td>\n",
       "      <td>0.0</td>\n",
       "      <td>0.0</td>\n",
       "      <td>0.0</td>\n",
       "      <td>0.0</td>\n",
       "      <td>0.0</td>\n",
       "      <td>0.0</td>\n",
       "      <td>...</td>\n",
       "      <td>0.0</td>\n",
       "      <td>0.0</td>\n",
       "      <td>0.0</td>\n",
       "      <td>0.0</td>\n",
       "      <td>0.0</td>\n",
       "      <td>0.0</td>\n",
       "      <td>0.0</td>\n",
       "      <td>0.0</td>\n",
       "      <td>0.0</td>\n",
       "      <td>0.0</td>\n",
       "    </tr>\n",
       "    <tr>\n",
       "      <th>10 Lb. Penalty</th>\n",
       "      <td>0.0</td>\n",
       "      <td>0.0</td>\n",
       "      <td>0.0</td>\n",
       "      <td>0.0</td>\n",
       "      <td>0.0</td>\n",
       "      <td>0.0</td>\n",
       "      <td>0.0</td>\n",
       "      <td>0.0</td>\n",
       "      <td>0.0</td>\n",
       "      <td>0.0</td>\n",
       "      <td>...</td>\n",
       "      <td>0.0</td>\n",
       "      <td>0.0</td>\n",
       "      <td>0.0</td>\n",
       "      <td>0.0</td>\n",
       "      <td>0.0</td>\n",
       "      <td>0.0</td>\n",
       "      <td>0.0</td>\n",
       "      <td>0.0</td>\n",
       "      <td>0.0</td>\n",
       "      <td>0.0</td>\n",
       "    </tr>\n",
       "  </tbody>\n",
       "</table>\n",
       "<p>5 rows × 56342 columns</p>\n",
       "</div>"
      ],
      "text/plain": [
       "userID                                             8       9       10      \\\n",
       "bookTitle                                                                   \n",
       " Q-Space (Star Trek The Next Generation, Book 47)     0.0     0.0     0.0   \n",
       "'Salem's Lot                                          0.0     0.0     0.0   \n",
       "01-01-00: The Novel of the Millennium                 0.0     0.0     0.0   \n",
       "1,000 Places to See Before You Die                    0.0     0.0     0.0   \n",
       "10 Lb. Penalty                                        0.0     0.0     0.0   \n",
       "\n",
       "userID                                             14      16      17      \\\n",
       "bookTitle                                                                   \n",
       " Q-Space (Star Trek The Next Generation, Book 47)     0.0     0.0     0.0   \n",
       "'Salem's Lot                                          0.0     0.0     0.0   \n",
       "01-01-00: The Novel of the Millennium                 0.0     0.0     0.0   \n",
       "1,000 Places to See Before You Die                    0.0     0.0     0.0   \n",
       "10 Lb. Penalty                                        0.0     0.0     0.0   \n",
       "\n",
       "userID                                             23      26      32      \\\n",
       "bookTitle                                                                   \n",
       " Q-Space (Star Trek The Next Generation, Book 47)     0.0     0.0     0.0   \n",
       "'Salem's Lot                                          0.0     0.0     0.0   \n",
       "01-01-00: The Novel of the Millennium                 0.0     0.0     0.0   \n",
       "1,000 Places to See Before You Die                    0.0     0.0     0.0   \n",
       "10 Lb. Penalty                                        0.0     0.0     0.0   \n",
       "\n",
       "userID                                             39      ...  278831  \\\n",
       "bookTitle                                                  ...           \n",
       " Q-Space (Star Trek The Next Generation, Book 47)     0.0  ...     0.0   \n",
       "'Salem's Lot                                          0.0  ...     0.0   \n",
       "01-01-00: The Novel of the Millennium                 0.0  ...     0.0   \n",
       "1,000 Places to See Before You Die                    0.0  ...     0.0   \n",
       "10 Lb. Penalty                                        0.0  ...     0.0   \n",
       "\n",
       "userID                                             278832  278836  278838  \\\n",
       "bookTitle                                                                   \n",
       " Q-Space (Star Trek The Next Generation, Book 47)     0.0     0.0     0.0   \n",
       "'Salem's Lot                                          0.0     0.0     0.0   \n",
       "01-01-00: The Novel of the Millennium                 0.0     0.0     0.0   \n",
       "1,000 Places to See Before You Die                    0.0     0.0     0.0   \n",
       "10 Lb. Penalty                                        0.0     0.0     0.0   \n",
       "\n",
       "userID                                             278843  278844  278846  \\\n",
       "bookTitle                                                                   \n",
       " Q-Space (Star Trek The Next Generation, Book 47)     0.0     0.0     0.0   \n",
       "'Salem's Lot                                          0.0     0.0     0.0   \n",
       "01-01-00: The Novel of the Millennium                 0.0     0.0     0.0   \n",
       "1,000 Places to See Before You Die                    0.0     0.0     0.0   \n",
       "10 Lb. Penalty                                        0.0     0.0     0.0   \n",
       "\n",
       "userID                                             278849  278851  278854  \n",
       "bookTitle                                                                  \n",
       " Q-Space (Star Trek The Next Generation, Book 47)     0.0     0.0     0.0  \n",
       "'Salem's Lot                                          0.0     0.0     0.0  \n",
       "01-01-00: The Novel of the Millennium                 0.0     0.0     0.0  \n",
       "1,000 Places to See Before You Die                    0.0     0.0     0.0  \n",
       "10 Lb. Penalty                                        0.0     0.0     0.0  \n",
       "\n",
       "[5 rows x 56342 columns]"
      ]
     },
     "execution_count": 17,
     "metadata": {},
     "output_type": "execute_result"
    }
   ],
   "source": [
    "most_popular_books_ratings_pivot.head()"
   ]
  },
  {
   "cell_type": "markdown",
   "metadata": {},
   "source": [
    "#### Prepare data for NearestNeighbors model"
   ]
  },
  {
   "cell_type": "code",
   "execution_count": 18,
   "metadata": {},
   "outputs": [
    {
     "name": "stdout",
     "output_type": "stream",
     "text": [
      "CPU times: user 4.55 s, sys: 634 ms, total: 5.19 s\n",
      "Wall time: 5.36 s\n"
     ]
    },
    {
     "data": {
      "text/plain": [
       "scipy.sparse._csr.csr_matrix"
      ]
     },
     "execution_count": 18,
     "metadata": {},
     "output_type": "execute_result"
    }
   ],
   "source": [
    "%%time\n",
    "\n",
    "# Convert dataframe to a compressed sparse row (CSR) matrix\n",
    "most_popular_books_ratings_matrix = csr_matrix(most_popular_books_ratings_pivot.values)\n",
    "\n",
    "type(most_popular_books_ratings_matrix)"
   ]
  },
  {
   "cell_type": "markdown",
   "metadata": {},
   "source": [
    "#### Train NearestNeighbors model"
   ]
  },
  {
   "cell_type": "code",
   "execution_count": 19,
   "metadata": {},
   "outputs": [
    {
     "data": {
      "text/html": [
       "<style>#sk-container-id-1 {color: black;background-color: white;}#sk-container-id-1 pre{padding: 0;}#sk-container-id-1 div.sk-toggleable {background-color: white;}#sk-container-id-1 label.sk-toggleable__label {cursor: pointer;display: block;width: 100%;margin-bottom: 0;padding: 0.3em;box-sizing: border-box;text-align: center;}#sk-container-id-1 label.sk-toggleable__label-arrow:before {content: \"▸\";float: left;margin-right: 0.25em;color: #696969;}#sk-container-id-1 label.sk-toggleable__label-arrow:hover:before {color: black;}#sk-container-id-1 div.sk-estimator:hover label.sk-toggleable__label-arrow:before {color: black;}#sk-container-id-1 div.sk-toggleable__content {max-height: 0;max-width: 0;overflow: hidden;text-align: left;background-color: #f0f8ff;}#sk-container-id-1 div.sk-toggleable__content pre {margin: 0.2em;color: black;border-radius: 0.25em;background-color: #f0f8ff;}#sk-container-id-1 input.sk-toggleable__control:checked~div.sk-toggleable__content {max-height: 200px;max-width: 100%;overflow: auto;}#sk-container-id-1 input.sk-toggleable__control:checked~label.sk-toggleable__label-arrow:before {content: \"▾\";}#sk-container-id-1 div.sk-estimator input.sk-toggleable__control:checked~label.sk-toggleable__label {background-color: #d4ebff;}#sk-container-id-1 div.sk-label input.sk-toggleable__control:checked~label.sk-toggleable__label {background-color: #d4ebff;}#sk-container-id-1 input.sk-hidden--visually {border: 0;clip: rect(1px 1px 1px 1px);clip: rect(1px, 1px, 1px, 1px);height: 1px;margin: -1px;overflow: hidden;padding: 0;position: absolute;width: 1px;}#sk-container-id-1 div.sk-estimator {font-family: monospace;background-color: #f0f8ff;border: 1px dotted black;border-radius: 0.25em;box-sizing: border-box;margin-bottom: 0.5em;}#sk-container-id-1 div.sk-estimator:hover {background-color: #d4ebff;}#sk-container-id-1 div.sk-parallel-item::after {content: \"\";width: 100%;border-bottom: 1px solid gray;flex-grow: 1;}#sk-container-id-1 div.sk-label:hover label.sk-toggleable__label {background-color: #d4ebff;}#sk-container-id-1 div.sk-serial::before {content: \"\";position: absolute;border-left: 1px solid gray;box-sizing: border-box;top: 0;bottom: 0;left: 50%;z-index: 0;}#sk-container-id-1 div.sk-serial {display: flex;flex-direction: column;align-items: center;background-color: white;padding-right: 0.2em;padding-left: 0.2em;position: relative;}#sk-container-id-1 div.sk-item {position: relative;z-index: 1;}#sk-container-id-1 div.sk-parallel {display: flex;align-items: stretch;justify-content: center;background-color: white;position: relative;}#sk-container-id-1 div.sk-item::before, #sk-container-id-1 div.sk-parallel-item::before {content: \"\";position: absolute;border-left: 1px solid gray;box-sizing: border-box;top: 0;bottom: 0;left: 50%;z-index: -1;}#sk-container-id-1 div.sk-parallel-item {display: flex;flex-direction: column;z-index: 1;position: relative;background-color: white;}#sk-container-id-1 div.sk-parallel-item:first-child::after {align-self: flex-end;width: 50%;}#sk-container-id-1 div.sk-parallel-item:last-child::after {align-self: flex-start;width: 50%;}#sk-container-id-1 div.sk-parallel-item:only-child::after {width: 0;}#sk-container-id-1 div.sk-dashed-wrapped {border: 1px dashed gray;margin: 0 0.4em 0.5em 0.4em;box-sizing: border-box;padding-bottom: 0.4em;background-color: white;}#sk-container-id-1 div.sk-label label {font-family: monospace;font-weight: bold;display: inline-block;line-height: 1.2em;}#sk-container-id-1 div.sk-label-container {text-align: center;}#sk-container-id-1 div.sk-container {/* jupyter's `normalize.less` sets `[hidden] { display: none; }` but bootstrap.min.css set `[hidden] { display: none !important; }` so we also need the `!important` here to be able to override the default hidden behavior on the sphinx rendered scikit-learn.org. See: https://github.com/scikit-learn/scikit-learn/issues/21755 */display: inline-block !important;position: relative;}#sk-container-id-1 div.sk-text-repr-fallback {display: none;}</style><div id=\"sk-container-id-1\" class=\"sk-top-container\"><div class=\"sk-text-repr-fallback\"><pre>NearestNeighbors(algorithm=&#x27;brute&#x27;, metric=&#x27;cosine&#x27;, n_neighbors=7)</pre><b>In a Jupyter environment, please rerun this cell to show the HTML representation or trust the notebook. <br />On GitHub, the HTML representation is unable to render, please try loading this page with nbviewer.org.</b></div><div class=\"sk-container\" hidden><div class=\"sk-item\"><div class=\"sk-estimator sk-toggleable\"><input class=\"sk-toggleable__control sk-hidden--visually\" id=\"sk-estimator-id-1\" type=\"checkbox\" checked><label for=\"sk-estimator-id-1\" class=\"sk-toggleable__label sk-toggleable__label-arrow\">NearestNeighbors</label><div class=\"sk-toggleable__content\"><pre>NearestNeighbors(algorithm=&#x27;brute&#x27;, metric=&#x27;cosine&#x27;, n_neighbors=7)</pre></div></div></div></div></div>"
      ],
      "text/plain": [
       "NearestNeighbors(algorithm='brute', metric='cosine', n_neighbors=7)"
      ]
     },
     "execution_count": 19,
     "metadata": {},
     "output_type": "execute_result"
    }
   ],
   "source": [
    "model_knn = NearestNeighbors(n_neighbors=7, metric='cosine', algorithm='brute')\n",
    "model_knn.fit(most_popular_books_ratings_matrix)"
   ]
  },
  {
   "cell_type": "code",
   "execution_count": 20,
   "metadata": {},
   "outputs": [
    {
     "name": "stdout",
     "output_type": "stream",
     "text": [
      "query index = 7620, book title = The League of Extraordinary Gentlemen, Vol. 1\n"
     ]
    }
   ],
   "source": [
    "# Select a book at random\n",
    "query_index = np.random.choice(most_popular_books_ratings_pivot.shape[0])\n",
    "print('query index = {0}, book title = {1}'.format(query_index, \\\n",
    "                                                   most_popular_books_ratings_pivot.index[query_index]))"
   ]
  },
  {
   "cell_type": "code",
   "execution_count": 21,
   "metadata": {
    "scrolled": true
   },
   "outputs": [
    {
     "name": "stdout",
     "output_type": "stream",
     "text": [
      "Recommendations for The League of Extraordinary Gentlemen, Vol. 1:\n",
      "\n",
      "1: Foundation (Foundation Series ; Bk 1), with distance of 0.7972382300701215:\n",
      "2: Native Son: And How Bigger Was Born, with distance of 0.8035295206324354:\n",
      "3: Preludes and Nocturnes (Sandman, Book 1), with distance of 0.8424617091959463:\n",
      "4: Mattimeo (Redwall, Book 3), with distance of 0.844829520860003:\n",
      "5: The Fermata, with distance of 0.8535857032695022:\n"
     ]
    }
   ],
   "source": [
    "# Look up the random book's 5 nearest neighbors\n",
    "distances, indices = model_knn.kneighbors(most_popular_books_ratings_pivot.iloc[query_index, :] \\\n",
    "                                                                          .values.reshape(1, -1), \\\n",
    "                                          n_neighbors=6)\n",
    "\n",
    "for i in range(0, len(distances.flatten())):\n",
    "    if i == 0:\n",
    "        print('Recommendations for {0}:\\n'.format(most_popular_books_ratings_pivot.index[query_index]))\n",
    "    else:\n",
    "        print('{0}: {1}, with distance of {2}:'.format(i, most_popular_books_ratings_pivot. \\\n",
    "                                                          index[indices.flatten()[i]], \\\n",
    "                                                       distances.flatten()[i]))"
   ]
  },
  {
   "cell_type": "markdown",
   "metadata": {},
   "source": [
    "### Recommendations based on TruncatedSVD model\n",
    "#### Create user-item interactions matrix"
   ]
  },
  {
   "cell_type": "code",
   "execution_count": 22,
   "metadata": {},
   "outputs": [
    {
     "name": "stdout",
     "output_type": "stream",
     "text": [
      "CPU times: user 6.9 s, sys: 11.7 s, total: 18.6 s\n",
      "Wall time: 14.9 s\n"
     ]
    },
    {
     "data": {
      "text/plain": [
       "(56342, 9426)"
      ]
     },
     "execution_count": 22,
     "metadata": {},
     "output_type": "execute_result"
    }
   ],
   "source": [
    "%%time\n",
    "\n",
    "# For the most popular books, create a pivot table with bookTitle as the columns\n",
    "most_popular_books_ratings_pivot_2 = most_popular_books_ratings.pivot(index = 'userID', \\\n",
    "                                                                      columns = 'bookTitle', \\\n",
    "                                                                      values = 'bookRating').fillna(0)\n",
    "\n",
    "most_popular_books_ratings_pivot_2.shape"
   ]
  },
  {
   "cell_type": "code",
   "execution_count": 23,
   "metadata": {},
   "outputs": [
    {
     "data": {
      "text/html": [
       "<div>\n",
       "<style scoped>\n",
       "    .dataframe tbody tr th:only-of-type {\n",
       "        vertical-align: middle;\n",
       "    }\n",
       "\n",
       "    .dataframe tbody tr th {\n",
       "        vertical-align: top;\n",
       "    }\n",
       "\n",
       "    .dataframe thead th {\n",
       "        text-align: right;\n",
       "    }\n",
       "</style>\n",
       "<table border=\"1\" class=\"dataframe\">\n",
       "  <thead>\n",
       "    <tr style=\"text-align: right;\">\n",
       "      <th>bookTitle</th>\n",
       "      <th>Q-Space (Star Trek The Next Generation, Book 47)</th>\n",
       "      <th>'Salem's Lot</th>\n",
       "      <th>01-01-00: The Novel of the Millennium</th>\n",
       "      <th>1,000 Places to See Before You Die</th>\n",
       "      <th>10 Lb. Penalty</th>\n",
       "      <th>1001 Ways to Be Romantic</th>\n",
       "      <th>101 Dalmatians</th>\n",
       "      <th>14,000 Things to Be Happy About</th>\n",
       "      <th>16 Lighthouse Road</th>\n",
       "      <th>1916: A Novel of the Irish Rebellion (Irish Century)</th>\n",
       "      <th>...</th>\n",
       "      <th>ZwÃ?ÃÂ¶lf.</th>\n",
       "      <th>\\ Lamb to the Slaughter and Other Stories (Penguin 60s S.)\"</th>\n",
       "      <th>\\A\\\" is for Alibi : A Kinsey Millhone Mystery (A Kinsey Millhone Mystery)\"</th>\n",
       "      <th>\\Girls' Night Out\\\"/\\\"Boys' Night In\\\"\"</th>\n",
       "      <th>\\O\\\" Is for Outlaw\"</th>\n",
       "      <th>\\Surely You're Joking, Mr. Feynman!\\\": Adventures of a Curious Character\"</th>\n",
       "      <th>e</th>\n",
       "      <th>iI Paradiso Degli Orchi</th>\n",
       "      <th>one hundred years of solitude</th>\n",
       "      <th>stardust</th>\n",
       "    </tr>\n",
       "    <tr>\n",
       "      <th>userID</th>\n",
       "      <th></th>\n",
       "      <th></th>\n",
       "      <th></th>\n",
       "      <th></th>\n",
       "      <th></th>\n",
       "      <th></th>\n",
       "      <th></th>\n",
       "      <th></th>\n",
       "      <th></th>\n",
       "      <th></th>\n",
       "      <th></th>\n",
       "      <th></th>\n",
       "      <th></th>\n",
       "      <th></th>\n",
       "      <th></th>\n",
       "      <th></th>\n",
       "      <th></th>\n",
       "      <th></th>\n",
       "      <th></th>\n",
       "      <th></th>\n",
       "      <th></th>\n",
       "    </tr>\n",
       "  </thead>\n",
       "  <tbody>\n",
       "    <tr>\n",
       "      <th>8</th>\n",
       "      <td>0.0</td>\n",
       "      <td>0.0</td>\n",
       "      <td>0.0</td>\n",
       "      <td>0.0</td>\n",
       "      <td>0.0</td>\n",
       "      <td>0.0</td>\n",
       "      <td>0.0</td>\n",
       "      <td>0.0</td>\n",
       "      <td>0.0</td>\n",
       "      <td>0.0</td>\n",
       "      <td>...</td>\n",
       "      <td>0.0</td>\n",
       "      <td>0.0</td>\n",
       "      <td>0.0</td>\n",
       "      <td>0.0</td>\n",
       "      <td>0.0</td>\n",
       "      <td>0.0</td>\n",
       "      <td>0.0</td>\n",
       "      <td>0.0</td>\n",
       "      <td>0.0</td>\n",
       "      <td>0.0</td>\n",
       "    </tr>\n",
       "    <tr>\n",
       "      <th>9</th>\n",
       "      <td>0.0</td>\n",
       "      <td>0.0</td>\n",
       "      <td>0.0</td>\n",
       "      <td>0.0</td>\n",
       "      <td>0.0</td>\n",
       "      <td>0.0</td>\n",
       "      <td>0.0</td>\n",
       "      <td>0.0</td>\n",
       "      <td>0.0</td>\n",
       "      <td>0.0</td>\n",
       "      <td>...</td>\n",
       "      <td>0.0</td>\n",
       "      <td>0.0</td>\n",
       "      <td>0.0</td>\n",
       "      <td>0.0</td>\n",
       "      <td>0.0</td>\n",
       "      <td>0.0</td>\n",
       "      <td>0.0</td>\n",
       "      <td>0.0</td>\n",
       "      <td>0.0</td>\n",
       "      <td>0.0</td>\n",
       "    </tr>\n",
       "    <tr>\n",
       "      <th>10</th>\n",
       "      <td>0.0</td>\n",
       "      <td>0.0</td>\n",
       "      <td>0.0</td>\n",
       "      <td>0.0</td>\n",
       "      <td>0.0</td>\n",
       "      <td>0.0</td>\n",
       "      <td>0.0</td>\n",
       "      <td>0.0</td>\n",
       "      <td>0.0</td>\n",
       "      <td>0.0</td>\n",
       "      <td>...</td>\n",
       "      <td>0.0</td>\n",
       "      <td>0.0</td>\n",
       "      <td>0.0</td>\n",
       "      <td>0.0</td>\n",
       "      <td>0.0</td>\n",
       "      <td>0.0</td>\n",
       "      <td>0.0</td>\n",
       "      <td>0.0</td>\n",
       "      <td>0.0</td>\n",
       "      <td>0.0</td>\n",
       "    </tr>\n",
       "    <tr>\n",
       "      <th>14</th>\n",
       "      <td>0.0</td>\n",
       "      <td>0.0</td>\n",
       "      <td>0.0</td>\n",
       "      <td>0.0</td>\n",
       "      <td>0.0</td>\n",
       "      <td>0.0</td>\n",
       "      <td>0.0</td>\n",
       "      <td>0.0</td>\n",
       "      <td>0.0</td>\n",
       "      <td>0.0</td>\n",
       "      <td>...</td>\n",
       "      <td>0.0</td>\n",
       "      <td>0.0</td>\n",
       "      <td>0.0</td>\n",
       "      <td>0.0</td>\n",
       "      <td>0.0</td>\n",
       "      <td>0.0</td>\n",
       "      <td>0.0</td>\n",
       "      <td>0.0</td>\n",
       "      <td>0.0</td>\n",
       "      <td>0.0</td>\n",
       "    </tr>\n",
       "    <tr>\n",
       "      <th>16</th>\n",
       "      <td>0.0</td>\n",
       "      <td>0.0</td>\n",
       "      <td>0.0</td>\n",
       "      <td>0.0</td>\n",
       "      <td>0.0</td>\n",
       "      <td>0.0</td>\n",
       "      <td>0.0</td>\n",
       "      <td>0.0</td>\n",
       "      <td>0.0</td>\n",
       "      <td>0.0</td>\n",
       "      <td>...</td>\n",
       "      <td>0.0</td>\n",
       "      <td>0.0</td>\n",
       "      <td>0.0</td>\n",
       "      <td>0.0</td>\n",
       "      <td>0.0</td>\n",
       "      <td>0.0</td>\n",
       "      <td>0.0</td>\n",
       "      <td>0.0</td>\n",
       "      <td>0.0</td>\n",
       "      <td>0.0</td>\n",
       "    </tr>\n",
       "  </tbody>\n",
       "</table>\n",
       "<p>5 rows × 9426 columns</p>\n",
       "</div>"
      ],
      "text/plain": [
       "bookTitle   Q-Space (Star Trek The Next Generation, Book 47)  'Salem's Lot  \\\n",
       "userID                                                                       \n",
       "8                                                        0.0           0.0   \n",
       "9                                                        0.0           0.0   \n",
       "10                                                       0.0           0.0   \n",
       "14                                                       0.0           0.0   \n",
       "16                                                       0.0           0.0   \n",
       "\n",
       "bookTitle  01-01-00: The Novel of the Millennium  \\\n",
       "userID                                             \n",
       "8                                            0.0   \n",
       "9                                            0.0   \n",
       "10                                           0.0   \n",
       "14                                           0.0   \n",
       "16                                           0.0   \n",
       "\n",
       "bookTitle  1,000 Places to See Before You Die  10 Lb. Penalty  \\\n",
       "userID                                                          \n",
       "8                                         0.0             0.0   \n",
       "9                                         0.0             0.0   \n",
       "10                                        0.0             0.0   \n",
       "14                                        0.0             0.0   \n",
       "16                                        0.0             0.0   \n",
       "\n",
       "bookTitle  1001 Ways to Be Romantic  101 Dalmatians  \\\n",
       "userID                                                \n",
       "8                               0.0             0.0   \n",
       "9                               0.0             0.0   \n",
       "10                              0.0             0.0   \n",
       "14                              0.0             0.0   \n",
       "16                              0.0             0.0   \n",
       "\n",
       "bookTitle  14,000 Things to Be Happy About  16 Lighthouse Road  \\\n",
       "userID                                                           \n",
       "8                                      0.0                 0.0   \n",
       "9                                      0.0                 0.0   \n",
       "10                                     0.0                 0.0   \n",
       "14                                     0.0                 0.0   \n",
       "16                                     0.0                 0.0   \n",
       "\n",
       "bookTitle  1916: A Novel of the Irish Rebellion (Irish Century)  ...  \\\n",
       "userID                                                           ...   \n",
       "8                                                           0.0  ...   \n",
       "9                                                           0.0  ...   \n",
       "10                                                          0.0  ...   \n",
       "14                                                          0.0  ...   \n",
       "16                                                          0.0  ...   \n",
       "\n",
       "bookTitle  ZwÃ?ÃÂ¶lf.  \\\n",
       "userID                    \n",
       "8                   0.0   \n",
       "9                   0.0   \n",
       "10                  0.0   \n",
       "14                  0.0   \n",
       "16                  0.0   \n",
       "\n",
       "bookTitle  \\ Lamb to the Slaughter and Other Stories (Penguin 60s S.)\"  \\\n",
       "userID                                                                   \n",
       "8                                                                  0.0   \n",
       "9                                                                  0.0   \n",
       "10                                                                 0.0   \n",
       "14                                                                 0.0   \n",
       "16                                                                 0.0   \n",
       "\n",
       "bookTitle  \\A\\\" is for Alibi : A Kinsey Millhone Mystery (A Kinsey Millhone Mystery)\"  \\\n",
       "userID                                                                                  \n",
       "8                                                                                 0.0   \n",
       "9                                                                                 0.0   \n",
       "10                                                                                0.0   \n",
       "14                                                                                0.0   \n",
       "16                                                                                0.0   \n",
       "\n",
       "bookTitle  \\Girls' Night Out\\\"/\\\"Boys' Night In\\\"\"  \\O\\\" Is for Outlaw\"  \\\n",
       "userID                                                                    \n",
       "8                                              0.0                  0.0   \n",
       "9                                              0.0                  0.0   \n",
       "10                                             0.0                  0.0   \n",
       "14                                             0.0                  0.0   \n",
       "16                                             0.0                  0.0   \n",
       "\n",
       "bookTitle  \\Surely You're Joking, Mr. Feynman!\\\": Adventures of a Curious Character\"  \\\n",
       "userID                                                                                 \n",
       "8                                                                                0.0   \n",
       "9                                                                                0.0   \n",
       "10                                                                               0.0   \n",
       "14                                                                               0.0   \n",
       "16                                                                               0.0   \n",
       "\n",
       "bookTitle    e  iI Paradiso Degli Orchi  one hundred years of solitude  \\\n",
       "userID                                                                   \n",
       "8          0.0                      0.0                            0.0   \n",
       "9          0.0                      0.0                            0.0   \n",
       "10         0.0                      0.0                            0.0   \n",
       "14         0.0                      0.0                            0.0   \n",
       "16         0.0                      0.0                            0.0   \n",
       "\n",
       "bookTitle  stardust  \n",
       "userID               \n",
       "8               0.0  \n",
       "9               0.0  \n",
       "10              0.0  \n",
       "14              0.0  \n",
       "16              0.0  \n",
       "\n",
       "[5 rows x 9426 columns]"
      ]
     },
     "execution_count": 23,
     "metadata": {},
     "output_type": "execute_result"
    }
   ],
   "source": [
    "most_popular_books_ratings_pivot_2.head()"
   ]
  },
  {
   "cell_type": "code",
   "execution_count": 24,
   "metadata": {},
   "outputs": [
    {
     "data": {
      "text/plain": [
       "numpy.ndarray"
      ]
     },
     "execution_count": 24,
     "metadata": {},
     "output_type": "execute_result"
    }
   ],
   "source": [
    "# Transpose pivot table for TruncatedSVD model training\n",
    "X = most_popular_books_ratings_pivot_2.values.T\n",
    "type(X)"
   ]
  },
  {
   "cell_type": "code",
   "execution_count": 25,
   "metadata": {},
   "outputs": [
    {
     "data": {
      "text/plain": [
       "(9426, 56342)"
      ]
     },
     "execution_count": 25,
     "metadata": {},
     "output_type": "execute_result"
    }
   ],
   "source": [
    "X.shape"
   ]
  },
  {
   "cell_type": "code",
   "execution_count": 26,
   "metadata": {},
   "outputs": [
    {
     "data": {
      "text/plain": [
       "array([[0., 0., 0., ..., 0., 0., 0.],\n",
       "       [0., 0., 0., ..., 0., 0., 0.],\n",
       "       [0., 0., 0., ..., 0., 0., 0.],\n",
       "       [0., 0., 0., ..., 0., 0., 0.],\n",
       "       [0., 0., 0., ..., 0., 0., 0.]])"
      ]
     },
     "execution_count": 26,
     "metadata": {},
     "output_type": "execute_result"
    }
   ],
   "source": [
    "X[:5]"
   ]
  },
  {
   "cell_type": "markdown",
   "metadata": {},
   "source": [
    "#### Train TruncatedSVD model selecting the 10 most important features"
   ]
  },
  {
   "cell_type": "code",
   "execution_count": 27,
   "metadata": {},
   "outputs": [
    {
     "name": "stdout",
     "output_type": "stream",
     "text": [
      "CPU times: user 53.2 s, sys: 8.65 s, total: 1min 1s\n",
      "Wall time: 25 s\n"
     ]
    }
   ],
   "source": [
    "%%time\n",
    "\n",
    "SVD = TruncatedSVD(n_components=10, random_state=42)\n",
    "matrix = SVD.fit_transform(X)"
   ]
  },
  {
   "cell_type": "code",
   "execution_count": 28,
   "metadata": {},
   "outputs": [
    {
     "data": {
      "text/plain": [
       "numpy.ndarray"
      ]
     },
     "execution_count": 28,
     "metadata": {},
     "output_type": "execute_result"
    }
   ],
   "source": [
    "type(matrix)"
   ]
  },
  {
   "cell_type": "code",
   "execution_count": 29,
   "metadata": {},
   "outputs": [
    {
     "data": {
      "text/plain": [
       "(9426, 10)"
      ]
     },
     "execution_count": 29,
     "metadata": {},
     "output_type": "execute_result"
    }
   ],
   "source": [
    "matrix.shape"
   ]
  },
  {
   "cell_type": "code",
   "execution_count": 30,
   "metadata": {},
   "outputs": [
    {
     "data": {
      "text/plain": [
       "array([[ 0.38349165,  0.1525891 , -0.11319077, -0.0265984 , -0.09070456,\n",
       "        -0.27559351,  0.2731215 , -0.33185272, -0.15560028,  0.0258307 ],\n",
       "       [ 1.57621271,  0.56101198,  0.75164228, -1.64425993, -1.77106732,\n",
       "         1.57340537,  3.00200246, -0.76725623,  0.54596591,  0.67262568],\n",
       "       [ 0.25638425, -0.08060614,  0.03058778, -0.35003939, -0.14680605,\n",
       "         0.07656018,  0.21961271,  0.12170965,  0.05408222, -0.08809896],\n",
       "       [ 0.37387606, -0.13082815,  0.02378199, -0.34225383,  0.11299526,\n",
       "        -0.08401051, -0.14051341,  0.13170381,  0.37164311, -0.52551389],\n",
       "       [ 1.60655375, -0.17401017,  0.37490947, -0.01812349, -1.3256422 ,\n",
       "         0.63161141, -1.22272657,  0.15261682, -1.87031211,  0.03157141]])"
      ]
     },
     "execution_count": 30,
     "metadata": {},
     "output_type": "execute_result"
    }
   ],
   "source": [
    "matrix[:5]"
   ]
  },
  {
   "cell_type": "markdown",
   "metadata": {},
   "source": [
    "#### Generate Pearson correlation coefficients"
   ]
  },
  {
   "cell_type": "code",
   "execution_count": 31,
   "metadata": {},
   "outputs": [
    {
     "name": "stdout",
     "output_type": "stream",
     "text": [
      "CPU times: user 1.39 s, sys: 271 ms, total: 1.66 s\n",
      "Wall time: 1.21 s\n"
     ]
    },
    {
     "data": {
      "text/plain": [
       "(9426, 9426)"
      ]
     },
     "execution_count": 31,
     "metadata": {},
     "output_type": "execute_result"
    }
   ],
   "source": [
    "%%time\n",
    "\n",
    "corr = np.corrcoef(matrix)\n",
    "corr.shape"
   ]
  },
  {
   "cell_type": "code",
   "execution_count": 32,
   "metadata": {},
   "outputs": [],
   "source": [
    "# Get bookTitles for the most popular books\n",
    "most_popular_books_ratings_titles = most_popular_books_ratings_pivot_2.columns\n",
    "most_popular_books_ratings_titles_list = list(most_popular_books_ratings_titles)"
   ]
  },
  {
   "cell_type": "markdown",
   "metadata": {},
   "source": [
    "#### Make recommendations using trained TruncatedSVD model for '1984'"
   ]
  },
  {
   "cell_type": "code",
   "execution_count": 33,
   "metadata": {},
   "outputs": [
    {
     "name": "stdout",
     "output_type": "stream",
     "text": [
      "10\n"
     ]
    }
   ],
   "source": [
    "# Get the index for book: '1984'\n",
    "book_index = most_popular_books_ratings_titles_list.index(\"1984\")\n",
    "print(book_index)"
   ]
  },
  {
   "cell_type": "code",
   "execution_count": 34,
   "metadata": {},
   "outputs": [
    {
     "data": {
      "text/plain": [
       "array([0.94584215, 0.64591854, 0.44220136, ..., 0.45164203, 0.69089957,\n",
       "       0.74970953])"
      ]
     },
     "execution_count": 34,
     "metadata": {},
     "output_type": "execute_result"
    }
   ],
   "source": [
    "# Get all the Pearson correlations for this book\n",
    "book_correlations = corr[book_index]\n",
    "book_correlations"
   ]
  },
  {
   "cell_type": "code",
   "execution_count": 35,
   "metadata": {},
   "outputs": [
    {
     "data": {
      "text/plain": [
       "Index(['American Hero', 'Animal Farm', 'Brave New World', 'Cancer Schmancer',\n",
       "       'Comment je suis devenu stupide',\n",
       "       'Dave Barry's Bad Habits a 100% Fact-Free Book', 'Delta Of Venus',\n",
       "       'Der Campus.', 'Dreams Underfoot',\n",
       "       'Driving Mr. Albert: A Trip Across America with Einstein's Brain',\n",
       "       'Dune (Remembering Tomorrow)', 'EXQUISITE CORPSE', 'Emma',\n",
       "       'Ender's Game (Ender Wiggins Saga (Paperback))',\n",
       "       'Extension Du Domain De La Lutte', 'FIREBRAND',\n",
       "       'Flowers for Algernon (Bantam Classic)',\n",
       "       'From the Dust Returned: A Novel', 'Hocus Pocus', 'I, Robot',\n",
       "       'In the Forests of the Night (Laurel Leaf Books)', 'Lord of the Flies',\n",
       "       'Mostly Harmless (Hitchhiker's Trilogy, No 5)',\n",
       "       'Notes from a Small Island', 'Post Office',\n",
       "       'Pygmalion : A Romance in Five Acts',\n",
       "       'Rise of a Merchant Prince (Serpentwar Saga)',\n",
       "       'Slaughterhouse Five or the Children's Crusade: A Duty Dance With Death',\n",
       "       'Something Wicked This Way Comes', 'The Count of Monte Cristo',\n",
       "       'The Eagle and the Rose : A Remarkable True Story', 'The Fresco',\n",
       "       'The Ghost from the Grand Banks',\n",
       "       'The Gold-Bug and Other Tales (Dover Thrift Editions)',\n",
       "       'The Haunting of Hill House',\n",
       "       'The Hound of the Baskervilles (Dover Thrift Editions)',\n",
       "       'The Last of the Mohicans (Wordsworth Classics)', 'The Magic Circle',\n",
       "       'The Martian Chronicles', 'The Physician',\n",
       "       'The Sugar House: A Tess Monaghan Mystery', 'The Toynbee Convector',\n",
       "       'The Ultimate Hitchhiker's Guide',\n",
       "       'The Winter of Our Discontent (Penguin Twentieth-Century Classics)',\n",
       "       'The Woman Warrior : Memoirs of a Girlhood Among Ghosts', 'Tigana',\n",
       "       'Timequake', 'Turn of the Screw (Dover Thrift Editions)',\n",
       "       'WEAVEWORLD (The Fantacy Classic)',\n",
       "       'WHISPER OF DEATH : WHISPER OF DEATH', 'Watership Down',\n",
       "       'Who's Afraid of Virginia Woolf?'],\n",
       "      dtype='object', name='bookTitle')"
      ]
     },
     "execution_count": 35,
     "metadata": {},
     "output_type": "execute_result"
    }
   ],
   "source": [
    "# Get only those books with Pearson correlations >0.95 AND excluding this book itself\n",
    "most_popular_books_ratings_titles[(book_correlations<1.0) & (book_correlations>0.95)]"
   ]
  },
  {
   "cell_type": "markdown",
   "metadata": {},
   "source": [
    "#### Make recommendations using trained TruncatedSVD model for 'The Shining'"
   ]
  },
  {
   "cell_type": "code",
   "execution_count": 36,
   "metadata": {},
   "outputs": [
    {
     "data": {
      "text/plain": [
       "Index(['Christine', 'Firestarter', 'It', 'Needful Things',\n",
       "       'The Green Mile: The Bad Death of Eduard Delacroix (Green Mile Series)'],\n",
       "      dtype='object', name='bookTitle')"
      ]
     },
     "execution_count": 36,
     "metadata": {},
     "output_type": "execute_result"
    }
   ],
   "source": [
    "# Get the index for book: 'The Shining'\n",
    "book_index = most_popular_books_ratings_titles_list.index(\"The Shining\")\n",
    "\n",
    "# Get all the Pearson correlations for this book\n",
    "book_correlations = corr[book_index]\n",
    "\n",
    "# Get only those books with Pearson correlations >0.95 AND excluding this book itself\n",
    "most_popular_books_ratings_titles[(book_correlations<1.0) & (book_correlations>0.95)]"
   ]
  },
  {
   "cell_type": "markdown",
   "metadata": {},
   "source": [
    "#### Make recommendations using trained TruncatedSVD model for 'The Rainmaker'"
   ]
  },
  {
   "cell_type": "code",
   "execution_count": 37,
   "metadata": {},
   "outputs": [
    {
     "name": "stdout",
     "output_type": "stream",
     "text": [
      "8008\n"
     ]
    },
    {
     "data": {
      "text/plain": [
       "Index(['Across Five Aprils', 'Beaches', 'Criminal Justice',\n",
       "       'Desperate Measures (Barbara Holloway Novels (Paperback))',\n",
       "       'Guilt by Association', 'Hart's War',\n",
       "       'IN THE MEANTIME : Finding Yourself and the Love You Want',\n",
       "       'Lie Down With Lions (Signet)', 'Now or Never',\n",
       "       'SILENT PASSAGE: MENOPAUSE : SILENT PASSAGE: MENOPAUSE',\n",
       "       'Shadow Watch (Tom Clancy's Power Plays (Paperback))', 'Snow Angel',\n",
       "       'Spring Collection', 'The Chamber', 'The Deceiver',\n",
       "       'The Eleventh Commandment', 'The Falls (Inspector Rebus S.)',\n",
       "       'The Firm',\n",
       "       'The Higher Taste: A Guide to Gourmet Vegetarian Cooking and a Karma-Free Diet',\n",
       "       'The Partner', 'The Pelican Brief', 'The Runaway Jury',\n",
       "       'The Street Lawyer',\n",
       "       'Tick Tock, You're Dead! (Give Yourself Goosebumps, No 2)',\n",
       "       'Tom Clancy's Op-Center Balance of Power (Tom Clancy's Op Center (Paperback))',\n",
       "       'Tom Clancy's Op-Center: Line of Control (Tom Clancy's Op Center (Paperback))',\n",
       "       'Trevayne', 'Trouble in Paradise (Jesse Stone Novels (Paperback))',\n",
       "       'Voice of the Heart'],\n",
       "      dtype='object', name='bookTitle')"
      ]
     },
     "execution_count": 37,
     "metadata": {},
     "output_type": "execute_result"
    }
   ],
   "source": [
    "# Get the index for book: 'The Rainmaker'\n",
    "book_index = most_popular_books_ratings_titles_list.index(\"The Rainmaker\")\n",
    "print(book_index)\n",
    "\n",
    "# Get all the Pearson correlations for this book\n",
    "book_correlations = corr[book_index]\n",
    "\n",
    "# Get only those books with Pearson correlations >0.95 AND excluding this book itself\n",
    "most_popular_books_ratings_titles[(book_correlations<1.0) & (book_correlations>0.95)]"
   ]
  }
 ],
 "metadata": {
  "kernelspec": {
   "display_name": "Python 3 (ipykernel)",
   "language": "python",
   "name": "python3"
  },
  "language_info": {
   "codemirror_mode": {
    "name": "ipython",
    "version": 3
   },
   "file_extension": ".py",
   "mimetype": "text/x-python",
   "name": "python",
   "nbconvert_exporter": "python",
   "pygments_lexer": "ipython3",
   "version": "3.9.7"
  }
 },
 "nbformat": 4,
 "nbformat_minor": 4
}
