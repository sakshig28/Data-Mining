{
 "cells": [
  {
   "cell_type": "markdown",
   "id": "4b2111b8",
   "metadata": {},
   "source": [
    "# NumPy Tutorial\n",
    "numpy provides a high-performance multidimensional array object, and tools for working with these arrays.  \n",
    "The core data structure is ndarray, often referred to as an array."
   ]
  },
  {
   "cell_type": "markdown",
   "id": "c41bd526",
   "metadata": {},
   "source": [
    "### Update NumPy to latest version"
   ]
  },
  {
   "cell_type": "code",
   "execution_count": 1,
   "id": "cd3b6ae9",
   "metadata": {
    "scrolled": true
   },
   "outputs": [
    {
     "name": "stdout",
     "output_type": "stream",
     "text": [
      "Requirement already satisfied: numpy in /opt/anaconda3/lib/python3.8/site-packages (1.24.1)\r\n"
     ]
    }
   ],
   "source": [
    "# Need to do this only once\n",
    "! pip install numpy --upgrade"
   ]
  },
  {
   "cell_type": "markdown",
   "id": "f27d707a",
   "metadata": {},
   "source": [
    "### Import libraries"
   ]
  },
  {
   "cell_type": "code",
   "execution_count": 2,
   "id": "59620f27",
   "metadata": {},
   "outputs": [],
   "source": [
    "# Import numpy library\n",
    "import numpy as np"
   ]
  },
  {
   "cell_type": "markdown",
   "id": "c4c4840e",
   "metadata": {},
   "source": [
    "### numpy (1D) arrays"
   ]
  },
  {
   "cell_type": "code",
   "execution_count": 3,
   "id": "4b838d3d",
   "metadata": {},
   "outputs": [],
   "source": [
    "# Create a 1-dimensional (rank 1) array\n",
    "a = np.array([1,6,4,6,2,4])"
   ]
  },
  {
   "cell_type": "code",
   "execution_count": 4,
   "id": "4ca17462",
   "metadata": {},
   "outputs": [
    {
     "data": {
      "text/plain": [
       "numpy.ndarray"
      ]
     },
     "execution_count": 4,
     "metadata": {},
     "output_type": "execute_result"
    }
   ],
   "source": [
    "# Display datatype\n",
    "type(a)"
   ]
  },
  {
   "cell_type": "code",
   "execution_count": 5,
   "id": "f0cb1d4f",
   "metadata": {},
   "outputs": [
    {
     "data": {
      "text/plain": [
       "(6,)"
      ]
     },
     "execution_count": 5,
     "metadata": {},
     "output_type": "execute_result"
    }
   ],
   "source": [
    "# Display data structure shape\n",
    "a.shape"
   ]
  },
  {
   "cell_type": "code",
   "execution_count": 6,
   "id": "c42aabec",
   "metadata": {},
   "outputs": [
    {
     "data": {
      "text/plain": [
       "array([1, 6, 4, 6, 2, 4])"
      ]
     },
     "execution_count": 6,
     "metadata": {},
     "output_type": "execute_result"
    }
   ],
   "source": [
    "# Display array\n",
    "a"
   ]
  },
  {
   "cell_type": "code",
   "execution_count": 7,
   "id": "a753a6fd",
   "metadata": {},
   "outputs": [
    {
     "data": {
      "text/plain": [
       "array([4, 2, 6, 4, 6, 1])"
      ]
     },
     "execution_count": 7,
     "metadata": {},
     "output_type": "execute_result"
    }
   ],
   "source": [
    "# Reverse array\n",
    "a[::-1]"
   ]
  },
  {
   "cell_type": "code",
   "execution_count": 8,
   "id": "71a1eb2d",
   "metadata": {},
   "outputs": [
    {
     "name": "stdout",
     "output_type": "stream",
     "text": [
      "6 2\n"
     ]
    }
   ],
   "source": [
    "# Print selected elements\n",
    "print(a[1], a[4])"
   ]
  },
  {
   "cell_type": "code",
   "execution_count": 9,
   "id": "0b8da017",
   "metadata": {},
   "outputs": [
    {
     "name": "stdout",
     "output_type": "stream",
     "text": [
      "[9 6 4 6 2 4]\n"
     ]
    }
   ],
   "source": [
    "# Change an element of the array\n",
    "a[0] = 9\n",
    "\n",
    "# Print the updated array\n",
    "print(a)"
   ]
  },
  {
   "cell_type": "markdown",
   "id": "7f814139",
   "metadata": {},
   "source": [
    "### numpy functions"
   ]
  },
  {
   "cell_type": "code",
   "execution_count": 10,
   "id": "55392b82",
   "metadata": {},
   "outputs": [
    {
     "name": "stdout",
     "output_type": "stream",
     "text": [
      "min element in array is:  2\n",
      "max element in array is:  9\n"
     ]
    }
   ],
   "source": [
    "print('min element in array is: ', np.min(a))\n",
    "print('max element in array is: ', np.max(a))"
   ]
  },
  {
   "cell_type": "code",
   "execution_count": 11,
   "id": "fc81999a",
   "metadata": {},
   "outputs": [
    {
     "name": "stdout",
     "output_type": "stream",
     "text": [
      "sum of elements in array is:  31\n",
      "average of elements in array is:  5.166666666666667\n",
      "rounded average of elements in array is:  5.17\n"
     ]
    }
   ],
   "source": [
    "print('sum of elements in array is: ', np.sum(a))\n",
    "print('average of elements in array is: ', np.mean(a))\n",
    "print('rounded average of elements in array is: ', np.round(np.mean(a),2))"
   ]
  },
  {
   "cell_type": "code",
   "execution_count": 12,
   "id": "daba2f0e",
   "metadata": {},
   "outputs": [
    {
     "name": "stdout",
     "output_type": "stream",
     "text": [
      "elements in array are:  [9 6 4 6 2 4]\n",
      "sorted elements in array are:  [2 4 4 6 6 9]\n",
      "unique elements in array are:  [2 4 6 9]\n"
     ]
    }
   ],
   "source": [
    "print('elements in array are: ', a)\n",
    "print('sorted elements in array are: ', np.sort(a))\n",
    "print('unique elements in array are: ', np.unique(a))"
   ]
  },
  {
   "cell_type": "code",
   "execution_count": 13,
   "id": "53ed3e79",
   "metadata": {},
   "outputs": [
    {
     "data": {
      "text/plain": [
       "array([ 5, 10, 15, 20])"
      ]
     },
     "execution_count": 13,
     "metadata": {},
     "output_type": "execute_result"
    }
   ],
   "source": [
    "# Generate evenly spaced numbers within a specified interval\n",
    "np.arange(5,25,5)"
   ]
  },
  {
   "cell_type": "code",
   "execution_count": 14,
   "id": "e76a52c3",
   "metadata": {},
   "outputs": [
    {
     "data": {
      "text/plain": [
       "array([ 5., 10., 15., 20., 25.])"
      ]
     },
     "execution_count": 14,
     "metadata": {},
     "output_type": "execute_result"
    }
   ],
   "source": [
    "# Generate evenly spaced numbers over a specified interval\n",
    "np.linspace(5,25,5)"
   ]
  },
  {
   "cell_type": "markdown",
   "id": "7610092e",
   "metadata": {},
   "source": [
    "### numpy (2D) arrays"
   ]
  },
  {
   "cell_type": "code",
   "execution_count": 15,
   "id": "5ce76955",
   "metadata": {},
   "outputs": [],
   "source": [
    "# Create a 2-dimensional (rank 2) array\n",
    "b = np.array([[1,2,3],[4,5,6]])"
   ]
  },
  {
   "cell_type": "code",
   "execution_count": 16,
   "id": "ee65de37",
   "metadata": {},
   "outputs": [
    {
     "data": {
      "text/plain": [
       "numpy.ndarray"
      ]
     },
     "execution_count": 16,
     "metadata": {},
     "output_type": "execute_result"
    }
   ],
   "source": [
    "# Display datatype\n",
    "type(b)"
   ]
  },
  {
   "cell_type": "code",
   "execution_count": 17,
   "id": "8b40c5f1",
   "metadata": {},
   "outputs": [
    {
     "data": {
      "text/plain": [
       "(2, 3)"
      ]
     },
     "execution_count": 17,
     "metadata": {},
     "output_type": "execute_result"
    }
   ],
   "source": [
    "# Display data structure shape\n",
    "b.shape"
   ]
  },
  {
   "cell_type": "code",
   "execution_count": 18,
   "id": "aa4fbebe",
   "metadata": {},
   "outputs": [
    {
     "data": {
      "text/plain": [
       "array([[1, 2, 3],\n",
       "       [4, 5, 6]])"
      ]
     },
     "execution_count": 18,
     "metadata": {},
     "output_type": "execute_result"
    }
   ],
   "source": [
    "# Display array\n",
    "b"
   ]
  },
  {
   "cell_type": "code",
   "execution_count": 19,
   "id": "92f8f13e",
   "metadata": {},
   "outputs": [
    {
     "name": "stdout",
     "output_type": "stream",
     "text": [
      "[[ 1  2  3]\n",
      " [99  5  6]]\n"
     ]
    }
   ],
   "source": [
    "# Change an element of the array\n",
    "b[1,0] = 99\n",
    "\n",
    "# Print the updated array\n",
    "print(b)"
   ]
  },
  {
   "cell_type": "code",
   "execution_count": 20,
   "id": "e6fd7234",
   "metadata": {},
   "outputs": [
    {
     "name": "stdout",
     "output_type": "stream",
     "text": [
      "1 99\n"
     ]
    }
   ],
   "source": [
    "# Print selected elements\n",
    "print(b[0, 0], b[1, 0])"
   ]
  },
  {
   "cell_type": "code",
   "execution_count": 21,
   "id": "2fd81d42",
   "metadata": {},
   "outputs": [
    {
     "data": {
      "text/plain": [
       "array([[0., 0., 0.],\n",
       "       [0., 0., 0.]])"
      ]
     },
     "execution_count": 21,
     "metadata": {},
     "output_type": "execute_result"
    }
   ],
   "source": [
    "# Create an array of all zeros\n",
    "a = np.zeros((2,3))\n",
    "\n",
    "# Display array\n",
    "a"
   ]
  },
  {
   "cell_type": "code",
   "execution_count": 22,
   "id": "391f05c9",
   "metadata": {},
   "outputs": [
    {
     "data": {
      "text/plain": [
       "array([[7, 7],\n",
       "       [7, 7],\n",
       "       [7, 7]])"
      ]
     },
     "execution_count": 22,
     "metadata": {},
     "output_type": "execute_result"
    }
   ],
   "source": [
    "# Create a constant array\n",
    "c = np.full((3,2), 7)\n",
    "\n",
    "# Display array\n",
    "c"
   ]
  },
  {
   "cell_type": "markdown",
   "id": "799ba073",
   "metadata": {},
   "source": [
    "### Array indexing (slicing)  \n",
    " https://www.w3schools.com/python/numpy/numpy_array_slicing.asp\n",
    "\n",
    "Similar to Python lists, numpy arrays can be sliced. Since arrays may be multidimensional, you must specify a slice for each dimension of the array.\n",
    "\n",
    "Slicing means taking elements from one given index to another given index.\n",
    "- We pass slice instead of index like this: [start:end].\n",
    "- We can also define the step, like this: [start:end:step].\n",
    "- If we don't pass start its considered 0  \n",
    "- If we don't pass end its considered length of array in that dimension\n",
    "- If we don't pass step its considered 1"
   ]
  },
  {
   "cell_type": "code",
   "execution_count": 23,
   "id": "921123e5",
   "metadata": {},
   "outputs": [
    {
     "data": {
      "text/plain": [
       "(4, 5)"
      ]
     },
     "execution_count": 23,
     "metadata": {},
     "output_type": "execute_result"
    }
   ],
   "source": [
    "# Create a 4x5 array\n",
    "d = np.array( [ [1,2,3,4,5], [6,7,8,9,10], [11,12,13,14,15], [16,17,18,19,20] ] )\n",
    "d.shape     # Display shape"
   ]
  },
  {
   "cell_type": "code",
   "execution_count": 24,
   "id": "f58bcfb6",
   "metadata": {
    "scrolled": false
   },
   "outputs": [
    {
     "data": {
      "text/plain": [
       "array([[ 1,  2,  3,  4,  5],\n",
       "       [ 6,  7,  8,  9, 10],\n",
       "       [11, 12, 13, 14, 15],\n",
       "       [16, 17, 18, 19, 20]])"
      ]
     },
     "execution_count": 24,
     "metadata": {},
     "output_type": "execute_result"
    }
   ],
   "source": [
    "d     # Display array"
   ]
  },
  {
   "cell_type": "code",
   "execution_count": 25,
   "id": "fca58d84",
   "metadata": {
    "scrolled": true
   },
   "outputs": [
    {
     "data": {
      "text/plain": [
       "array([[ 1,  2,  3,  4,  5],\n",
       "       [ 6,  7, 99,  9, 10],\n",
       "       [11, 12, 13, 14, 15],\n",
       "       [16, 17, 18, 19, 20]])"
      ]
     },
     "execution_count": 25,
     "metadata": {},
     "output_type": "execute_result"
    }
   ],
   "source": [
    "d[1,2] = 99     # Update array element\n",
    "d               # Display updated array"
   ]
  },
  {
   "cell_type": "markdown",
   "id": "4b1698fc",
   "metadata": {},
   "source": [
    "#### (Positive) slicing"
   ]
  },
  {
   "cell_type": "code",
   "execution_count": 26,
   "id": "e6c5c8e6",
   "metadata": {},
   "outputs": [
    {
     "data": {
      "text/plain": [
       "array([[ 4,  5],\n",
       "       [ 9, 10]])"
      ]
     },
     "execution_count": 26,
     "metadata": {},
     "output_type": "execute_result"
    }
   ],
   "source": [
    "d[0:2, 3:5]"
   ]
  },
  {
   "cell_type": "code",
   "execution_count": 27,
   "id": "01575e32",
   "metadata": {},
   "outputs": [
    {
     "data": {
      "text/plain": [
       "array([[ 4,  5],\n",
       "       [ 9, 10]])"
      ]
     },
     "execution_count": 27,
     "metadata": {},
     "output_type": "execute_result"
    }
   ],
   "source": [
    "d[:2, 3:]"
   ]
  },
  {
   "cell_type": "markdown",
   "id": "f676e619",
   "metadata": {},
   "source": [
    "#### Negative slicing"
   ]
  },
  {
   "cell_type": "code",
   "execution_count": 28,
   "id": "c4e0dc44",
   "metadata": {},
   "outputs": [
    {
     "data": {
      "text/plain": [
       "array([[99,  9],\n",
       "       [13, 14]])"
      ]
     },
     "execution_count": 28,
     "metadata": {},
     "output_type": "execute_result"
    }
   ],
   "source": [
    "d[1:3,2:4]"
   ]
  },
  {
   "cell_type": "code",
   "execution_count": 29,
   "id": "c6da4ac3",
   "metadata": {},
   "outputs": [
    {
     "data": {
      "text/plain": [
       "array([[99,  9],\n",
       "       [13, 14]])"
      ]
     },
     "execution_count": 29,
     "metadata": {},
     "output_type": "execute_result"
    }
   ],
   "source": [
    "d[1:3,-3:-1]"
   ]
  },
  {
   "cell_type": "code",
   "execution_count": 30,
   "id": "36595cb2",
   "metadata": {
    "scrolled": true
   },
   "outputs": [
    {
     "data": {
      "text/plain": [
       "array([[99,  9],\n",
       "       [13, 14]])"
      ]
     },
     "execution_count": 30,
     "metadata": {},
     "output_type": "execute_result"
    }
   ],
   "source": [
    "d[-3:-1,-3:-1]"
   ]
  },
  {
   "cell_type": "markdown",
   "id": "2c28c262",
   "metadata": {},
   "source": [
    "### Transpose array"
   ]
  },
  {
   "cell_type": "code",
   "execution_count": 31,
   "id": "e3ef577e",
   "metadata": {},
   "outputs": [
    {
     "data": {
      "text/plain": [
       "array([[ 1,  2,  3,  4],\n",
       "       [ 5,  6,  7,  8],\n",
       "       [ 9, 10, 11, 12]])"
      ]
     },
     "execution_count": 31,
     "metadata": {},
     "output_type": "execute_result"
    }
   ],
   "source": [
    "# Create a 3x4 array\n",
    "e = np.array([[1,2,3,4], [5,6,7,8], [9,10,11,12]])\n",
    "e"
   ]
  },
  {
   "cell_type": "code",
   "execution_count": 32,
   "id": "2e08da25",
   "metadata": {},
   "outputs": [
    {
     "data": {
      "text/plain": [
       "array([[ 1,  5,  9],\n",
       "       [ 2,  6, 10],\n",
       "       [ 3,  7, 11],\n",
       "       [ 4,  8, 12]])"
      ]
     },
     "execution_count": 32,
     "metadata": {},
     "output_type": "execute_result"
    }
   ],
   "source": [
    "# Transpose array\n",
    "e.T"
   ]
  },
  {
   "cell_type": "markdown",
   "id": "0d7d5d61",
   "metadata": {},
   "source": [
    "### Reshape array\n",
    "Reshaping means changing the shape of an array.  "
   ]
  },
  {
   "cell_type": "code",
   "execution_count": 33,
   "id": "6f049fed",
   "metadata": {},
   "outputs": [
    {
     "data": {
      "text/plain": [
       "array([[ 1,  2,  3],\n",
       "       [ 4,  5,  6],\n",
       "       [ 7,  8,  9],\n",
       "       [10, 11, 12]])"
      ]
     },
     "execution_count": 33,
     "metadata": {},
     "output_type": "execute_result"
    }
   ],
   "source": [
    "e.reshape(4,3)"
   ]
  },
  {
   "cell_type": "markdown",
   "id": "b1ab9dc3",
   "metadata": {},
   "source": [
    "You are allowed to have one \"unknown\" dimension  \n",
    "Pass -1 as the value, and NumPy will calculate this number for you"
   ]
  },
  {
   "cell_type": "code",
   "execution_count": 34,
   "id": "4037150e",
   "metadata": {},
   "outputs": [
    {
     "data": {
      "text/plain": [
       "array([[ 1,  2,  3],\n",
       "       [ 4,  5,  6],\n",
       "       [ 7,  8,  9],\n",
       "       [10, 11, 12]])"
      ]
     },
     "execution_count": 34,
     "metadata": {},
     "output_type": "execute_result"
    }
   ],
   "source": [
    "e.reshape(4,-1)"
   ]
  },
  {
   "cell_type": "code",
   "execution_count": 35,
   "id": "8c3c5a04",
   "metadata": {},
   "outputs": [
    {
     "data": {
      "text/plain": [
       "array([[ 1,  2,  3,  4,  5,  6],\n",
       "       [ 7,  8,  9, 10, 11, 12]])"
      ]
     },
     "execution_count": 35,
     "metadata": {},
     "output_type": "execute_result"
    }
   ],
   "source": [
    "e.reshape(2,-1)"
   ]
  }
 ],
 "metadata": {
  "kernelspec": {
   "display_name": "Python 3 (ipykernel)",
   "language": "python",
   "name": "python3"
  },
  "language_info": {
   "codemirror_mode": {
    "name": "ipython",
    "version": 3
   },
   "file_extension": ".py",
   "mimetype": "text/x-python",
   "name": "python",
   "nbconvert_exporter": "python",
   "pygments_lexer": "ipython3",
   "version": "3.8.8"
  }
 },
 "nbformat": 4,
 "nbformat_minor": 5
}
