{
 "cells": [
  {
   "cell_type": "code",
   "execution_count": 2,
   "id": "353b78b8",
   "metadata": {},
   "outputs": [
    {
     "name": "stdout",
     "output_type": "stream",
     "text": [
      "Enter a number: 1\n",
      "Enter a number: 2\n",
      "Enter a number: 3\n",
      "Enter a number: 4\n",
      "Enter a number: 5\n",
      "Enter a number: 6\n",
      "Enter a number: 7\n",
      "Enter a number: 8\n",
      "Enter a number: 9\n",
      "Enter a number: 10\n",
      "Enter a number: 11\n",
      "Enter a number: 12\n",
      "Enter a number: 13\n",
      "Enter a number: 14\n",
      "Enter a number: 15\n",
      "105\n"
     ]
    }
   ],
   "source": [
    "prodNum = 0\n",
    "while prodNum < 100:\n",
    "    number = int(input(\"Enter a number: \"))\n",
    "    prodNum = number * 7\n",
    "print(prodNum)"
   ]
  },
  {
   "cell_type": "code",
   "execution_count": 7,
   "id": "ec385df5",
   "metadata": {},
   "outputs": [
    {
     "name": "stdout",
     "output_type": "stream",
     "text": [
      "Please enter the password: Batman\n",
      "Wrong credentials\n",
      "Please enter the password: Granite\n",
      "Wrong credentials\n",
      "Please enter the password: quadrivium\n",
      "Login Successful\n"
     ]
    }
   ],
   "source": [
    "while(True):\n",
    "        i = input('Please enter the password: ')\n",
    "        if(i == 'quadrivium'):   \n",
    "                print(\"Login Successful\")\n",
    "                break\n",
    "        else:\n",
    "                print(\"Wrong credentials\")"
   ]
  },
  {
   "cell_type": "code",
   "execution_count": 3,
   "id": "471827cd",
   "metadata": {},
   "outputs": [
    {
     "name": "stdout",
     "output_type": "stream",
     "text": [
      "Enter amount you are looking for: 6.70\n",
      "Enter amount of transaction 1: 3.60\n",
      "Enter amount of transaction 2: 5.70\n",
      "Enter amount of transaction 3: 6.50\n",
      "Enter amount of transaction 4: 1.90\n",
      "Enter amount of transaction 5: 6.70\n",
      "Found\n"
     ]
    }
   ],
   "source": [
    "amtSrch = float(input(\"Enter amount you are looking for: \"))\n",
    "\n",
    "match = False\n",
    "cnt = 0\n",
    "while (not match) and cnt < 5:\n",
    "    amt = float(input(\"Enter amount of transaction \" + str(cnt+1)+ \": \"))\n",
    "    if amt == amtSrch:\n",
    "        match = True\n",
    "    cnt += 1\n",
    "\n",
    "if match:\n",
    "    print(\"Found\")\n",
    "else:\n",
    "    print(\"Not Found\")"
   ]
  },
  {
   "cell_type": "code",
   "execution_count": 5,
   "id": "467c02b7",
   "metadata": {},
   "outputs": [
    {
     "name": "stdout",
     "output_type": "stream",
     "text": [
      "Enter the price and quantity of items, enter 0 for product price to exit\n",
      "Enter the price of the item: 4.90\n",
      "Enter the quantity of the item: 5\n",
      "Enter the price of the item: 7.80\n",
      "Enter the quantity of the item: 5\n",
      "Enter the price of the item: 9.60\n",
      "Enter the quantity of the item: 4\n",
      "Enter the price of the item: 0\n",
      "The total amount including 3.5% sales tax =  105.46650000000001\n"
     ]
    }
   ],
   "source": [
    "total=0\n",
    "item=1;\n",
    "print(\"Enter the price and quantity of items, enter 0 for product price to exit\")\n",
    "\n",
    "while(True):\n",
    "    price=float(input(\"Enter the price of the item: \"))\n",
    "    if(price<0):\n",
    "        print(\"Invalid input, please enter again\")\n",
    "        continue\n",
    "    elif(price == 0):\n",
    "        break;\n",
    "\n",
    "    else:\n",
    "        qnty=float(input(\"Enter the quantity of the item: \"))\n",
    "        while(qnty<0):\n",
    "            print(\"Invalid input, please enter again\")\n",
    "            qnty=float(input(\"Enter the quantity of the item \"))\n",
    "        total=total+price*qnty\n",
    "\n",
    "Gross=total+total*0.035    \n",
    "print(\"The total amount including 3.5% sales tax = \", Gross)"
   ]
  },
  {
   "cell_type": "markdown",
   "id": "c1c33d09",
   "metadata": {},
   "source": []
  }
 ],
 "metadata": {
  "kernelspec": {
   "display_name": "Python 3 (ipykernel)",
   "language": "python",
   "name": "python3"
  },
  "language_info": {
   "codemirror_mode": {
    "name": "ipython",
    "version": 3
   },
   "file_extension": ".py",
   "mimetype": "text/x-python",
   "name": "python",
   "nbconvert_exporter": "python",
   "pygments_lexer": "ipython3",
   "version": "3.9.7"
  }
 },
 "nbformat": 4,
 "nbformat_minor": 5
}
